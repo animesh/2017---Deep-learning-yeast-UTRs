{
 "cells": [
  {
   "cell_type": "markdown",
   "metadata": {
    "colab_type": "text",
    "id": "BlmQIFSLZDdc"
   },
   "source": [
    "# GPU yeast UTR training with Pytorch\n",
    "\n",
    "This is a Pytorch version. (Python 3)"
   ]
  },
  {
   "cell_type": "code",
   "execution_count": 1,
   "metadata": {
    "colab": {
     "autoexec": {
      "startup": false,
      "wait_interval": 0
     },
     "base_uri": "https://localhost:8080/",
     "height": 34,
     "output_extras": [
      {
       "item_id": 1
      }
     ]
    },
    "colab_type": "code",
    "executionInfo": {
     "elapsed": 620,
     "status": "ok",
     "timestamp": 1518083615273,
     "user": {
      "displayName": "",
      "photoUrl": "",
      "userId": ""
     },
     "user_tz": -60
    },
    "id": "3IEVK-KFxi5Z",
    "outputId": "a0670719-5a38-416f-f249-29e64da919b3"
   },
   "outputs": [
    {
     "name": "stdout",
     "output_type": "stream",
     "text": [
      "GPU available to Torch: True\n"
     ]
    }
   ],
   "source": [
    "import torch\n",
    "print('GPU available to Torch: {}'.format(torch.cuda.is_available()))"
   ]
  },
  {
   "cell_type": "code",
   "execution_count": 13,
   "metadata": {
    "colab": {
     "autoexec": {
      "startup": false,
      "wait_interval": 0
     }
    },
    "colab_type": "code",
    "id": "8BLGXJDS1CT5"
   },
   "outputs": [],
   "source": [
    "# http://pytorch.org/\n",
    "from os import path\n",
    "from wheel.pep425tags import get_abbr_impl, get_impl_ver, get_abi_tag\n",
    "platform = '{}{}-{}'.format(get_abbr_impl(), get_impl_ver(), get_abi_tag())\n",
    "accelerator = 'cu80' if path.exists('/opt/bin/nvidia-smi') else 'cpu'\n",
    "!pip install -q http://download.pytorch.org/whl/{accelerator}/torch-0.3.0.post4-{platform}-linux_x86_64.whl torchvision\n",
    "#import torch"
   ]
  },
  {
   "cell_type": "code",
   "execution_count": 8,
   "metadata": {
    "colab": {
     "autoexec": {
      "startup": false,
      "wait_interval": 0
     },
     "base_uri": "https://localhost:8080/",
     "height": 870,
     "output_extras": [
      {
       "item_id": 13
      }
     ]
    },
    "colab_type": "code",
    "executionInfo": {
     "elapsed": 4946,
     "status": "ok",
     "timestamp": 1518084798792,
     "user": {
      "displayName": "",
      "photoUrl": "",
      "userId": ""
     },
     "user_tz": -60
    },
    "id": "vkD1oVjt5v5P",
    "outputId": "6e9a3b8c-089a-42fb-bbe7-47bc88af07a2"
   },
   "outputs": [
    {
     "name": "stdout",
     "output_type": "stream",
     "text": [
      "Requirement already satisfied: tqdm in /opt/conda/lib/python3.6/site-packages\n",
      "Requirement already satisfied: ipywidgets in /opt/conda/lib/python3.6/site-packages\n",
      "Requirement already satisfied: nbformat>=4.2.0 in /opt/conda/lib/python3.6/site-packages (from ipywidgets)\n",
      "Requirement already satisfied: traitlets>=4.3.1 in /opt/conda/lib/python3.6/site-packages (from ipywidgets)\n",
      "Requirement already satisfied: ipykernel>=4.5.1 in /opt/conda/lib/python3.6/site-packages (from ipywidgets)\n",
      "Requirement already satisfied: widgetsnbextension~=3.1.0 in /opt/conda/lib/python3.6/site-packages (from ipywidgets)\n",
      "Requirement already satisfied: ipython>=4.0.0; python_version >= \"3.3\" in /opt/conda/lib/python3.6/site-packages (from ipywidgets)\n",
      "Requirement already satisfied: jupyter-core in /opt/conda/lib/python3.6/site-packages (from nbformat>=4.2.0->ipywidgets)\n",
      "Requirement already satisfied: ipython-genutils in /opt/conda/lib/python3.6/site-packages (from nbformat>=4.2.0->ipywidgets)\n",
      "Requirement already satisfied: jsonschema!=2.5.0,>=2.4 in /opt/conda/lib/python3.6/site-packages (from nbformat>=4.2.0->ipywidgets)\n",
      "Requirement already satisfied: decorator in /opt/conda/lib/python3.6/site-packages (from traitlets>=4.3.1->ipywidgets)\n",
      "Requirement already satisfied: six in /opt/conda/lib/python3.6/site-packages (from traitlets>=4.3.1->ipywidgets)\n",
      "Requirement already satisfied: tornado>=4.0 in /opt/conda/lib/python3.6/site-packages (from ipykernel>=4.5.1->ipywidgets)\n",
      "Requirement already satisfied: jupyter-client in /opt/conda/lib/python3.6/site-packages (from ipykernel>=4.5.1->ipywidgets)\n",
      "Requirement already satisfied: notebook>=4.4.1 in /opt/conda/lib/python3.6/site-packages (from widgetsnbextension~=3.1.0->ipywidgets)\n",
      "Requirement already satisfied: pygments in /opt/conda/lib/python3.6/site-packages (from ipython>=4.0.0; python_version >= \"3.3\"->ipywidgets)\n",
      "Requirement already satisfied: prompt-toolkit<2.0.0,>=1.0.4 in /opt/conda/lib/python3.6/site-packages (from ipython>=4.0.0; python_version >= \"3.3\"->ipywidgets)\n",
      "Requirement already satisfied: pickleshare in /opt/conda/lib/python3.6/site-packages (from ipython>=4.0.0; python_version >= \"3.3\"->ipywidgets)\n",
      "Requirement already satisfied: pexpect; sys_platform != \"win32\" in /opt/conda/lib/python3.6/site-packages (from ipython>=4.0.0; python_version >= \"3.3\"->ipywidgets)\n",
      "Requirement already satisfied: simplegeneric>0.8 in /opt/conda/lib/python3.6/site-packages (from ipython>=4.0.0; python_version >= \"3.3\"->ipywidgets)\n",
      "Requirement already satisfied: setuptools>=18.5 in /opt/conda/lib/python3.6/site-packages (from ipython>=4.0.0; python_version >= \"3.3\"->ipywidgets)\n",
      "Requirement already satisfied: jedi>=0.10 in /opt/conda/lib/python3.6/site-packages (from ipython>=4.0.0; python_version >= \"3.3\"->ipywidgets)\n",
      "Requirement already satisfied: pyzmq>=13 in /opt/conda/lib/python3.6/site-packages (from jupyter-client->ipykernel>=4.5.1->ipywidgets)\n",
      "Requirement already satisfied: python-dateutil>=2.1 in /opt/conda/lib/python3.6/site-packages (from jupyter-client->ipykernel>=4.5.1->ipywidgets)\n",
      "Requirement already satisfied: nbconvert in /opt/conda/lib/python3.6/site-packages (from notebook>=4.4.1->widgetsnbextension~=3.1.0->ipywidgets)\n",
      "Requirement already satisfied: jinja2 in /opt/conda/lib/python3.6/site-packages (from notebook>=4.4.1->widgetsnbextension~=3.1.0->ipywidgets)\n",
      "Requirement already satisfied: terminado>=0.3.3; sys_platform != \"win32\" in /opt/conda/lib/python3.6/site-packages (from notebook>=4.4.1->widgetsnbextension~=3.1.0->ipywidgets)\n",
      "Requirement already satisfied: wcwidth in /opt/conda/lib/python3.6/site-packages (from prompt-toolkit<2.0.0,>=1.0.4->ipython>=4.0.0; python_version >= \"3.3\"->ipywidgets)\n",
      "Requirement already satisfied: ptyprocess>=0.5 in /opt/conda/lib/python3.6/site-packages (from pexpect; sys_platform != \"win32\"->ipython>=4.0.0; python_version >= \"3.3\"->ipywidgets)\n",
      "Requirement already satisfied: parso==0.1.1 in /opt/conda/lib/python3.6/site-packages (from jedi>=0.10->ipython>=4.0.0; python_version >= \"3.3\"->ipywidgets)\n",
      "Requirement already satisfied: bleach in /opt/conda/lib/python3.6/site-packages (from nbconvert->notebook>=4.4.1->widgetsnbextension~=3.1.0->ipywidgets)\n",
      "Requirement already satisfied: mistune>=0.7.4 in /opt/conda/lib/python3.6/site-packages (from nbconvert->notebook>=4.4.1->widgetsnbextension~=3.1.0->ipywidgets)\n",
      "Requirement already satisfied: entrypoints>=0.2.2 in /opt/conda/lib/python3.6/site-packages (from nbconvert->notebook>=4.4.1->widgetsnbextension~=3.1.0->ipywidgets)\n",
      "Requirement already satisfied: testpath in /opt/conda/lib/python3.6/site-packages (from nbconvert->notebook>=4.4.1->widgetsnbextension~=3.1.0->ipywidgets)\n",
      "Requirement already satisfied: pandocfilters>=1.4.1 in /opt/conda/lib/python3.6/site-packages (from nbconvert->notebook>=4.4.1->widgetsnbextension~=3.1.0->ipywidgets)\n",
      "Requirement already satisfied: MarkupSafe>=0.23 in /opt/conda/lib/python3.6/site-packages (from jinja2->notebook>=4.4.1->widgetsnbextension~=3.1.0->ipywidgets)\n",
      "Requirement already satisfied: html5lib!=0.9999,!=0.99999,<0.99999999,>=0.999 in /opt/conda/lib/python3.6/site-packages (from bleach->nbconvert->notebook>=4.4.1->widgetsnbextension~=3.1.0->ipywidgets)\n"
     ]
    }
   ],
   "source": [
    "!pip install tqdm ipywidgets"
   ]
  },
  {
   "cell_type": "code",
   "execution_count": 2,
   "metadata": {
    "colab": {
     "autoexec": {
      "startup": false,
      "wait_interval": 0
     }
    },
    "colab_type": "code",
    "id": "g-Y78R0yls2T"
   },
   "outputs": [],
   "source": [
    "import sys\n",
    "import torch\n",
    "from torch.utils.data import Dataset, DataLoader\n",
    "from torch.autograd import Variable\n",
    "import torch.nn as nn\n",
    "import torch.nn.functional as F\n",
    "import torch.optim as optim\n",
    "import pandas as pd\n",
    "import numpy as np\n",
    "import random\n"
   ]
  },
  {
   "cell_type": "code",
   "execution_count": 4,
   "metadata": {
    "colab": {
     "autoexec": {
      "startup": false,
      "wait_interval": 0
     }
    },
    "colab_type": "code",
    "id": "NgAHXy_R5mdf"
   },
   "outputs": [],
   "source": [
    "import ipywidgets\n",
    "from ipywidgets import IntProgress\n",
    "from tqdm import tqdm_notebook as tqdm\n",
    "from tqdm import tqdm"
   ]
  },
  {
   "cell_type": "markdown",
   "metadata": {
    "colab_type": "text",
    "id": "M_wowj3Z5YM5"
   },
   "source": [
    "Define a class that handles DNA datasets. Crucially, it includes a function __getitem__ which is used in the DataLoader later.\n",
    "\n",
    "We also define a class for the neural network model."
   ]
  },
  {
   "cell_type": "code",
   "execution_count": 5,
   "metadata": {
    "colab": {
     "autoexec": {
      "startup": false,
      "wait_interval": 0
     }
    },
    "colab_type": "code",
    "id": "E9kjiW-hmUBu"
   },
   "outputs": [],
   "source": [
    "class DNADataset(Dataset):\n",
    "\n",
    "    def __init__(self, df, seq_len):\n",
    "        self.data = df\n",
    "        self.bases = ['A','C','G','T']\n",
    "        self.base_dict = dict(zip(self.bases,range(4))) # {'A' : 0, 'C' : 1, 'G' : 2, 'T' : 3}\n",
    "        self.total_width = seq_len + 20\n",
    "\n",
    "    def __len__(self):\n",
    "        return (self.data.shape[0])\n",
    "\n",
    "    def __getitem__(self, idx):\n",
    "        seq = self.data.iloc[idx].UTR\n",
    "        X = np.zeros((1, 4, self.total_width))\n",
    "        y = self.data.iloc[idx].growth_rate\n",
    "        for b in range(len(seq)):\n",
    "            # this will assign a 1 to the appropriate base and position for this UTR sequence\n",
    "            X[0, self.base_dict[seq[b]], int(b + round((self.total_width - len(seq))/2.))] = 1.\n",
    "        return(seq, X, y)\n",
    "\n",
    "class Net(nn.Module):\n",
    "    def __init__(self):\n",
    "        super(Net, self).__init__()\n",
    "        self.conv1 = nn.Conv2d(in_channels=1, out_channels=128, kernel_size=(4, 13))\n",
    "        self.dropout = nn.Dropout(p=0.15)\n",
    "        self.conv2 = nn.Conv2d(128, 128, (1,13))\n",
    "        self.fc1 = nn.Linear(128 * 1 * 34, 64)\n",
    "        self.fc2 = nn.Linear(64, 1)\n",
    "\n",
    "    def forward(self, x):\n",
    "        x = F.relu(self.conv1(x))\n",
    "        x = self.dropout(x)\n",
    "        x = F.relu(self.conv2(x))\n",
    "        x = self.dropout(x)\n",
    "        x = F.relu(self.conv2(x))\n",
    "        x = self.dropout(x)\n",
    "        x = x.view(-1, 128 * 1 * 34)\n",
    "        x = F.relu(self.fc1(x))\n",
    "        x = self.fc2(x)\n",
    "        return x\n",
    "\n",
    "net = Net()\n",
    "\n",
    "net = net.cuda() # to run it on GPU, if available\n",
    "\n",
    "# Loss function etc.\n",
    "criterion = nn.MSELoss()\n",
    "optimizer = optim.Adam(net.parameters())"
   ]
  },
  {
   "cell_type": "markdown",
   "metadata": {
    "colab_type": "text",
    "id": "FkSf5VDO-Pd2"
   },
   "source": [
    "Look at the configuration of the net."
   ]
  },
  {
   "cell_type": "code",
   "execution_count": 6,
   "metadata": {
    "colab": {
     "autoexec": {
      "startup": false,
      "wait_interval": 0
     },
     "base_uri": "https://localhost:8080/",
     "height": 136,
     "output_extras": [
      {
       "item_id": 1
      }
     ]
    },
    "colab_type": "code",
    "executionInfo": {
     "elapsed": 596,
     "status": "ok",
     "timestamp": 1518084843983,
     "user": {
      "displayName": "",
      "photoUrl": "",
      "userId": ""
     },
     "user_tz": -60
    },
    "id": "Hm7lb_6l7go7",
    "outputId": "147d8970-f130-4c8e-dd6d-b36195f3fc17"
   },
   "outputs": [
    {
     "data": {
      "text/plain": [
       "Net(\n",
       "  (conv1): Conv2d(1, 128, kernel_size=(4, 13), stride=(1, 1))\n",
       "  (dropout): Dropout(p=0.15)\n",
       "  (conv2): Conv2d(128, 128, kernel_size=(1, 13), stride=(1, 1))\n",
       "  (fc1): Linear(in_features=4352, out_features=64, bias=True)\n",
       "  (fc2): Linear(in_features=64, out_features=1, bias=True)\n",
       ")"
      ]
     },
     "execution_count": 6,
     "metadata": {},
     "output_type": "execute_result"
    }
   ],
   "source": [
    "net"
   ]
  },
  {
   "cell_type": "markdown",
   "metadata": {
    "colab_type": "text",
    "id": "c0PwTkY3-czO"
   },
   "source": [
    "Read the data and sort by t0 as in the original Keras notebook. I hope that the validation set will also come out the same way as in the Keras notebook. "
   ]
  },
  {
   "cell_type": "code",
   "execution_count": 7,
   "metadata": {
    "colab": {
     "autoexec": {
      "startup": false,
      "wait_interval": 0
     }
    },
    "colab_type": "code",
    "id": "t2XVKoWUpBqV"
   },
   "outputs": [],
   "source": [
    "#df = pd.read_csv(\"drive/Mikael-Colab/Random_UTRs.csv\")\n",
    "import pandas as pd\n",
    "df = pd.read_csv(\"https://github.com/animesh/2017---Deep-learning-yeast-UTRs/raw/master/Data/Random_UTRs.csv.gz\")\n",
    "sorted_inds = df.sort_values('t0').index.values\n",
    "train_inds = sorted_inds[:int(0.95*len(sorted_inds))] # 95% of the data as the training set\n",
    "# Separate out test set\n",
    "test_inds = sorted_inds[int(0.95*len(sorted_inds)):] # UTRs with most reads at time point 0 as the test set\n",
    "# Get validation set\n",
    "val_idx = int(0.9*len(train_inds))\n",
    "val_inds = train_inds[val_idx:]\n",
    "train_inds = train_inds[:val_idx]\n"
   ]
  },
  {
   "cell_type": "code",
   "execution_count": 8,
   "metadata": {
    "colab": {
     "autoexec": {
      "startup": false,
      "wait_interval": 0
     },
     "base_uri": "https://localhost:8080/",
     "height": 241,
     "output_extras": [
      {
       "item_id": 1
      }
     ]
    },
    "colab_type": "code",
    "executionInfo": {
     "elapsed": 2686,
     "status": "ok",
     "timestamp": 1518084584398,
     "user": {
      "displayName": "",
      "photoUrl": "",
      "userId": ""
     },
     "user_tz": -60
    },
    "id": "CbpqVnI45Fup",
    "outputId": "55d79275-5d09-4776-d090-85e9e152b558"
   },
   "outputs": [
    {
     "data": {
      "text/html": [
       "<div>\n",
       "<style scoped>\n",
       "    .dataframe tbody tr th:only-of-type {\n",
       "        vertical-align: middle;\n",
       "    }\n",
       "\n",
       "    .dataframe tbody tr th {\n",
       "        vertical-align: top;\n",
       "    }\n",
       "\n",
       "    .dataframe thead th {\n",
       "        text-align: right;\n",
       "    }\n",
       "</style>\n",
       "<table border=\"1\" class=\"dataframe\">\n",
       "  <thead>\n",
       "    <tr style=\"text-align: right;\">\n",
       "      <th></th>\n",
       "      <th>Unnamed: 0</th>\n",
       "      <th>UTR</th>\n",
       "      <th>growth_rate</th>\n",
       "      <th>t0</th>\n",
       "      <th>t1</th>\n",
       "    </tr>\n",
       "  </thead>\n",
       "  <tbody>\n",
       "    <tr>\n",
       "      <th>0</th>\n",
       "      <td>0</td>\n",
       "      <td>AAAAAAAAAACATAATAACGATGATCAGTTAAAATCATAGTCTAAG...</td>\n",
       "      <td>-1.237065</td>\n",
       "      <td>14</td>\n",
       "      <td>3</td>\n",
       "    </tr>\n",
       "    <tr>\n",
       "      <th>1</th>\n",
       "      <td>1</td>\n",
       "      <td>AAAAAAAAAAGACTACAACAGATTGTAGTGGCGGACCAGTGTGCCT...</td>\n",
       "      <td>1.288663</td>\n",
       "      <td>14</td>\n",
       "      <td>49</td>\n",
       "    </tr>\n",
       "    <tr>\n",
       "      <th>2</th>\n",
       "      <td>2</td>\n",
       "      <td>AAAAAAAAAATATGGGGCCCTGTTCCAAAGATACCTCAATTTCATA...</td>\n",
       "      <td>-0.608457</td>\n",
       "      <td>13</td>\n",
       "      <td>6</td>\n",
       "    </tr>\n",
       "    <tr>\n",
       "      <th>3</th>\n",
       "      <td>3</td>\n",
       "      <td>AAAAAAAAAATCTCTGGCCCGATTATACTGGAGCTAATGTAAAATT...</td>\n",
       "      <td>-1.093964</td>\n",
       "      <td>12</td>\n",
       "      <td>3</td>\n",
       "    </tr>\n",
       "    <tr>\n",
       "      <th>4</th>\n",
       "      <td>4</td>\n",
       "      <td>AAAAAAAAACATAAATATGAAGGCCTGACATTATAAATAACTTACC...</td>\n",
       "      <td>-0.048841</td>\n",
       "      <td>7</td>\n",
       "      <td>6</td>\n",
       "    </tr>\n",
       "  </tbody>\n",
       "</table>\n",
       "</div>"
      ],
      "text/plain": [
       "   Unnamed: 0                                                UTR  growth_rate  \\\n",
       "0           0  AAAAAAAAAACATAATAACGATGATCAGTTAAAATCATAGTCTAAG...    -1.237065   \n",
       "1           1  AAAAAAAAAAGACTACAACAGATTGTAGTGGCGGACCAGTGTGCCT...     1.288663   \n",
       "2           2  AAAAAAAAAATATGGGGCCCTGTTCCAAAGATACCTCAATTTCATA...    -0.608457   \n",
       "3           3  AAAAAAAAAATCTCTGGCCCGATTATACTGGAGCTAATGTAAAATT...    -1.093964   \n",
       "4           4  AAAAAAAAACATAAATATGAAGGCCTGACATTATAAATAACTTACC...    -0.048841   \n",
       "\n",
       "   t0  t1  \n",
       "0  14   3  \n",
       "1  14  49  \n",
       "2  13   6  \n",
       "3  12   3  \n",
       "4   7   6  "
      ]
     },
     "execution_count": 8,
     "metadata": {},
     "output_type": "execute_result"
    }
   ],
   "source": [
    "#df = pd.read_csv(\"https://github.com/animesh/2017---Deep-learning-yeast-UTRs/raw/master/Data/Random_UTRs.csv.gz\")\n",
    "df.head()"
   ]
  },
  {
   "cell_type": "markdown",
   "metadata": {
    "colab_type": "text",
    "id": "rSkdEEDT_Fh9"
   },
   "source": [
    "Now Pytorch's DataLoader functionality is used to extract batches of the data."
   ]
  },
  {
   "cell_type": "code",
   "execution_count": 9,
   "metadata": {
    "colab": {
     "autoexec": {
      "startup": false,
      "wait_interval": 0
     }
    },
    "colab_type": "code",
    "id": "SMIdsn4npJvf"
   },
   "outputs": [],
   "source": [
    "train_data = DNADataset(df.iloc[train_inds], seq_len=50)\n",
    "val_data = DNADataset(df.iloc[val_inds], seq_len=50)\n",
    "test_data = DNADataset(df.iloc[test_inds], seq_len=50)\n",
    "\n",
    "train_data_loader = DataLoader(train_data, batch_size=32,\n",
    "                        shuffle=True, num_workers=4)\n",
    "\n",
    "val_data_loader = DataLoader(val_data, batch_size=32) # Validate everything in one batch?!\n",
    "#seq_val, X_val, y_val = next(iter(val_data_loader))\n",
    "\n",
    "test_data_loader = DataLoader(test_data, batch_size=32) # Validate everything in one batch?!\n",
    "#seq_test, X_test, y_test = next(iter(test_data_loader))\n"
   ]
  },
  {
   "cell_type": "markdown",
   "metadata": {
    "colab_type": "text",
    "id": "aRjgMkVU_UbD"
   },
   "source": [
    "The training loop contains an evaluation every 1000 steps. I did not bother to make an early stopping functionality although that would have been nice."
   ]
  },
  {
   "cell_type": "code",
   "execution_count": 10,
   "metadata": {
    "colab": {
     "autoexec": {
      "startup": false,
      "wait_interval": 0
     },
     "base_uri": "https://localhost:8080/",
     "height": 197934,
     "output_extras": [
      {
       "item_id": 865
      },
      {
       "item_id": 866
      },
      {
       "item_id": 867
      },
      {
       "item_id": 869
      },
      {
       "item_id": 870
      },
      {
       "item_id": 871
      },
      {
       "item_id": 872
      },
      {
       "item_id": 873
      },
      {
       "item_id": 874
      },
      {
       "item_id": 875
      },
      {
       "item_id": 876
      },
      {
       "item_id": 877
      },
      {
       "item_id": 878
      },
      {
       "item_id": 879
      },
      {
       "item_id": 880
      },
      {
       "item_id": 882
      },
      {
       "item_id": 883
      },
      {
       "item_id": 884
      },
      {
       "item_id": 885
      },
      {
       "item_id": 886
      },
      {
       "item_id": 887
      },
      {
       "item_id": 888
      },
      {
       "item_id": 889
      },
      {
       "item_id": 891
      },
      {
       "item_id": 892
      },
      {
       "item_id": 893
      },
      {
       "item_id": 894
      },
      {
       "item_id": 895
      },
      {
       "item_id": 896
      },
      {
       "item_id": 897
      },
      {
       "item_id": 898
      },
      {
       "item_id": 899
      },
      {
       "item_id": 900
      },
      {
       "item_id": 902
      },
      {
       "item_id": 903
      },
      {
       "item_id": 904
      },
      {
       "item_id": 905
      },
      {
       "item_id": 906
      },
      {
       "item_id": 907
      },
      {
       "item_id": 908
      },
      {
       "item_id": 909
      },
      {
       "item_id": 911
      },
      {
       "item_id": 912
      },
      {
       "item_id": 913
      },
      {
       "item_id": 914
      },
      {
       "item_id": 915
      },
      {
       "item_id": 916
      },
      {
       "item_id": 917
      },
      {
       "item_id": 918
      },
      {
       "item_id": 920
      },
      {
       "item_id": 921
      },
      {
       "item_id": 922
      },
      {
       "item_id": 923
      },
      {
       "item_id": 924
      },
      {
       "item_id": 925
      },
      {
       "item_id": 926
      },
      {
       "item_id": 927
      },
      {
       "item_id": 928
      },
      {
       "item_id": 929
      },
      {
       "item_id": 930
      },
      {
       "item_id": 931
      },
      {
       "item_id": 932
      },
      {
       "item_id": 933
      },
      {
       "item_id": 934
      },
      {
       "item_id": 935
      },
      {
       "item_id": 936
      },
      {
       "item_id": 937
      },
      {
       "item_id": 938
      },
      {
       "item_id": 939
      },
      {
       "item_id": 941
      },
      {
       "item_id": 942
      },
      {
       "item_id": 943
      },
      {
       "item_id": 944
      },
      {
       "item_id": 945
      },
      {
       "item_id": 946
      },
      {
       "item_id": 947
      },
      {
       "item_id": 948
      },
      {
       "item_id": 950
      },
      {
       "item_id": 951
      },
      {
       "item_id": 952
      },
      {
       "item_id": 953
      },
      {
       "item_id": 954
      },
      {
       "item_id": 955
      },
      {
       "item_id": 956
      },
      {
       "item_id": 957
      },
      {
       "item_id": 959
      },
      {
       "item_id": 960
      },
      {
       "item_id": 961
      },
      {
       "item_id": 962
      },
      {
       "item_id": 963
      },
      {
       "item_id": 964
      },
      {
       "item_id": 965
      },
      {
       "item_id": 966
      },
      {
       "item_id": 967
      },
      {
       "item_id": 968
      },
      {
       "item_id": 969
      },
      {
       "item_id": 970
      },
      {
       "item_id": 972
      },
      {
       "item_id": 973
      },
      {
       "item_id": 974
      },
      {
       "item_id": 975
      },
      {
       "item_id": 976
      },
      {
       "item_id": 977
      },
      {
       "item_id": 978
      },
      {
       "item_id": 979
      },
      {
       "item_id": 980
      },
      {
       "item_id": 981
      },
      {
       "item_id": 982
      },
      {
       "item_id": 983
      },
      {
       "item_id": 984
      },
      {
       "item_id": 985
      },
      {
       "item_id": 986
      },
      {
       "item_id": 987
      },
      {
       "item_id": 988
      },
      {
       "item_id": 989
      },
      {
       "item_id": 991
      },
      {
       "item_id": 992
      },
      {
       "item_id": 993
      },
      {
       "item_id": 994
      },
      {
       "item_id": 995
      },
      {
       "item_id": 996
      },
      {
       "item_id": 997
      },
      {
       "item_id": 998
      },
      {
       "item_id": 1000
      },
      {
       "item_id": 1001
      },
      {
       "item_id": 1002
      },
      {
       "item_id": 1003
      },
      {
       "item_id": 1004
      },
      {
       "item_id": 1005
      },
      {
       "item_id": 1006
      },
      {
       "item_id": 1007
      },
      {
       "item_id": 1008
      },
      {
       "item_id": 1009
      },
      {
       "item_id": 1011
      },
      {
       "item_id": 1012
      },
      {
       "item_id": 1013
      },
      {
       "item_id": 1014
      },
      {
       "item_id": 1015
      },
      {
       "item_id": 1016
      },
      {
       "item_id": 1017
      },
      {
       "item_id": 1018
      },
      {
       "item_id": 1020
      },
      {
       "item_id": 1021
      },
      {
       "item_id": 1022
      },
      {
       "item_id": 1023
      },
      {
       "item_id": 1024
      },
      {
       "item_id": 1025
      },
      {
       "item_id": 1026
      },
      {
       "item_id": 1027
      },
      {
       "item_id": 1028
      },
      {
       "item_id": 1029
      },
      {
       "item_id": 1030
      },
      {
       "item_id": 1031
      },
      {
       "item_id": 1032
      },
      {
       "item_id": 1033
      },
      {
       "item_id": 1034
      },
      {
       "item_id": 1035
      },
      {
       "item_id": 1036
      },
      {
       "item_id": 1037
      },
      {
       "item_id": 1038
      },
      {
       "item_id": 1039
      },
      {
       "item_id": 1041
      },
      {
       "item_id": 1042
      },
      {
       "item_id": 1043
      },
      {
       "item_id": 1044
      },
      {
       "item_id": 1045
      },
      {
       "item_id": 1046
      },
      {
       "item_id": 1047
      },
      {
       "item_id": 1048
      },
      {
       "item_id": 1049
      },
      {
       "item_id": 1050
      },
      {
       "item_id": 1052
      },
      {
       "item_id": 1053
      },
      {
       "item_id": 1054
      },
      {
       "item_id": 1055
      },
      {
       "item_id": 1056
      },
      {
       "item_id": 1057
      },
      {
       "item_id": 1058
      },
      {
       "item_id": 1059
      },
      {
       "item_id": 1061
      },
      {
       "item_id": 1062
      },
      {
       "item_id": 1063
      },
      {
       "item_id": 1064
      },
      {
       "item_id": 1065
      },
      {
       "item_id": 1066
      },
      {
       "item_id": 1067
      },
      {
       "item_id": 1068
      },
      {
       "item_id": 1070
      },
      {
       "item_id": 1071
      },
      {
       "item_id": 1072
      },
      {
       "item_id": 1073
      },
      {
       "item_id": 1074
      },
      {
       "item_id": 1075
      },
      {
       "item_id": 1076
      },
      {
       "item_id": 1077
      },
      {
       "item_id": 1078
      },
      {
       "item_id": 1079
      },
      {
       "item_id": 1081
      },
      {
       "item_id": 1082
      },
      {
       "item_id": 1083
      },
      {
       "item_id": 1084
      },
      {
       "item_id": 1085
      },
      {
       "item_id": 1086
      },
      {
       "item_id": 1087
      },
      {
       "item_id": 1088
      },
      {
       "item_id": 1089
      },
      {
       "item_id": 1090
      },
      {
       "item_id": 1091
      },
      {
       "item_id": 1092
      },
      {
       "item_id": 1093
      },
      {
       "item_id": 1094
      },
      {
       "item_id": 1095
      },
      {
       "item_id": 1096
      },
      {
       "item_id": 1097
      },
      {
       "item_id": 1098
      },
      {
       "item_id": 1099
      },
      {
       "item_id": 1100
      },
      {
       "item_id": 1101
      },
      {
       "item_id": 1102
      },
      {
       "item_id": 1103
      },
      {
       "item_id": 1104
      },
      {
       "item_id": 1105
      },
      {
       "item_id": 1106
      },
      {
       "item_id": 1107
      },
      {
       "item_id": 1108
      },
      {
       "item_id": 1110
      },
      {
       "item_id": 1111
      },
      {
       "item_id": 1112
      },
      {
       "item_id": 1113
      },
      {
       "item_id": 1114
      },
      {
       "item_id": 1115
      },
      {
       "item_id": 1116
      },
      {
       "item_id": 1117
      },
      {
       "item_id": 1118
      },
      {
       "item_id": 1119
      },
      {
       "item_id": 1120
      },
      {
       "item_id": 1121
      },
      {
       "item_id": 1122
      },
      {
       "item_id": 1123
      },
      {
       "item_id": 1124
      },
      {
       "item_id": 1125
      },
      {
       "item_id": 1126
      },
      {
       "item_id": 1127
      },
      {
       "item_id": 1129
      },
      {
       "item_id": 1130
      },
      {
       "item_id": 1131
      },
      {
       "item_id": 1132
      },
      {
       "item_id": 1133
      },
      {
       "item_id": 1134
      },
      {
       "item_id": 1135
      },
      {
       "item_id": 1136
      },
      {
       "item_id": 1137
      },
      {
       "item_id": 1138
      },
      {
       "item_id": 1140
      },
      {
       "item_id": 1141
      },
      {
       "item_id": 1142
      },
      {
       "item_id": 1143
      },
      {
       "item_id": 1144
      },
      {
       "item_id": 1145
      },
      {
       "item_id": 1146
      },
      {
       "item_id": 1147
      },
      {
       "item_id": 1149
      },
      {
       "item_id": 1150
      },
      {
       "item_id": 1151
      },
      {
       "item_id": 1152
      },
      {
       "item_id": 1153
      },
      {
       "item_id": 1154
      },
      {
       "item_id": 1155
      },
      {
       "item_id": 1156
      },
      {
       "item_id": 1157
      },
      {
       "item_id": 1158
      },
      {
       "item_id": 1160
      },
      {
       "item_id": 1161
      },
      {
       "item_id": 1162
      },
      {
       "item_id": 1163
      },
      {
       "item_id": 1164
      },
      {
       "item_id": 1165
      },
      {
       "item_id": 1166
      },
      {
       "item_id": 1167
      },
      {
       "item_id": 1168
      },
      {
       "item_id": 1169
      },
      {
       "item_id": 1171
      },
      {
       "item_id": 1172
      },
      {
       "item_id": 1173
      },
      {
       "item_id": 1174
      },
      {
       "item_id": 1175
      },
      {
       "item_id": 1176
      },
      {
       "item_id": 1177
      },
      {
       "item_id": 1178
      },
      {
       "item_id": 1180
      },
      {
       "item_id": 1181
      },
      {
       "item_id": 1182
      },
      {
       "item_id": 1183
      },
      {
       "item_id": 1184
      },
      {
       "item_id": 1185
      },
      {
       "item_id": 1186
      },
      {
       "item_id": 1187
      },
      {
       "item_id": 1189
      },
      {
       "item_id": 1190
      },
      {
       "item_id": 1191
      },
      {
       "item_id": 1192
      },
      {
       "item_id": 1193
      },
      {
       "item_id": 1194
      },
      {
       "item_id": 1195
      },
      {
       "item_id": 1196
      },
      {
       "item_id": 1197
      },
      {
       "item_id": 1198
      },
      {
       "item_id": 1200
      },
      {
       "item_id": 1201
      },
      {
       "item_id": 1202
      },
      {
       "item_id": 1203
      },
      {
       "item_id": 1204
      },
      {
       "item_id": 1205
      },
      {
       "item_id": 1206
      },
      {
       "item_id": 1207
      },
      {
       "item_id": 1208
      },
      {
       "item_id": 1209
      },
      {
       "item_id": 1211
      },
      {
       "item_id": 1212
      },
      {
       "item_id": 1213
      },
      {
       "item_id": 1214
      },
      {
       "item_id": 1215
      },
      {
       "item_id": 1216
      },
      {
       "item_id": 1217
      },
      {
       "item_id": 1218
      },
      {
       "item_id": 1220
      },
      {
       "item_id": 1221
      },
      {
       "item_id": 1222
      },
      {
       "item_id": 1223
      },
      {
       "item_id": 1224
      },
      {
       "item_id": 1225
      },
      {
       "item_id": 1226
      },
      {
       "item_id": 1227
      },
      {
       "item_id": 1228
      },
      {
       "item_id": 1229
      },
      {
       "item_id": 1231
      },
      {
       "item_id": 1232
      },
      {
       "item_id": 1233
      },
      {
       "item_id": 1234
      },
      {
       "item_id": 1235
      },
      {
       "item_id": 1236
      },
      {
       "item_id": 1237
      },
      {
       "item_id": 1238
      },
      {
       "item_id": 1239
      },
      {
       "item_id": 1240
      },
      {
       "item_id": 1242
      },
      {
       "item_id": 1243
      },
      {
       "item_id": 1244
      },
      {
       "item_id": 1245
      },
      {
       "item_id": 1246
      },
      {
       "item_id": 1247
      },
      {
       "item_id": 1248
      },
      {
       "item_id": 1249
      },
      {
       "item_id": 1251
      },
      {
       "item_id": 1252
      },
      {
       "item_id": 1253
      },
      {
       "item_id": 1254
      },
      {
       "item_id": 1255
      },
      {
       "item_id": 1256
      },
      {
       "item_id": 1257
      },
      {
       "item_id": 1258
      },
      {
       "item_id": 1259
      },
      {
       "item_id": 1260
      },
      {
       "item_id": 1262
      },
      {
       "item_id": 1263
      },
      {
       "item_id": 1264
      },
      {
       "item_id": 1265
      },
      {
       "item_id": 1266
      },
      {
       "item_id": 1267
      },
      {
       "item_id": 1268
      },
      {
       "item_id": 1269
      },
      {
       "item_id": 1533
      },
      {
       "item_id": 1534
      },
      {
       "item_id": 1535
      },
      {
       "item_id": 1536
      },
      {
       "item_id": 1537
      },
      {
       "item_id": 1539
      },
      {
       "item_id": 1540
      },
      {
       "item_id": 1541
      },
      {
       "item_id": 1542
      },
      {
       "item_id": 1543
      },
      {
       "item_id": 1544
      },
      {
       "item_id": 1545
      },
      {
       "item_id": 1546
      },
      {
       "item_id": 1547
      },
      {
       "item_id": 1548
      },
      {
       "item_id": 1550
      },
      {
       "item_id": 1551
      },
      {
       "item_id": 1552
      },
      {
       "item_id": 1553
      },
      {
       "item_id": 1554
      },
      {
       "item_id": 1555
      },
      {
       "item_id": 1556
      },
      {
       "item_id": 1557
      },
      {
       "item_id": 1559
      },
      {
       "item_id": 1560
      },
      {
       "item_id": 1561
      },
      {
       "item_id": 1562
      },
      {
       "item_id": 1563
      },
      {
       "item_id": 1564
      },
      {
       "item_id": 1565
      },
      {
       "item_id": 1566
      },
      {
       "item_id": 1568
      },
      {
       "item_id": 1569
      },
      {
       "item_id": 1570
      },
      {
       "item_id": 1571
      },
      {
       "item_id": 1572
      },
      {
       "item_id": 1573
      },
      {
       "item_id": 1574
      },
      {
       "item_id": 1575
      },
      {
       "item_id": 1576
      },
      {
       "item_id": 1577
      },
      {
       "item_id": 1579
      },
      {
       "item_id": 1580
      },
      {
       "item_id": 1581
      },
      {
       "item_id": 1582
      },
      {
       "item_id": 1583
      },
      {
       "item_id": 1584
      },
      {
       "item_id": 1585
      },
      {
       "item_id": 1586
      },
      {
       "item_id": 1587
      },
      {
       "item_id": 1588
      },
      {
       "item_id": 1590
      },
      {
       "item_id": 1591
      },
      {
       "item_id": 1592
      },
      {
       "item_id": 1593
      },
      {
       "item_id": 1594
      },
      {
       "item_id": 1595
      },
      {
       "item_id": 1596
      },
      {
       "item_id": 1597
      },
      {
       "item_id": 1599
      },
      {
       "item_id": 1600
      },
      {
       "item_id": 1601
      },
      {
       "item_id": 1602
      },
      {
       "item_id": 1603
      },
      {
       "item_id": 1604
      },
      {
       "item_id": 1605
      },
      {
       "item_id": 1606
      },
      {
       "item_id": 1607
      },
      {
       "item_id": 1608
      },
      {
       "item_id": 1610
      },
      {
       "item_id": 1611
      },
      {
       "item_id": 1612
      },
      {
       "item_id": 1613
      },
      {
       "item_id": 1614
      },
      {
       "item_id": 1615
      },
      {
       "item_id": 1616
      },
      {
       "item_id": 1617
      },
      {
       "item_id": 1619
      },
      {
       "item_id": 1620
      },
      {
       "item_id": 1621
      },
      {
       "item_id": 1622
      },
      {
       "item_id": 1623
      },
      {
       "item_id": 1624
      },
      {
       "item_id": 1625
      },
      {
       "item_id": 1626
      },
      {
       "item_id": 1628
      },
      {
       "item_id": 1629
      },
      {
       "item_id": 1630
      },
      {
       "item_id": 1631
      },
      {
       "item_id": 1632
      },
      {
       "item_id": 1633
      },
      {
       "item_id": 1634
      },
      {
       "item_id": 1635
      },
      {
       "item_id": 1636
      },
      {
       "item_id": 1637
      },
      {
       "item_id": 1638
      },
      {
       "item_id": 1639
      },
      {
       "item_id": 1640
      },
      {
       "item_id": 1641
      },
      {
       "item_id": 1642
      },
      {
       "item_id": 1643
      },
      {
       "item_id": 1644
      },
      {
       "item_id": 1645
      },
      {
       "item_id": 1646
      },
      {
       "item_id": 1647
      },
      {
       "item_id": 1648
      },
      {
       "item_id": 1649
      },
      {
       "item_id": 1651
      },
      {
       "item_id": 1652
      },
      {
       "item_id": 1653
      },
      {
       "item_id": 1654
      },
      {
       "item_id": 1655
      },
      {
       "item_id": 1656
      },
      {
       "item_id": 1657
      },
      {
       "item_id": 1658
      },
      {
       "item_id": 1659
      },
      {
       "item_id": 1660
      },
      {
       "item_id": 1661
      },
      {
       "item_id": 1662
      },
      {
       "item_id": 1663
      },
      {
       "item_id": 1664
      },
      {
       "item_id": 1665
      },
      {
       "item_id": 1666
      },
      {
       "item_id": 1668
      },
      {
       "item_id": 1669
      },
      {
       "item_id": 1670
      },
      {
       "item_id": 1671
      },
      {
       "item_id": 1672
      },
      {
       "item_id": 1673
      },
      {
       "item_id": 1674
      },
      {
       "item_id": 1675
      },
      {
       "item_id": 1676
      },
      {
       "item_id": 1677
      },
      {
       "item_id": 1679
      },
      {
       "item_id": 1680
      },
      {
       "item_id": 1681
      },
      {
       "item_id": 1682
      },
      {
       "item_id": 1683
      },
      {
       "item_id": 1684
      },
      {
       "item_id": 1685
      },
      {
       "item_id": 1686
      },
      {
       "item_id": 1688
      },
      {
       "item_id": 1689
      },
      {
       "item_id": 1690
      },
      {
       "item_id": 1691
      },
      {
       "item_id": 1692
      },
      {
       "item_id": 1693
      },
      {
       "item_id": 1694
      },
      {
       "item_id": 1695
      },
      {
       "item_id": 1696
      },
      {
       "item_id": 1697
      },
      {
       "item_id": 1699
      },
      {
       "item_id": 1700
      },
      {
       "item_id": 1701
      },
      {
       "item_id": 1702
      },
      {
       "item_id": 1703
      },
      {
       "item_id": 1704
      },
      {
       "item_id": 1705
      },
      {
       "item_id": 1706
      },
      {
       "item_id": 1708
      },
      {
       "item_id": 1709
      },
      {
       "item_id": 1710
      },
      {
       "item_id": 1711
      },
      {
       "item_id": 1712
      },
      {
       "item_id": 1713
      },
      {
       "item_id": 1714
      },
      {
       "item_id": 1715
      },
      {
       "item_id": 1716
      },
      {
       "item_id": 1717
      },
      {
       "item_id": 1719
      },
      {
       "item_id": 1720
      },
      {
       "item_id": 1721
      },
      {
       "item_id": 1722
      },
      {
       "item_id": 1723
      },
      {
       "item_id": 1724
      },
      {
       "item_id": 1725
      },
      {
       "item_id": 1726
      },
      {
       "item_id": 1728
      },
      {
       "item_id": 1729
      },
      {
       "item_id": 1730
      },
      {
       "item_id": 1731
      },
      {
       "item_id": 1732
      },
      {
       "item_id": 1733
      },
      {
       "item_id": 1734
      },
      {
       "item_id": 1735
      },
      {
       "item_id": 1736
      },
      {
       "item_id": 1737
      },
      {
       "item_id": 1739
      },
      {
       "item_id": 1740
      },
      {
       "item_id": 1741
      },
      {
       "item_id": 1742
      },
      {
       "item_id": 1743
      },
      {
       "item_id": 1744
      },
      {
       "item_id": 1745
      },
      {
       "item_id": 1746
      },
      {
       "item_id": 1748
      },
      {
       "item_id": 1749
      },
      {
       "item_id": 1750
      },
      {
       "item_id": 1751
      },
      {
       "item_id": 1752
      },
      {
       "item_id": 1753
      },
      {
       "item_id": 1754
      },
      {
       "item_id": 1755
      },
      {
       "item_id": 1756
      },
      {
       "item_id": 1757
      },
      {
       "item_id": 1759
      },
      {
       "item_id": 1760
      },
      {
       "item_id": 1761
      },
      {
       "item_id": 1762
      },
      {
       "item_id": 1763
      },
      {
       "item_id": 1764
      },
      {
       "item_id": 1765
      },
      {
       "item_id": 1766
      },
      {
       "item_id": 1768
      },
      {
       "item_id": 1769
      },
      {
       "item_id": 1770
      },
      {
       "item_id": 1771
      },
      {
       "item_id": 1772
      },
      {
       "item_id": 1773
      },
      {
       "item_id": 1774
      },
      {
       "item_id": 1775
      },
      {
       "item_id": 1776
      },
      {
       "item_id": 1777
      },
      {
       "item_id": 1778
      },
      {
       "item_id": 1779
      },
      {
       "item_id": 1781
      },
      {
       "item_id": 1782
      },
      {
       "item_id": 1783
      },
      {
       "item_id": 1784
      },
      {
       "item_id": 1785
      },
      {
       "item_id": 1786
      },
      {
       "item_id": 1787
      },
      {
       "item_id": 1788
      },
      {
       "item_id": 1790
      },
      {
       "item_id": 1791
      },
      {
       "item_id": 1792
      },
      {
       "item_id": 1793
      },
      {
       "item_id": 1794
      },
      {
       "item_id": 1795
      },
      {
       "item_id": 1796
      },
      {
       "item_id": 1797
      },
      {
       "item_id": 1799
      },
      {
       "item_id": 1800
      },
      {
       "item_id": 1801
      },
      {
       "item_id": 1802
      },
      {
       "item_id": 1803
      },
      {
       "item_id": 1804
      },
      {
       "item_id": 1805
      },
      {
       "item_id": 1806
      },
      {
       "item_id": 1807
      },
      {
       "item_id": 1808
      },
      {
       "item_id": 1810
      },
      {
       "item_id": 1811
      },
      {
       "item_id": 1812
      },
      {
       "item_id": 1813
      },
      {
       "item_id": 1814
      },
      {
       "item_id": 1815
      },
      {
       "item_id": 1816
      },
      {
       "item_id": 1817
      },
      {
       "item_id": 1819
      },
      {
       "item_id": 1820
      },
      {
       "item_id": 1821
      },
      {
       "item_id": 1822
      },
      {
       "item_id": 1823
      },
      {
       "item_id": 1824
      },
      {
       "item_id": 1825
      },
      {
       "item_id": 1826
      },
      {
       "item_id": 1827
      },
      {
       "item_id": 1828
      },
      {
       "item_id": 1830
      },
      {
       "item_id": 1831
      },
      {
       "item_id": 1832
      },
      {
       "item_id": 1833
      },
      {
       "item_id": 1834
      },
      {
       "item_id": 1835
      },
      {
       "item_id": 1836
      },
      {
       "item_id": 1837
      },
      {
       "item_id": 1839
      },
      {
       "item_id": 1840
      },
      {
       "item_id": 1841
      },
      {
       "item_id": 1842
      },
      {
       "item_id": 1843
      },
      {
       "item_id": 1844
      },
      {
       "item_id": 1845
      },
      {
       "item_id": 1846
      },
      {
       "item_id": 1847
      },
      {
       "item_id": 1848
      },
      {
       "item_id": 1850
      },
      {
       "item_id": 1851
      },
      {
       "item_id": 1852
      },
      {
       "item_id": 1853
      },
      {
       "item_id": 1854
      },
      {
       "item_id": 1855
      },
      {
       "item_id": 1856
      },
      {
       "item_id": 1857
      },
      {
       "item_id": 1858
      },
      {
       "item_id": 1859
      },
      {
       "item_id": 1860
      },
      {
       "item_id": 1861
      },
      {
       "item_id": 1862
      },
      {
       "item_id": 1863
      },
      {
       "item_id": 1864
      },
      {
       "item_id": 1865
      },
      {
       "item_id": 1866
      },
      {
       "item_id": 1867
      },
      {
       "item_id": 1869
      },
      {
       "item_id": 1870
      },
      {
       "item_id": 1871
      },
      {
       "item_id": 1872
      },
      {
       "item_id": 1873
      },
      {
       "item_id": 1874
      },
      {
       "item_id": 1875
      },
      {
       "item_id": 1876
      },
      {
       "item_id": 1877
      },
      {
       "item_id": 1878
      },
      {
       "item_id": 1880
      },
      {
       "item_id": 1881
      },
      {
       "item_id": 1882
      },
      {
       "item_id": 1883
      },
      {
       "item_id": 1884
      },
      {
       "item_id": 1885
      },
      {
       "item_id": 1886
      },
      {
       "item_id": 1887
      },
      {
       "item_id": 1889
      },
      {
       "item_id": 1890
      },
      {
       "item_id": 1891
      },
      {
       "item_id": 1892
      },
      {
       "item_id": 1893
      },
      {
       "item_id": 1894
      },
      {
       "item_id": 1895
      },
      {
       "item_id": 1896
      },
      {
       "item_id": 1897
      },
      {
       "item_id": 1898
      },
      {
       "item_id": 1900
      },
      {
       "item_id": 1901
      },
      {
       "item_id": 1902
      },
      {
       "item_id": 1903
      },
      {
       "item_id": 1904
      },
      {
       "item_id": 1905
      },
      {
       "item_id": 1906
      },
      {
       "item_id": 1907
      },
      {
       "item_id": 1909
      },
      {
       "item_id": 1910
      },
      {
       "item_id": 1911
      },
      {
       "item_id": 1912
      },
      {
       "item_id": 1913
      },
      {
       "item_id": 1914
      },
      {
       "item_id": 1915
      },
      {
       "item_id": 1916
      },
      {
       "item_id": 1917
      },
      {
       "item_id": 1918
      },
      {
       "item_id": 1920
      },
      {
       "item_id": 1921
      },
      {
       "item_id": 1922
      },
      {
       "item_id": 1923
      },
      {
       "item_id": 1924
      },
      {
       "item_id": 1925
      },
      {
       "item_id": 1926
      },
      {
       "item_id": 1927
      },
      {
       "item_id": 1928
      },
      {
       "item_id": 1929
      },
      {
       "item_id": 1930
      },
      {
       "item_id": 1931
      },
      {
       "item_id": 1932
      },
      {
       "item_id": 1933
      },
      {
       "item_id": 1934
      },
      {
       "item_id": 1935
      },
      {
       "item_id": 1936
      },
      {
       "item_id": 1937
      },
      {
       "item_id": 1938
      },
      {
       "item_id": 1939
      },
      {
       "item_id": 1941
      },
      {
       "item_id": 1942
      },
      {
       "item_id": 1943
      },
      {
       "item_id": 1944
      },
      {
       "item_id": 2164
      },
      {
       "item_id": 2165
      },
      {
       "item_id": 2166
      },
      {
       "item_id": 2167
      },
      {
       "item_id": 2168
      },
      {
       "item_id": 2169
      },
      {
       "item_id": 2170
      },
      {
       "item_id": 2172
      },
      {
       "item_id": 2173
      },
      {
       "item_id": 2174
      },
      {
       "item_id": 2175
      },
      {
       "item_id": 2176
      },
      {
       "item_id": 2177
      },
      {
       "item_id": 2178
      },
      {
       "item_id": 2179
      },
      {
       "item_id": 2180
      },
      {
       "item_id": 2181
      },
      {
       "item_id": 2183
      },
      {
       "item_id": 2184
      },
      {
       "item_id": 2185
      },
      {
       "item_id": 2186
      },
      {
       "item_id": 2187
      },
      {
       "item_id": 2188
      },
      {
       "item_id": 2189
      },
      {
       "item_id": 2190
      },
      {
       "item_id": 2191
      },
      {
       "item_id": 2192
      },
      {
       "item_id": 2194
      },
      {
       "item_id": 2195
      },
      {
       "item_id": 2196
      },
      {
       "item_id": 2197
      },
      {
       "item_id": 2198
      },
      {
       "item_id": 2199
      },
      {
       "item_id": 2200
      },
      {
       "item_id": 2201
      },
      {
       "item_id": 2203
      },
      {
       "item_id": 2204
      },
      {
       "item_id": 2205
      },
      {
       "item_id": 2206
      },
      {
       "item_id": 2207
      },
      {
       "item_id": 2208
      },
      {
       "item_id": 2209
      },
      {
       "item_id": 2210
      },
      {
       "item_id": 2211
      },
      {
       "item_id": 2212
      },
      {
       "item_id": 2213
      },
      {
       "item_id": 2214
      },
      {
       "item_id": 2215
      },
      {
       "item_id": 2216
      },
      {
       "item_id": 2217
      },
      {
       "item_id": 2218
      },
      {
       "item_id": 2219
      },
      {
       "item_id": 2220
      },
      {
       "item_id": 2221
      },
      {
       "item_id": 2222
      },
      {
       "item_id": 2223
      },
      {
       "item_id": 2224
      },
      {
       "item_id": 2225
      },
      {
       "item_id": 2226
      },
      {
       "item_id": 2227
      },
      {
       "item_id": 2228
      },
      {
       "item_id": 2229
      },
      {
       "item_id": 2230
      },
      {
       "item_id": 2231
      },
      {
       "item_id": 2232
      },
      {
       "item_id": 2234
      },
      {
       "item_id": 2235
      },
      {
       "item_id": 2236
      },
      {
       "item_id": 2237
      },
      {
       "item_id": 2238
      },
      {
       "item_id": 2239
      },
      {
       "item_id": 2240
      },
      {
       "item_id": 2241
      },
      {
       "item_id": 2242
      },
      {
       "item_id": 2243
      },
      {
       "item_id": 2245
      },
      {
       "item_id": 2246
      },
      {
       "item_id": 2247
      },
      {
       "item_id": 2248
      },
      {
       "item_id": 2249
      },
      {
       "item_id": 2250
      },
      {
       "item_id": 2251
      },
      {
       "item_id": 2252
      },
      {
       "item_id": 2253
      },
      {
       "item_id": 2254
      },
      {
       "item_id": 2256
      },
      {
       "item_id": 2257
      },
      {
       "item_id": 2258
      },
      {
       "item_id": 2259
      },
      {
       "item_id": 2260
      },
      {
       "item_id": 2261
      },
      {
       "item_id": 2262
      },
      {
       "item_id": 2263
      },
      {
       "item_id": 2265
      },
      {
       "item_id": 2266
      },
      {
       "item_id": 2267
      },
      {
       "item_id": 2268
      },
      {
       "item_id": 2269
      },
      {
       "item_id": 2270
      },
      {
       "item_id": 2271
      },
      {
       "item_id": 2272
      },
      {
       "item_id": 2273
      },
      {
       "item_id": 2274
      },
      {
       "item_id": 2275
      },
      {
       "item_id": 2276
      },
      {
       "item_id": 2277
      },
      {
       "item_id": 2278
      },
      {
       "item_id": 2279
      },
      {
       "item_id": 2280
      },
      {
       "item_id": 2281
      },
      {
       "item_id": 2282
      },
      {
       "item_id": 2283
      },
      {
       "item_id": 2284
      },
      {
       "item_id": 2285
      },
      {
       "item_id": 2286
      },
      {
       "item_id": 2288
      },
      {
       "item_id": 2289
      },
      {
       "item_id": 2290
      },
      {
       "item_id": 2291
      },
      {
       "item_id": 2292
      },
      {
       "item_id": 2293
      },
      {
       "item_id": 2294
      },
      {
       "item_id": 2295
      },
      {
       "item_id": 2296
      },
      {
       "item_id": 2297
      },
      {
       "item_id": 2299
      },
      {
       "item_id": 2300
      },
      {
       "item_id": 2301
      },
      {
       "item_id": 2302
      },
      {
       "item_id": 2303
      },
      {
       "item_id": 2304
      },
      {
       "item_id": 2305
      },
      {
       "item_id": 2306
      },
      {
       "item_id": 2307
      },
      {
       "item_id": 2308
      },
      {
       "item_id": 2309
      },
      {
       "item_id": 2310
      },
      {
       "item_id": 2311
      },
      {
       "item_id": 2312
      },
      {
       "item_id": 2313
      },
      {
       "item_id": 2314
      },
      {
       "item_id": 2315
      },
      {
       "item_id": 2316
      },
      {
       "item_id": 2317
      },
      {
       "item_id": 2318
      },
      {
       "item_id": 2320
      },
      {
       "item_id": 2321
      },
      {
       "item_id": 2322
      },
      {
       "item_id": 2323
      },
      {
       "item_id": 2324
      },
      {
       "item_id": 2325
      },
      {
       "item_id": 2326
      },
      {
       "item_id": 2327
      },
      {
       "item_id": 2328
      },
      {
       "item_id": 2329
      },
      {
       "item_id": 2331
      },
      {
       "item_id": 2332
      },
      {
       "item_id": 2333
      },
      {
       "item_id": 2334
      },
      {
       "item_id": 2335
      },
      {
       "item_id": 2336
      },
      {
       "item_id": 2337
      },
      {
       "item_id": 2338
      },
      {
       "item_id": 2339
      },
      {
       "item_id": 2340
      },
      {
       "item_id": 2342
      },
      {
       "item_id": 2343
      },
      {
       "item_id": 2344
      },
      {
       "item_id": 2345
      },
      {
       "item_id": 2346
      },
      {
       "item_id": 2347
      },
      {
       "item_id": 2348
      },
      {
       "item_id": 2349
      },
      {
       "item_id": 2350
      },
      {
       "item_id": 2351
      },
      {
       "item_id": 2352
      },
      {
       "item_id": 2353
      },
      {
       "item_id": 2355
      },
      {
       "item_id": 2356
      },
      {
       "item_id": 2357
      },
      {
       "item_id": 2358
      },
      {
       "item_id": 2359
      },
      {
       "item_id": 2360
      },
      {
       "item_id": 2361
      },
      {
       "item_id": 2362
      },
      {
       "item_id": 2363
      },
      {
       "item_id": 2364
      },
      {
       "item_id": 2366
      },
      {
       "item_id": 2367
      },
      {
       "item_id": 2368
      },
      {
       "item_id": 2369
      },
      {
       "item_id": 2370
      },
      {
       "item_id": 2371
      },
      {
       "item_id": 2372
      },
      {
       "item_id": 2373
      },
      {
       "item_id": 2374
      },
      {
       "item_id": 2375
      },
      {
       "item_id": 2376
      },
      {
       "item_id": 2377
      },
      {
       "item_id": 2379
      },
      {
       "item_id": 2380
      },
      {
       "item_id": 2381
      },
      {
       "item_id": 2382
      },
      {
       "item_id": 2383
      },
      {
       "item_id": 2384
      },
      {
       "item_id": 2385
      },
      {
       "item_id": 2386
      },
      {
       "item_id": 2387
      },
      {
       "item_id": 2388
      },
      {
       "item_id": 2390
      },
      {
       "item_id": 2391
      },
      {
       "item_id": 2392
      },
      {
       "item_id": 2393
      },
      {
       "item_id": 2394
      },
      {
       "item_id": 2395
      },
      {
       "item_id": 2396
      },
      {
       "item_id": 2397
      },
      {
       "item_id": 2398
      },
      {
       "item_id": 2399
      },
      {
       "item_id": 2400
      },
      {
       "item_id": 2401
      },
      {
       "item_id": 2403
      },
      {
       "item_id": 2404
      },
      {
       "item_id": 2405
      },
      {
       "item_id": 2406
      },
      {
       "item_id": 2407
      },
      {
       "item_id": 2408
      },
      {
       "item_id": 2409
      },
      {
       "item_id": 2410
      },
      {
       "item_id": 2411
      },
      {
       "item_id": 2412
      },
      {
       "item_id": 2413
      },
      {
       "item_id": 2414
      },
      {
       "item_id": 2416
      },
      {
       "item_id": 2417
      },
      {
       "item_id": 2418
      },
      {
       "item_id": 2419
      },
      {
       "item_id": 2420
      },
      {
       "item_id": 2421
      },
      {
       "item_id": 2422
      },
      {
       "item_id": 2423
      },
      {
       "item_id": 2424
      },
      {
       "item_id": 2425
      },
      {
       "item_id": 2426
      },
      {
       "item_id": 2427
      },
      {
       "item_id": 2429
      },
      {
       "item_id": 2430
      },
      {
       "item_id": 2431
      },
      {
       "item_id": 2432
      },
      {
       "item_id": 2433
      },
      {
       "item_id": 2434
      },
      {
       "item_id": 2435
      },
      {
       "item_id": 2436
      },
      {
       "item_id": 2437
      },
      {
       "item_id": 2438
      },
      {
       "item_id": 2440
      },
      {
       "item_id": 2441
      },
      {
       "item_id": 2442
      },
      {
       "item_id": 2443
      },
      {
       "item_id": 2444
      },
      {
       "item_id": 2445
      },
      {
       "item_id": 2446
      },
      {
       "item_id": 2447
      },
      {
       "item_id": 2448
      },
      {
       "item_id": 2449
      },
      {
       "item_id": 2450
      },
      {
       "item_id": 2451
      },
      {
       "item_id": 2453
      },
      {
       "item_id": 2454
      },
      {
       "item_id": 2455
      },
      {
       "item_id": 2456
      },
      {
       "item_id": 2457
      },
      {
       "item_id": 2458
      },
      {
       "item_id": 2459
      },
      {
       "item_id": 2460
      },
      {
       "item_id": 2461
      },
      {
       "item_id": 2462
      },
      {
       "item_id": 2463
      },
      {
       "item_id": 2464
      },
      {
       "item_id": 2465
      },
      {
       "item_id": 2466
      },
      {
       "item_id": 2467
      },
      {
       "item_id": 2468
      },
      {
       "item_id": 2469
      },
      {
       "item_id": 2470
      },
      {
       "item_id": 2471
      },
      {
       "item_id": 2472
      },
      {
       "item_id": 2473
      },
      {
       "item_id": 2474
      },
      {
       "item_id": 2475
      },
      {
       "item_id": 2476
      },
      {
       "item_id": 2478
      },
      {
       "item_id": 2479
      },
      {
       "item_id": 2480
      },
      {
       "item_id": 2481
      },
      {
       "item_id": 2482
      },
      {
       "item_id": 2483
      },
      {
       "item_id": 2484
      },
      {
       "item_id": 2485
      },
      {
       "item_id": 2486
      },
      {
       "item_id": 2487
      },
      {
       "item_id": 2488
      },
      {
       "item_id": 2489
      },
      {
       "item_id": 2491
      },
      {
       "item_id": 2492
      },
      {
       "item_id": 2493
      },
      {
       "item_id": 2494
      },
      {
       "item_id": 2495
      },
      {
       "item_id": 2496
      },
      {
       "item_id": 2497
      },
      {
       "item_id": 2498
      },
      {
       "item_id": 2499
      },
      {
       "item_id": 2500
      },
      {
       "item_id": 2502
      },
      {
       "item_id": 2503
      },
      {
       "item_id": 2504
      },
      {
       "item_id": 2505
      },
      {
       "item_id": 2506
      },
      {
       "item_id": 2507
      },
      {
       "item_id": 2508
      },
      {
       "item_id": 2509
      },
      {
       "item_id": 2510
      },
      {
       "item_id": 2511
      },
      {
       "item_id": 2512
      },
      {
       "item_id": 2513
      },
      {
       "item_id": 2514
      },
      {
       "item_id": 2515
      },
      {
       "item_id": 2517
      },
      {
       "item_id": 2518
      },
      {
       "item_id": 2519
      },
      {
       "item_id": 2520
      },
      {
       "item_id": 2521
      },
      {
       "item_id": 2522
      },
      {
       "item_id": 2523
      },
      {
       "item_id": 2524
      },
      {
       "item_id": 2525
      },
      {
       "item_id": 2526
      },
      {
       "item_id": 2527
      },
      {
       "item_id": 2528
      },
      {
       "item_id": 2530
      },
      {
       "item_id": 2531
      },
      {
       "item_id": 2532
      },
      {
       "item_id": 2533
      },
      {
       "item_id": 2534
      },
      {
       "item_id": 2535
      },
      {
       "item_id": 2536
      },
      {
       "item_id": 2537
      },
      {
       "item_id": 2538
      },
      {
       "item_id": 2539
      },
      {
       "item_id": 2540
      },
      {
       "item_id": 2541
      },
      {
       "item_id": 2543
      },
      {
       "item_id": 2544
      },
      {
       "item_id": 2545
      },
      {
       "item_id": 2546
      },
      {
       "item_id": 2547
      },
      {
       "item_id": 2548
      },
      {
       "item_id": 2549
      },
      {
       "item_id": 2550
      },
      {
       "item_id": 2708
      },
      {
       "item_id": 2709
      },
      {
       "item_id": 2710
      },
      {
       "item_id": 2711
      },
      {
       "item_id": 2712
      },
      {
       "item_id": 2713
      },
      {
       "item_id": 2714
      },
      {
       "item_id": 2715
      },
      {
       "item_id": 2716
      },
      {
       "item_id": 2717
      },
      {
       "item_id": 2719
      },
      {
       "item_id": 2720
      },
      {
       "item_id": 2721
      },
      {
       "item_id": 2722
      },
      {
       "item_id": 2723
      },
      {
       "item_id": 2724
      },
      {
       "item_id": 2725
      },
      {
       "item_id": 2726
      },
      {
       "item_id": 2727
      },
      {
       "item_id": 2728
      },
      {
       "item_id": 2729
      },
      {
       "item_id": 2730
      },
      {
       "item_id": 2732
      },
      {
       "item_id": 2733
      },
      {
       "item_id": 2734
      },
      {
       "item_id": 2735
      },
      {
       "item_id": 2736
      },
      {
       "item_id": 2737
      },
      {
       "item_id": 2738
      },
      {
       "item_id": 2739
      },
      {
       "item_id": 2740
      },
      {
       "item_id": 2741
      },
      {
       "item_id": 2742
      },
      {
       "item_id": 2743
      },
      {
       "item_id": 2745
      },
      {
       "item_id": 2746
      },
      {
       "item_id": 2747
      },
      {
       "item_id": 2748
      },
      {
       "item_id": 2749
      },
      {
       "item_id": 2750
      },
      {
       "item_id": 2751
      },
      {
       "item_id": 2752
      },
      {
       "item_id": 2753
      },
      {
       "item_id": 2754
      },
      {
       "item_id": 2755
      },
      {
       "item_id": 2756
      },
      {
       "item_id": 2757
      },
      {
       "item_id": 2758
      },
      {
       "item_id": 2760
      },
      {
       "item_id": 2761
      },
      {
       "item_id": 2762
      },
      {
       "item_id": 2763
      },
      {
       "item_id": 2764
      },
      {
       "item_id": 2765
      },
      {
       "item_id": 2766
      },
      {
       "item_id": 2767
      },
      {
       "item_id": 2768
      },
      {
       "item_id": 2769
      },
      {
       "item_id": 2770
      },
      {
       "item_id": 2771
      },
      {
       "item_id": 2772
      },
      {
       "item_id": 2773
      },
      {
       "item_id": 2775
      },
      {
       "item_id": 2776
      },
      {
       "item_id": 2777
      },
      {
       "item_id": 2778
      },
      {
       "item_id": 2779
      },
      {
       "item_id": 2780
      },
      {
       "item_id": 2781
      },
      {
       "item_id": 2782
      },
      {
       "item_id": 2783
      },
      {
       "item_id": 2784
      },
      {
       "item_id": 2785
      },
      {
       "item_id": 2786
      },
      {
       "item_id": 2787
      },
      {
       "item_id": 2788
      },
      {
       "item_id": 2790
      },
      {
       "item_id": 2791
      },
      {
       "item_id": 2792
      },
      {
       "item_id": 2793
      },
      {
       "item_id": 2794
      },
      {
       "item_id": 2795
      },
      {
       "item_id": 2796
      },
      {
       "item_id": 2797
      },
      {
       "item_id": 2798
      },
      {
       "item_id": 2799
      },
      {
       "item_id": 2800
      },
      {
       "item_id": 2801
      },
      {
       "item_id": 2803
      },
      {
       "item_id": 2804
      },
      {
       "item_id": 2805
      },
      {
       "item_id": 2806
      },
      {
       "item_id": 2807
      },
      {
       "item_id": 2808
      },
      {
       "item_id": 2809
      },
      {
       "item_id": 2810
      },
      {
       "item_id": 2811
      },
      {
       "item_id": 2812
      },
      {
       "item_id": 2813
      },
      {
       "item_id": 2814
      },
      {
       "item_id": 2816
      },
      {
       "item_id": 2817
      },
      {
       "item_id": 2818
      },
      {
       "item_id": 2819
      },
      {
       "item_id": 2820
      },
      {
       "item_id": 2821
      },
      {
       "item_id": 2822
      },
      {
       "item_id": 2823
      },
      {
       "item_id": 2824
      },
      {
       "item_id": 2825
      },
      {
       "item_id": 2826
      },
      {
       "item_id": 2827
      },
      {
       "item_id": 2828
      },
      {
       "item_id": 2829
      },
      {
       "item_id": 2831
      },
      {
       "item_id": 2832
      },
      {
       "item_id": 2833
      },
      {
       "item_id": 2834
      },
      {
       "item_id": 2835
      },
      {
       "item_id": 2836
      },
      {
       "item_id": 2837
      },
      {
       "item_id": 2838
      },
      {
       "item_id": 2839
      },
      {
       "item_id": 2840
      },
      {
       "item_id": 2841
      },
      {
       "item_id": 2842
      },
      {
       "item_id": 2843
      },
      {
       "item_id": 2844
      },
      {
       "item_id": 2846
      },
      {
       "item_id": 2847
      },
      {
       "item_id": 2848
      },
      {
       "item_id": 2849
      },
      {
       "item_id": 2850
      },
      {
       "item_id": 2851
      },
      {
       "item_id": 2852
      },
      {
       "item_id": 2853
      },
      {
       "item_id": 2854
      },
      {
       "item_id": 2855
      },
      {
       "item_id": 2856
      },
      {
       "item_id": 2857
      },
      {
       "item_id": 2858
      },
      {
       "item_id": 2859
      },
      {
       "item_id": 2861
      },
      {
       "item_id": 2862
      },
      {
       "item_id": 2863
      },
      {
       "item_id": 2864
      },
      {
       "item_id": 2865
      },
      {
       "item_id": 2866
      },
      {
       "item_id": 2867
      },
      {
       "item_id": 2868
      },
      {
       "item_id": 2869
      },
      {
       "item_id": 2870
      },
      {
       "item_id": 2871
      },
      {
       "item_id": 2872
      },
      {
       "item_id": 2873
      },
      {
       "item_id": 2874
      },
      {
       "item_id": 2876
      },
      {
       "item_id": 2877
      },
      {
       "item_id": 2878
      },
      {
       "item_id": 2879
      },
      {
       "item_id": 2880
      },
      {
       "item_id": 2881
      },
      {
       "item_id": 2882
      },
      {
       "item_id": 2883
      },
      {
       "item_id": 2884
      },
      {
       "item_id": 2885
      },
      {
       "item_id": 2886
      },
      {
       "item_id": 2887
      },
      {
       "item_id": 2888
      },
      {
       "item_id": 2889
      },
      {
       "item_id": 2890
      },
      {
       "item_id": 2891
      },
      {
       "item_id": 2892
      },
      {
       "item_id": 2893
      },
      {
       "item_id": 2894
      },
      {
       "item_id": 2895
      },
      {
       "item_id": 2896
      },
      {
       "item_id": 2897
      },
      {
       "item_id": 2898
      },
      {
       "item_id": 2899
      },
      {
       "item_id": 2900
      },
      {
       "item_id": 2901
      },
      {
       "item_id": 2902
      },
      {
       "item_id": 2903
      },
      {
       "item_id": 2905
      },
      {
       "item_id": 2906
      },
      {
       "item_id": 2907
      },
      {
       "item_id": 2908
      },
      {
       "item_id": 2909
      },
      {
       "item_id": 2910
      },
      {
       "item_id": 2911
      },
      {
       "item_id": 2912
      },
      {
       "item_id": 2913
      },
      {
       "item_id": 2914
      },
      {
       "item_id": 2915
      },
      {
       "item_id": 2916
      },
      {
       "item_id": 2917
      },
      {
       "item_id": 2918
      },
      {
       "item_id": 2920
      },
      {
       "item_id": 2921
      },
      {
       "item_id": 2922
      },
      {
       "item_id": 2923
      },
      {
       "item_id": 2924
      },
      {
       "item_id": 2925
      },
      {
       "item_id": 2926
      },
      {
       "item_id": 2927
      },
      {
       "item_id": 2928
      },
      {
       "item_id": 2929
      },
      {
       "item_id": 2930
      },
      {
       "item_id": 2931
      },
      {
       "item_id": 2932
      },
      {
       "item_id": 2933
      },
      {
       "item_id": 2935
      },
      {
       "item_id": 2936
      },
      {
       "item_id": 2937
      },
      {
       "item_id": 2938
      },
      {
       "item_id": 2939
      },
      {
       "item_id": 2940
      },
      {
       "item_id": 2941
      },
      {
       "item_id": 2942
      },
      {
       "item_id": 2943
      },
      {
       "item_id": 2944
      },
      {
       "item_id": 2945
      },
      {
       "item_id": 2946
      },
      {
       "item_id": 2947
      },
      {
       "item_id": 2948
      },
      {
       "item_id": 2950
      },
      {
       "item_id": 2951
      },
      {
       "item_id": 2952
      },
      {
       "item_id": 2953
      },
      {
       "item_id": 2954
      },
      {
       "item_id": 2955
      },
      {
       "item_id": 2956
      },
      {
       "item_id": 2957
      },
      {
       "item_id": 2958
      },
      {
       "item_id": 2959
      },
      {
       "item_id": 2960
      },
      {
       "item_id": 2961
      },
      {
       "item_id": 2963
      },
      {
       "item_id": 2964
      },
      {
       "item_id": 2965
      },
      {
       "item_id": 2966
      },
      {
       "item_id": 2967
      },
      {
       "item_id": 2968
      },
      {
       "item_id": 2969
      },
      {
       "item_id": 2970
      },
      {
       "item_id": 2971
      },
      {
       "item_id": 2972
      },
      {
       "item_id": 2973
      },
      {
       "item_id": 2974
      },
      {
       "item_id": 2975
      },
      {
       "item_id": 2976
      },
      {
       "item_id": 2977
      },
      {
       "item_id": 2978
      },
      {
       "item_id": 2980
      },
      {
       "item_id": 2981
      },
      {
       "item_id": 2982
      },
      {
       "item_id": 2983
      },
      {
       "item_id": 2984
      },
      {
       "item_id": 2985
      },
      {
       "item_id": 2986
      },
      {
       "item_id": 2987
      },
      {
       "item_id": 2988
      },
      {
       "item_id": 2989
      },
      {
       "item_id": 2990
      },
      {
       "item_id": 2991
      },
      {
       "item_id": 2992
      },
      {
       "item_id": 2993
      },
      {
       "item_id": 2995
      },
      {
       "item_id": 2996
      },
      {
       "item_id": 2997
      },
      {
       "item_id": 2998
      },
      {
       "item_id": 2999
      },
      {
       "item_id": 3000
      },
      {
       "item_id": 3001
      },
      {
       "item_id": 3002
      },
      {
       "item_id": 3003
      },
      {
       "item_id": 3004
      },
      {
       "item_id": 3005
      },
      {
       "item_id": 3006
      },
      {
       "item_id": 3007
      },
      {
       "item_id": 3008
      },
      {
       "item_id": 3010
      },
      {
       "item_id": 3011
      },
      {
       "item_id": 3012
      },
      {
       "item_id": 3013
      },
      {
       "item_id": 3014
      },
      {
       "item_id": 3015
      },
      {
       "item_id": 3016
      },
      {
       "item_id": 3017
      },
      {
       "item_id": 3018
      },
      {
       "item_id": 3019
      },
      {
       "item_id": 3020
      },
      {
       "item_id": 3021
      },
      {
       "item_id": 3022
      },
      {
       "item_id": 3023
      },
      {
       "item_id": 3025
      },
      {
       "item_id": 3026
      },
      {
       "item_id": 3027
      },
      {
       "item_id": 3028
      },
      {
       "item_id": 3029
      },
      {
       "item_id": 3030
      },
      {
       "item_id": 3031
      },
      {
       "item_id": 3032
      },
      {
       "item_id": 3033
      },
      {
       "item_id": 3034
      },
      {
       "item_id": 3035
      },
      {
       "item_id": 3036
      },
      {
       "item_id": 3037
      },
      {
       "item_id": 3038
      },
      {
       "item_id": 3040
      },
      {
       "item_id": 3041
      },
      {
       "item_id": 3042
      },
      {
       "item_id": 3043
      },
      {
       "item_id": 3044
      },
      {
       "item_id": 3045
      },
      {
       "item_id": 3046
      },
      {
       "item_id": 3047
      },
      {
       "item_id": 3048
      },
      {
       "item_id": 3049
      },
      {
       "item_id": 3050
      },
      {
       "item_id": 3051
      },
      {
       "item_id": 3052
      },
      {
       "item_id": 3053
      },
      {
       "item_id": 3055
      },
      {
       "item_id": 3056
      },
      {
       "item_id": 3057
      },
      {
       "item_id": 3058
      },
      {
       "item_id": 3059
      },
      {
       "item_id": 3060
      },
      {
       "item_id": 3061
      },
      {
       "item_id": 3062
      },
      {
       "item_id": 3063
      },
      {
       "item_id": 3064
      },
      {
       "item_id": 3065
      },
      {
       "item_id": 3066
      },
      {
       "item_id": 3067
      },
      {
       "item_id": 3068
      },
      {
       "item_id": 3069
      },
      {
       "item_id": 3070
      },
      {
       "item_id": 3071
      },
      {
       "item_id": 3072
      },
      {
       "item_id": 3073
      },
      {
       "item_id": 3074
      },
      {
       "item_id": 3075
      },
      {
       "item_id": 3076
      },
      {
       "item_id": 3077
      },
      {
       "item_id": 3078
      },
      {
       "item_id": 3079
      },
      {
       "item_id": 3080
      },
      {
       "item_id": 3081
      },
      {
       "item_id": 3082
      },
      {
       "item_id": 3084
      },
      {
       "item_id": 3085
      },
      {
       "item_id": 3086
      },
      {
       "item_id": 3087
      },
      {
       "item_id": 3236
      },
      {
       "item_id": 3237
      },
      {
       "item_id": 3238
      },
      {
       "item_id": 3239
      },
      {
       "item_id": 3240
      },
      {
       "item_id": 3241
      },
      {
       "item_id": 3242
      },
      {
       "item_id": 3243
      },
      {
       "item_id": 3244
      },
      {
       "item_id": 3246
      },
      {
       "item_id": 3247
      },
      {
       "item_id": 3248
      },
      {
       "item_id": 3249
      },
      {
       "item_id": 3250
      },
      {
       "item_id": 3251
      },
      {
       "item_id": 3252
      },
      {
       "item_id": 3253
      },
      {
       "item_id": 3254
      },
      {
       "item_id": 3255
      },
      {
       "item_id": 3256
      },
      {
       "item_id": 3257
      },
      {
       "item_id": 3258
      },
      {
       "item_id": 3259
      },
      {
       "item_id": 3261
      },
      {
       "item_id": 3262
      },
      {
       "item_id": 3263
      },
      {
       "item_id": 3264
      },
      {
       "item_id": 3265
      },
      {
       "item_id": 3266
      },
      {
       "item_id": 3267
      },
      {
       "item_id": 3268
      },
      {
       "item_id": 3269
      },
      {
       "item_id": 3270
      },
      {
       "item_id": 3271
      },
      {
       "item_id": 3272
      },
      {
       "item_id": 3274
      },
      {
       "item_id": 3275
      },
      {
       "item_id": 3276
      },
      {
       "item_id": 3277
      },
      {
       "item_id": 3278
      },
      {
       "item_id": 3279
      },
      {
       "item_id": 3280
      },
      {
       "item_id": 3281
      },
      {
       "item_id": 3282
      },
      {
       "item_id": 3283
      },
      {
       "item_id": 3284
      },
      {
       "item_id": 3285
      },
      {
       "item_id": 3286
      },
      {
       "item_id": 3287
      },
      {
       "item_id": 3288
      },
      {
       "item_id": 3289
      },
      {
       "item_id": 3291
      },
      {
       "item_id": 3292
      },
      {
       "item_id": 3293
      },
      {
       "item_id": 3294
      },
      {
       "item_id": 3295
      },
      {
       "item_id": 3296
      },
      {
       "item_id": 3297
      },
      {
       "item_id": 3298
      },
      {
       "item_id": 3299
      },
      {
       "item_id": 3300
      },
      {
       "item_id": 3301
      },
      {
       "item_id": 3302
      },
      {
       "item_id": 3304
      },
      {
       "item_id": 3305
      },
      {
       "item_id": 3306
      },
      {
       "item_id": 3307
      },
      {
       "item_id": 3308
      },
      {
       "item_id": 3309
      },
      {
       "item_id": 3310
      },
      {
       "item_id": 3311
      },
      {
       "item_id": 3312
      },
      {
       "item_id": 3313
      },
      {
       "item_id": 3314
      },
      {
       "item_id": 3315
      },
      {
       "item_id": 3316
      },
      {
       "item_id": 3317
      },
      {
       "item_id": 3318
      },
      {
       "item_id": 3319
      },
      {
       "item_id": 3320
      },
      {
       "item_id": 3321
      },
      {
       "item_id": 3322
      },
      {
       "item_id": 3323
      },
      {
       "item_id": 3324
      },
      {
       "item_id": 3325
      },
      {
       "item_id": 3326
      },
      {
       "item_id": 3327
      },
      {
       "item_id": 3328
      },
      {
       "item_id": 3329
      },
      {
       "item_id": 3330
      },
      {
       "item_id": 3331
      },
      {
       "item_id": 3332
      },
      {
       "item_id": 3333
      },
      {
       "item_id": 3335
      },
      {
       "item_id": 3336
      },
      {
       "item_id": 3337
      },
      {
       "item_id": 3338
      },
      {
       "item_id": 3339
      },
      {
       "item_id": 3340
      },
      {
       "item_id": 3341
      },
      {
       "item_id": 3342
      },
      {
       "item_id": 3343
      },
      {
       "item_id": 3344
      },
      {
       "item_id": 3345
      },
      {
       "item_id": 3346
      },
      {
       "item_id": 3348
      },
      {
       "item_id": 3349
      },
      {
       "item_id": 3350
      },
      {
       "item_id": 3351
      },
      {
       "item_id": 3352
      },
      {
       "item_id": 3353
      },
      {
       "item_id": 3354
      },
      {
       "item_id": 3355
      },
      {
       "item_id": 3356
      },
      {
       "item_id": 3357
      },
      {
       "item_id": 3358
      },
      {
       "item_id": 3359
      },
      {
       "item_id": 3360
      },
      {
       "item_id": 3361
      },
      {
       "item_id": 3363
      },
      {
       "item_id": 3364
      },
      {
       "item_id": 3365
      },
      {
       "item_id": 3366
      },
      {
       "item_id": 3367
      },
      {
       "item_id": 3368
      },
      {
       "item_id": 3369
      },
      {
       "item_id": 3370
      },
      {
       "item_id": 3371
      },
      {
       "item_id": 3372
      },
      {
       "item_id": 3373
      },
      {
       "item_id": 3374
      },
      {
       "item_id": 3375
      },
      {
       "item_id": 3376
      },
      {
       "item_id": 3378
      },
      {
       "item_id": 3379
      },
      {
       "item_id": 3380
      },
      {
       "item_id": 3381
      },
      {
       "item_id": 3382
      },
      {
       "item_id": 3383
      },
      {
       "item_id": 3384
      },
      {
       "item_id": 3385
      },
      {
       "item_id": 3386
      },
      {
       "item_id": 3387
      },
      {
       "item_id": 3388
      },
      {
       "item_id": 3389
      },
      {
       "item_id": 3390
      },
      {
       "item_id": 3391
      },
      {
       "item_id": 3393
      },
      {
       "item_id": 3394
      },
      {
       "item_id": 3395
      },
      {
       "item_id": 3396
      },
      {
       "item_id": 3397
      },
      {
       "item_id": 3398
      },
      {
       "item_id": 3399
      },
      {
       "item_id": 3400
      },
      {
       "item_id": 3401
      },
      {
       "item_id": 3402
      },
      {
       "item_id": 3403
      },
      {
       "item_id": 3404
      },
      {
       "item_id": 3406
      },
      {
       "item_id": 3407
      },
      {
       "item_id": 3408
      },
      {
       "item_id": 3409
      },
      {
       "item_id": 3410
      },
      {
       "item_id": 3411
      },
      {
       "item_id": 3412
      },
      {
       "item_id": 3413
      },
      {
       "item_id": 3414
      },
      {
       "item_id": 3415
      },
      {
       "item_id": 3416
      },
      {
       "item_id": 3417
      },
      {
       "item_id": 3418
      },
      {
       "item_id": 3419
      },
      {
       "item_id": 3420
      },
      {
       "item_id": 3421
      },
      {
       "item_id": 3423
      },
      {
       "item_id": 3424
      },
      {
       "item_id": 3425
      },
      {
       "item_id": 3426
      },
      {
       "item_id": 3427
      },
      {
       "item_id": 3428
      },
      {
       "item_id": 3429
      },
      {
       "item_id": 3430
      },
      {
       "item_id": 3431
      },
      {
       "item_id": 3432
      },
      {
       "item_id": 3433
      },
      {
       "item_id": 3434
      },
      {
       "item_id": 3435
      },
      {
       "item_id": 3436
      },
      {
       "item_id": 3438
      },
      {
       "item_id": 3439
      },
      {
       "item_id": 3440
      },
      {
       "item_id": 3441
      },
      {
       "item_id": 3442
      },
      {
       "item_id": 3443
      },
      {
       "item_id": 3444
      },
      {
       "item_id": 3445
      },
      {
       "item_id": 3446
      },
      {
       "item_id": 3447
      },
      {
       "item_id": 3448
      },
      {
       "item_id": 3449
      },
      {
       "item_id": 3450
      },
      {
       "item_id": 3451
      },
      {
       "item_id": 3453
      },
      {
       "item_id": 3454
      },
      {
       "item_id": 3455
      },
      {
       "item_id": 3456
      },
      {
       "item_id": 3457
      },
      {
       "item_id": 3458
      },
      {
       "item_id": 3459
      },
      {
       "item_id": 3460
      },
      {
       "item_id": 3461
      },
      {
       "item_id": 3462
      },
      {
       "item_id": 3463
      },
      {
       "item_id": 3464
      },
      {
       "item_id": 3465
      },
      {
       "item_id": 3466
      },
      {
       "item_id": 3468
      },
      {
       "item_id": 3469
      },
      {
       "item_id": 3470
      },
      {
       "item_id": 3471
      },
      {
       "item_id": 3472
      },
      {
       "item_id": 3473
      },
      {
       "item_id": 3474
      },
      {
       "item_id": 3475
      },
      {
       "item_id": 3476
      },
      {
       "item_id": 3477
      },
      {
       "item_id": 3478
      },
      {
       "item_id": 3479
      },
      {
       "item_id": 3480
      },
      {
       "item_id": 3481
      },
      {
       "item_id": 3483
      },
      {
       "item_id": 3484
      },
      {
       "item_id": 3485
      },
      {
       "item_id": 3486
      },
      {
       "item_id": 3487
      },
      {
       "item_id": 3488
      },
      {
       "item_id": 3489
      },
      {
       "item_id": 3490
      },
      {
       "item_id": 3491
      },
      {
       "item_id": 3492
      },
      {
       "item_id": 3493
      },
      {
       "item_id": 3494
      },
      {
       "item_id": 3495
      },
      {
       "item_id": 3496
      },
      {
       "item_id": 3498
      },
      {
       "item_id": 3499
      },
      {
       "item_id": 3500
      },
      {
       "item_id": 3501
      },
      {
       "item_id": 3502
      },
      {
       "item_id": 3503
      },
      {
       "item_id": 3504
      },
      {
       "item_id": 3505
      },
      {
       "item_id": 3506
      },
      {
       "item_id": 3507
      },
      {
       "item_id": 3508
      },
      {
       "item_id": 3509
      },
      {
       "item_id": 3510
      },
      {
       "item_id": 3511
      },
      {
       "item_id": 3513
      },
      {
       "item_id": 3514
      },
      {
       "item_id": 3515
      },
      {
       "item_id": 3516
      },
      {
       "item_id": 3517
      },
      {
       "item_id": 3518
      },
      {
       "item_id": 3519
      },
      {
       "item_id": 3520
      },
      {
       "item_id": 3521
      },
      {
       "item_id": 3522
      },
      {
       "item_id": 3523
      },
      {
       "item_id": 3524
      },
      {
       "item_id": 3525
      },
      {
       "item_id": 3526
      },
      {
       "item_id": 3527
      },
      {
       "item_id": 3528
      },
      {
       "item_id": 3530
      },
      {
       "item_id": 3531
      },
      {
       "item_id": 3532
      },
      {
       "item_id": 3533
      },
      {
       "item_id": 3534
      },
      {
       "item_id": 3535
      },
      {
       "item_id": 3536
      },
      {
       "item_id": 3537
      },
      {
       "item_id": 3538
      },
      {
       "item_id": 3539
      },
      {
       "item_id": 3540
      },
      {
       "item_id": 3541
      },
      {
       "item_id": 3543
      },
      {
       "item_id": 3544
      },
      {
       "item_id": 3545
      },
      {
       "item_id": 3546
      },
      {
       "item_id": 3547
      },
      {
       "item_id": 3548
      },
      {
       "item_id": 3549
      },
      {
       "item_id": 3550
      },
      {
       "item_id": 3551
      },
      {
       "item_id": 3552
      },
      {
       "item_id": 3553
      },
      {
       "item_id": 3554
      },
      {
       "item_id": 3555
      },
      {
       "item_id": 3556
      },
      {
       "item_id": 3557
      },
      {
       "item_id": 3558
      },
      {
       "item_id": 3560
      },
      {
       "item_id": 3561
      },
      {
       "item_id": 3562
      },
      {
       "item_id": 3563
      },
      {
       "item_id": 3564
      },
      {
       "item_id": 3565
      },
      {
       "item_id": 3566
      },
      {
       "item_id": 3567
      },
      {
       "item_id": 3568
      },
      {
       "item_id": 3569
      },
      {
       "item_id": 3570
      },
      {
       "item_id": 3571
      },
      {
       "item_id": 3573
      },
      {
       "item_id": 3574
      },
      {
       "item_id": 3575
      },
      {
       "item_id": 3576
      },
      {
       "item_id": 3577
      },
      {
       "item_id": 3578
      },
      {
       "item_id": 3579
      },
      {
       "item_id": 3580
      },
      {
       "item_id": 3581
      },
      {
       "item_id": 3582
      },
      {
       "item_id": 3583
      },
      {
       "item_id": 3584
      },
      {
       "item_id": 3585
      },
      {
       "item_id": 3586
      },
      {
       "item_id": 3588
      },
      {
       "item_id": 3589
      },
      {
       "item_id": 3590
      },
      {
       "item_id": 3591
      },
      {
       "item_id": 3592
      },
      {
       "item_id": 3593
      },
      {
       "item_id": 3594
      },
      {
       "item_id": 3595
      },
      {
       "item_id": 3596
      },
      {
       "item_id": 3597
      },
      {
       "item_id": 3598
      },
      {
       "item_id": 3599
      },
      {
       "item_id": 3600
      },
      {
       "item_id": 3601
      },
      {
       "item_id": 3603
      },
      {
       "item_id": 3604
      },
      {
       "item_id": 3605
      },
      {
       "item_id": 3606
      },
      {
       "item_id": 3607
      },
      {
       "item_id": 3608
      },
      {
       "item_id": 3609
      },
      {
       "item_id": 3610
      },
      {
       "item_id": 3611
      },
      {
       "item_id": 3612
      },
      {
       "item_id": 3613
      },
      {
       "item_id": 3614
      },
      {
       "item_id": 3616
      },
      {
       "item_id": 3617
      },
      {
       "item_id": 3618
      },
      {
       "item_id": 3619
      },
      {
       "item_id": 3620
      },
      {
       "item_id": 3621
      },
      {
       "item_id": 3622
      },
      {
       "item_id": 3623
      },
      {
       "item_id": 3624
      },
      {
       "item_id": 3625
      },
      {
       "item_id": 3626
      },
      {
       "item_id": 3627
      },
      {
       "item_id": 3748
      },
      {
       "item_id": 3749
      },
      {
       "item_id": 3750
      },
      {
       "item_id": 3751
      },
      {
       "item_id": 3752
      },
      {
       "item_id": 3753
      },
      {
       "item_id": 3754
      },
      {
       "item_id": 3755
      },
      {
       "item_id": 3756
      },
      {
       "item_id": 3757
      },
      {
       "item_id": 3758
      },
      {
       "item_id": 3759
      },
      {
       "item_id": 3760
      },
      {
       "item_id": 3761
      },
      {
       "item_id": 3762
      },
      {
       "item_id": 3763
      },
      {
       "item_id": 3764
      },
      {
       "item_id": 3765
      },
      {
       "item_id": 3766
      },
      {
       "item_id": 3767
      },
      {
       "item_id": 3768
      },
      {
       "item_id": 3769
      },
      {
       "item_id": 3770
      },
      {
       "item_id": 3771
      },
      {
       "item_id": 3772
      },
      {
       "item_id": 3773
      },
      {
       "item_id": 3774
      },
      {
       "item_id": 3776
      },
      {
       "item_id": 3777
      },
      {
       "item_id": 3778
      },
      {
       "item_id": 3779
      },
      {
       "item_id": 3780
      },
      {
       "item_id": 3781
      },
      {
       "item_id": 3782
      },
      {
       "item_id": 3783
      },
      {
       "item_id": 3784
      },
      {
       "item_id": 3785
      },
      {
       "item_id": 3786
      },
      {
       "item_id": 3787
      },
      {
       "item_id": 3788
      },
      {
       "item_id": 3789
      },
      {
       "item_id": 3790
      },
      {
       "item_id": 3791
      },
      {
       "item_id": 3792
      },
      {
       "item_id": 3793
      },
      {
       "item_id": 3794
      },
      {
       "item_id": 3795
      },
      {
       "item_id": 3796
      },
      {
       "item_id": 3797
      },
      {
       "item_id": 3798
      },
      {
       "item_id": 3799
      },
      {
       "item_id": 3800
      },
      {
       "item_id": 3801
      },
      {
       "item_id": 3802
      },
      {
       "item_id": 3803
      },
      {
       "item_id": 3804
      },
      {
       "item_id": 3805
      },
      {
       "item_id": 3806
      },
      {
       "item_id": 3807
      },
      {
       "item_id": 3808
      },
      {
       "item_id": 3809
      },
      {
       "item_id": 3810
      },
      {
       "item_id": 3811
      },
      {
       "item_id": 3812
      },
      {
       "item_id": 3813
      },
      {
       "item_id": 3815
      },
      {
       "item_id": 3816
      },
      {
       "item_id": 3817
      },
      {
       "item_id": 3818
      },
      {
       "item_id": 3819
      },
      {
       "item_id": 3820
      },
      {
       "item_id": 3821
      },
      {
       "item_id": 3822
      },
      {
       "item_id": 3823
      },
      {
       "item_id": 3824
      },
      {
       "item_id": 3825
      },
      {
       "item_id": 3826
      },
      {
       "item_id": 3827
      },
      {
       "item_id": 3828
      },
      {
       "item_id": 3829
      },
      {
       "item_id": 3830
      },
      {
       "item_id": 3831
      },
      {
       "item_id": 3832
      },
      {
       "item_id": 3833
      },
      {
       "item_id": 3834
      },
      {
       "item_id": 3835
      },
      {
       "item_id": 3836
      },
      {
       "item_id": 3837
      },
      {
       "item_id": 3838
      },
      {
       "item_id": 3839
      },
      {
       "item_id": 3840
      },
      {
       "item_id": 3841
      },
      {
       "item_id": 3842
      },
      {
       "item_id": 3843
      },
      {
       "item_id": 3844
      },
      {
       "item_id": 3845
      },
      {
       "item_id": 3846
      },
      {
       "item_id": 3847
      },
      {
       "item_id": 3848
      },
      {
       "item_id": 3849
      },
      {
       "item_id": 3850
      },
      {
       "item_id": 3852
      },
      {
       "item_id": 3853
      },
      {
       "item_id": 3854
      },
      {
       "item_id": 3855
      },
      {
       "item_id": 3856
      },
      {
       "item_id": 3857
      },
      {
       "item_id": 3858
      },
      {
       "item_id": 3859
      },
      {
       "item_id": 3860
      },
      {
       "item_id": 3861
      },
      {
       "item_id": 3862
      },
      {
       "item_id": 3863
      },
      {
       "item_id": 3864
      },
      {
       "item_id": 3865
      },
      {
       "item_id": 3866
      },
      {
       "item_id": 3867
      },
      {
       "item_id": 3869
      },
      {
       "item_id": 3870
      },
      {
       "item_id": 3871
      },
      {
       "item_id": 3872
      },
      {
       "item_id": 3873
      },
      {
       "item_id": 3874
      },
      {
       "item_id": 3875
      },
      {
       "item_id": 3876
      },
      {
       "item_id": 3877
      },
      {
       "item_id": 3878
      },
      {
       "item_id": 3879
      },
      {
       "item_id": 3880
      },
      {
       "item_id": 3881
      },
      {
       "item_id": 3882
      },
      {
       "item_id": 3883
      },
      {
       "item_id": 3884
      },
      {
       "item_id": 3885
      },
      {
       "item_id": 3886
      },
      {
       "item_id": 3887
      },
      {
       "item_id": 3888
      },
      {
       "item_id": 3890
      },
      {
       "item_id": 3891
      },
      {
       "item_id": 3892
      },
      {
       "item_id": 3893
      },
      {
       "item_id": 3894
      },
      {
       "item_id": 3895
      },
      {
       "item_id": 3896
      },
      {
       "item_id": 3897
      },
      {
       "item_id": 3898
      },
      {
       "item_id": 3899
      },
      {
       "item_id": 3900
      },
      {
       "item_id": 3901
      },
      {
       "item_id": 3902
      },
      {
       "item_id": 3903
      },
      {
       "item_id": 3904
      },
      {
       "item_id": 3905
      },
      {
       "item_id": 3906
      },
      {
       "item_id": 3907
      },
      {
       "item_id": 3908
      },
      {
       "item_id": 3909
      },
      {
       "item_id": 3910
      },
      {
       "item_id": 3911
      },
      {
       "item_id": 3912
      },
      {
       "item_id": 3913
      },
      {
       "item_id": 3914
      },
      {
       "item_id": 3915
      },
      {
       "item_id": 3916
      },
      {
       "item_id": 3917
      },
      {
       "item_id": 3918
      },
      {
       "item_id": 3919
      },
      {
       "item_id": 3920
      },
      {
       "item_id": 3921
      },
      {
       "item_id": 3922
      },
      {
       "item_id": 3923
      },
      {
       "item_id": 3924
      },
      {
       "item_id": 3925
      },
      {
       "item_id": 3927
      },
      {
       "item_id": 3928
      },
      {
       "item_id": 3929
      },
      {
       "item_id": 3930
      },
      {
       "item_id": 3931
      },
      {
       "item_id": 3932
      },
      {
       "item_id": 3933
      },
      {
       "item_id": 3934
      },
      {
       "item_id": 3935
      },
      {
       "item_id": 3936
      },
      {
       "item_id": 3937
      },
      {
       "item_id": 3938
      },
      {
       "item_id": 3939
      },
      {
       "item_id": 3940
      },
      {
       "item_id": 3941
      },
      {
       "item_id": 3942
      },
      {
       "item_id": 3943
      },
      {
       "item_id": 3944
      },
      {
       "item_id": 3945
      },
      {
       "item_id": 3946
      },
      {
       "item_id": 3948
      },
      {
       "item_id": 3949
      },
      {
       "item_id": 3950
      },
      {
       "item_id": 3951
      },
      {
       "item_id": 3952
      },
      {
       "item_id": 3953
      },
      {
       "item_id": 3954
      },
      {
       "item_id": 3955
      },
      {
       "item_id": 3956
      },
      {
       "item_id": 3957
      },
      {
       "item_id": 3958
      },
      {
       "item_id": 3959
      },
      {
       "item_id": 3960
      },
      {
       "item_id": 3961
      },
      {
       "item_id": 3962
      },
      {
       "item_id": 3963
      },
      {
       "item_id": 3964
      },
      {
       "item_id": 3965
      },
      {
       "item_id": 3967
      },
      {
       "item_id": 3968
      },
      {
       "item_id": 3969
      },
      {
       "item_id": 3970
      },
      {
       "item_id": 3971
      },
      {
       "item_id": 3972
      },
      {
       "item_id": 3973
      },
      {
       "item_id": 3974
      },
      {
       "item_id": 3975
      },
      {
       "item_id": 3976
      },
      {
       "item_id": 3977
      },
      {
       "item_id": 3978
      },
      {
       "item_id": 3979
      },
      {
       "item_id": 3980
      },
      {
       "item_id": 3981
      },
      {
       "item_id": 3982
      },
      {
       "item_id": 3983
      },
      {
       "item_id": 3984
      },
      {
       "item_id": 3986
      },
      {
       "item_id": 3987
      },
      {
       "item_id": 3988
      },
      {
       "item_id": 3989
      },
      {
       "item_id": 3990
      },
      {
       "item_id": 3991
      },
      {
       "item_id": 3992
      },
      {
       "item_id": 3993
      },
      {
       "item_id": 3994
      },
      {
       "item_id": 3995
      },
      {
       "item_id": 3996
      },
      {
       "item_id": 3997
      },
      {
       "item_id": 3998
      },
      {
       "item_id": 3999
      },
      {
       "item_id": 4000
      },
      {
       "item_id": 4001
      },
      {
       "item_id": 4002
      },
      {
       "item_id": 4003
      },
      {
       "item_id": 4004
      },
      {
       "item_id": 4005
      },
      {
       "item_id": 4006
      },
      {
       "item_id": 4007
      },
      {
       "item_id": 4008
      },
      {
       "item_id": 4009
      },
      {
       "item_id": 4010
      },
      {
       "item_id": 4011
      },
      {
       "item_id": 4012
      },
      {
       "item_id": 4013
      },
      {
       "item_id": 4014
      },
      {
       "item_id": 4015
      },
      {
       "item_id": 4016
      },
      {
       "item_id": 4017
      },
      {
       "item_id": 4018
      },
      {
       "item_id": 4019
      },
      {
       "item_id": 4020
      },
      {
       "item_id": 4021
      },
      {
       "item_id": 4023
      },
      {
       "item_id": 4024
      },
      {
       "item_id": 4025
      },
      {
       "item_id": 4026
      },
      {
       "item_id": 4027
      },
      {
       "item_id": 4028
      },
      {
       "item_id": 4029
      },
      {
       "item_id": 4030
      },
      {
       "item_id": 4031
      },
      {
       "item_id": 4032
      },
      {
       "item_id": 4033
      },
      {
       "item_id": 4034
      },
      {
       "item_id": 4035
      },
      {
       "item_id": 4036
      },
      {
       "item_id": 4037
      },
      {
       "item_id": 4038
      },
      {
       "item_id": 4039
      },
      {
       "item_id": 4040
      },
      {
       "item_id": 4042
      },
      {
       "item_id": 4043
      },
      {
       "item_id": 4044
      },
      {
       "item_id": 4045
      },
      {
       "item_id": 4046
      },
      {
       "item_id": 4047
      },
      {
       "item_id": 4048
      },
      {
       "item_id": 4049
      },
      {
       "item_id": 4050
      },
      {
       "item_id": 4051
      },
      {
       "item_id": 4052
      },
      {
       "item_id": 4053
      },
      {
       "item_id": 4054
      },
      {
       "item_id": 4055
      },
      {
       "item_id": 4056
      },
      {
       "item_id": 4057
      },
      {
       "item_id": 4058
      },
      {
       "item_id": 4059
      },
      {
       "item_id": 4061
      },
      {
       "item_id": 4062
      },
      {
       "item_id": 4063
      },
      {
       "item_id": 4064
      },
      {
       "item_id": 4065
      },
      {
       "item_id": 4066
      },
      {
       "item_id": 4067
      },
      {
       "item_id": 4068
      },
      {
       "item_id": 4069
      },
      {
       "item_id": 4070
      },
      {
       "item_id": 4071
      },
      {
       "item_id": 4072
      },
      {
       "item_id": 4073
      },
      {
       "item_id": 4074
      },
      {
       "item_id": 4075
      },
      {
       "item_id": 4076
      },
      {
       "item_id": 4077
      },
      {
       "item_id": 4078
      },
      {
       "item_id": 4079
      },
      {
       "item_id": 4080
      },
      {
       "item_id": 4082
      },
      {
       "item_id": 4083
      },
      {
       "item_id": 4084
      },
      {
       "item_id": 4085
      },
      {
       "item_id": 4086
      },
      {
       "item_id": 4087
      },
      {
       "item_id": 4088
      },
      {
       "item_id": 4089
      },
      {
       "item_id": 4090
      },
      {
       "item_id": 4091
      },
      {
       "item_id": 4092
      },
      {
       "item_id": 4093
      },
      {
       "item_id": 4094
      },
      {
       "item_id": 4095
      },
      {
       "item_id": 4096
      },
      {
       "item_id": 4097
      },
      {
       "item_id": 4099
      },
      {
       "item_id": 4100
      },
      {
       "item_id": 4101
      },
      {
       "item_id": 4102
      },
      {
       "item_id": 4103
      },
      {
       "item_id": 4104
      },
      {
       "item_id": 4105
      },
      {
       "item_id": 4106
      },
      {
       "item_id": 4107
      },
      {
       "item_id": 4108
      },
      {
       "item_id": 4109
      },
      {
       "item_id": 4110
      },
      {
       "item_id": 4111
      },
      {
       "item_id": 4112
      },
      {
       "item_id": 4113
      },
      {
       "item_id": 4114
      },
      {
       "item_id": 4115
      },
      {
       "item_id": 4116
      },
      {
       "item_id": 4117
      },
      {
       "item_id": 4118
      },
      {
       "item_id": 4120
      },
      {
       "item_id": 4121
      },
      {
       "item_id": 4122
      },
      {
       "item_id": 4123
      },
      {
       "item_id": 4124
      },
      {
       "item_id": 4125
      },
      {
       "item_id": 4126
      },
      {
       "item_id": 4127
      },
      {
       "item_id": 4128
      },
      {
       "item_id": 4129
      },
      {
       "item_id": 4130
      },
      {
       "item_id": 4131
      },
      {
       "item_id": 4132
      },
      {
       "item_id": 4133
      },
      {
       "item_id": 4134
      },
      {
       "item_id": 4135
      },
      {
       "item_id": 4136
      },
      {
       "item_id": 4137
      },
      {
       "item_id": 4138
      },
      {
       "item_id": 4139
      },
      {
       "item_id": 4140
      },
      {
       "item_id": 4141
      },
      {
       "item_id": 4260
      },
      {
       "item_id": 4261
      },
      {
       "item_id": 4262
      },
      {
       "item_id": 4263
      },
      {
       "item_id": 4264
      },
      {
       "item_id": 4265
      },
      {
       "item_id": 4266
      },
      {
       "item_id": 4267
      },
      {
       "item_id": 4268
      },
      {
       "item_id": 4269
      },
      {
       "item_id": 4270
      },
      {
       "item_id": 4271
      },
      {
       "item_id": 4272
      },
      {
       "item_id": 4273
      },
      {
       "item_id": 4274
      },
      {
       "item_id": 4275
      },
      {
       "item_id": 4276
      },
      {
       "item_id": 4277
      },
      {
       "item_id": 4278
      },
      {
       "item_id": 4279
      },
      {
       "item_id": 4280
      },
      {
       "item_id": 4281
      },
      {
       "item_id": 4282
      },
      {
       "item_id": 4283
      },
      {
       "item_id": 4284
      },
      {
       "item_id": 4286
      },
      {
       "item_id": 4287
      },
      {
       "item_id": 4288
      },
      {
       "item_id": 4289
      },
      {
       "item_id": 4290
      },
      {
       "item_id": 4291
      },
      {
       "item_id": 4292
      },
      {
       "item_id": 4293
      },
      {
       "item_id": 4294
      },
      {
       "item_id": 4295
      },
      {
       "item_id": 4296
      },
      {
       "item_id": 4297
      },
      {
       "item_id": 4299
      },
      {
       "item_id": 4300
      },
      {
       "item_id": 4301
      },
      {
       "item_id": 4302
      },
      {
       "item_id": 4303
      },
      {
       "item_id": 4304
      },
      {
       "item_id": 4305
      },
      {
       "item_id": 4306
      },
      {
       "item_id": 4307
      },
      {
       "item_id": 4308
      },
      {
       "item_id": 4309
      },
      {
       "item_id": 4310
      },
      {
       "item_id": 4311
      },
      {
       "item_id": 4312
      },
      {
       "item_id": 4313
      },
      {
       "item_id": 4314
      },
      {
       "item_id": 4316
      },
      {
       "item_id": 4317
      },
      {
       "item_id": 4318
      },
      {
       "item_id": 4319
      },
      {
       "item_id": 4320
      },
      {
       "item_id": 4321
      },
      {
       "item_id": 4322
      },
      {
       "item_id": 4323
      },
      {
       "item_id": 4324
      },
      {
       "item_id": 4325
      },
      {
       "item_id": 4326
      },
      {
       "item_id": 4327
      },
      {
       "item_id": 4329
      },
      {
       "item_id": 4330
      },
      {
       "item_id": 4331
      },
      {
       "item_id": 4332
      },
      {
       "item_id": 4333
      },
      {
       "item_id": 4334
      },
      {
       "item_id": 4335
      },
      {
       "item_id": 4336
      },
      {
       "item_id": 4337
      },
      {
       "item_id": 4338
      },
      {
       "item_id": 4339
      },
      {
       "item_id": 4340
      },
      {
       "item_id": 4341
      },
      {
       "item_id": 4342
      },
      {
       "item_id": 4343
      },
      {
       "item_id": 4344
      },
      {
       "item_id": 4346
      },
      {
       "item_id": 4347
      },
      {
       "item_id": 4348
      },
      {
       "item_id": 4349
      },
      {
       "item_id": 4350
      },
      {
       "item_id": 4351
      },
      {
       "item_id": 4352
      },
      {
       "item_id": 4353
      },
      {
       "item_id": 4354
      },
      {
       "item_id": 4355
      },
      {
       "item_id": 4356
      },
      {
       "item_id": 4357
      },
      {
       "item_id": 4359
      },
      {
       "item_id": 4360
      },
      {
       "item_id": 4361
      },
      {
       "item_id": 4362
      },
      {
       "item_id": 4363
      },
      {
       "item_id": 4364
      },
      {
       "item_id": 4365
      },
      {
       "item_id": 4366
      },
      {
       "item_id": 4367
      },
      {
       "item_id": 4368
      },
      {
       "item_id": 4369
      },
      {
       "item_id": 4370
      },
      {
       "item_id": 4371
      },
      {
       "item_id": 4372
      },
      {
       "item_id": 4374
      },
      {
       "item_id": 4375
      },
      {
       "item_id": 4376
      },
      {
       "item_id": 4377
      },
      {
       "item_id": 4378
      },
      {
       "item_id": 4379
      },
      {
       "item_id": 4380
      },
      {
       "item_id": 4381
      },
      {
       "item_id": 4382
      },
      {
       "item_id": 4383
      },
      {
       "item_id": 4384
      },
      {
       "item_id": 4385
      },
      {
       "item_id": 4387
      },
      {
       "item_id": 4388
      },
      {
       "item_id": 4389
      },
      {
       "item_id": 4390
      },
      {
       "item_id": 4391
      },
      {
       "item_id": 4392
      },
      {
       "item_id": 4393
      },
      {
       "item_id": 4394
      },
      {
       "item_id": 4395
      },
      {
       "item_id": 4396
      },
      {
       "item_id": 4397
      },
      {
       "item_id": 4398
      },
      {
       "item_id": 4399
      },
      {
       "item_id": 4400
      },
      {
       "item_id": 4401
      },
      {
       "item_id": 4402
      },
      {
       "item_id": 4404
      },
      {
       "item_id": 4405
      },
      {
       "item_id": 4406
      },
      {
       "item_id": 4407
      },
      {
       "item_id": 4408
      },
      {
       "item_id": 4409
      },
      {
       "item_id": 4410
      },
      {
       "item_id": 4411
      },
      {
       "item_id": 4412
      },
      {
       "item_id": 4413
      },
      {
       "item_id": 4414
      },
      {
       "item_id": 4415
      },
      {
       "item_id": 4416
      },
      {
       "item_id": 4417
      },
      {
       "item_id": 4419
      },
      {
       "item_id": 4420
      },
      {
       "item_id": 4421
      },
      {
       "item_id": 4422
      },
      {
       "item_id": 4423
      },
      {
       "item_id": 4424
      },
      {
       "item_id": 4425
      },
      {
       "item_id": 4426
      },
      {
       "item_id": 4427
      },
      {
       "item_id": 4428
      },
      {
       "item_id": 4429
      },
      {
       "item_id": 4430
      },
      {
       "item_id": 4432
      },
      {
       "item_id": 4433
      },
      {
       "item_id": 4434
      },
      {
       "item_id": 4435
      },
      {
       "item_id": 4436
      },
      {
       "item_id": 4437
      },
      {
       "item_id": 4438
      },
      {
       "item_id": 4439
      },
      {
       "item_id": 4440
      },
      {
       "item_id": 4441
      },
      {
       "item_id": 4442
      },
      {
       "item_id": 4443
      },
      {
       "item_id": 4444
      },
      {
       "item_id": 4445
      },
      {
       "item_id": 4447
      },
      {
       "item_id": 4448
      },
      {
       "item_id": 4449
      },
      {
       "item_id": 4450
      },
      {
       "item_id": 4451
      },
      {
       "item_id": 4452
      },
      {
       "item_id": 4453
      },
      {
       "item_id": 4454
      },
      {
       "item_id": 4455
      },
      {
       "item_id": 4456
      },
      {
       "item_id": 4457
      },
      {
       "item_id": 4458
      },
      {
       "item_id": 4460
      },
      {
       "item_id": 4461
      },
      {
       "item_id": 4462
      },
      {
       "item_id": 4463
      },
      {
       "item_id": 4464
      },
      {
       "item_id": 4465
      },
      {
       "item_id": 4466
      },
      {
       "item_id": 4467
      },
      {
       "item_id": 4468
      },
      {
       "item_id": 4469
      },
      {
       "item_id": 4470
      },
      {
       "item_id": 4471
      },
      {
       "item_id": 4472
      },
      {
       "item_id": 4473
      },
      {
       "item_id": 4475
      },
      {
       "item_id": 4476
      },
      {
       "item_id": 4477
      },
      {
       "item_id": 4478
      },
      {
       "item_id": 4479
      },
      {
       "item_id": 4480
      },
      {
       "item_id": 4481
      },
      {
       "item_id": 4482
      },
      {
       "item_id": 4483
      },
      {
       "item_id": 4484
      },
      {
       "item_id": 4485
      },
      {
       "item_id": 4486
      },
      {
       "item_id": 4487
      },
      {
       "item_id": 4488
      },
      {
       "item_id": 4490
      },
      {
       "item_id": 4491
      },
      {
       "item_id": 4492
      },
      {
       "item_id": 4493
      },
      {
       "item_id": 4494
      },
      {
       "item_id": 4495
      },
      {
       "item_id": 4496
      },
      {
       "item_id": 4497
      },
      {
       "item_id": 4498
      },
      {
       "item_id": 4499
      },
      {
       "item_id": 4500
      },
      {
       "item_id": 4501
      },
      {
       "item_id": 4502
      },
      {
       "item_id": 4503
      },
      {
       "item_id": 4505
      },
      {
       "item_id": 4506
      },
      {
       "item_id": 4507
      },
      {
       "item_id": 4508
      },
      {
       "item_id": 4509
      },
      {
       "item_id": 4510
      },
      {
       "item_id": 4511
      },
      {
       "item_id": 4512
      },
      {
       "item_id": 4513
      },
      {
       "item_id": 4514
      },
      {
       "item_id": 4515
      },
      {
       "item_id": 4516
      },
      {
       "item_id": 4517
      },
      {
       "item_id": 4518
      },
      {
       "item_id": 4519
      },
      {
       "item_id": 4520
      },
      {
       "item_id": 4521
      },
      {
       "item_id": 4522
      },
      {
       "item_id": 4523
      },
      {
       "item_id": 4524
      },
      {
       "item_id": 4525
      },
      {
       "item_id": 4526
      },
      {
       "item_id": 4527
      },
      {
       "item_id": 4528
      },
      {
       "item_id": 4529
      },
      {
       "item_id": 4530
      },
      {
       "item_id": 4531
      },
      {
       "item_id": 4532
      },
      {
       "item_id": 4534
      },
      {
       "item_id": 4535
      },
      {
       "item_id": 4536
      },
      {
       "item_id": 4537
      },
      {
       "item_id": 4538
      },
      {
       "item_id": 4539
      },
      {
       "item_id": 4540
      },
      {
       "item_id": 4541
      },
      {
       "item_id": 4542
      },
      {
       "item_id": 4543
      },
      {
       "item_id": 4544
      },
      {
       "item_id": 4545
      },
      {
       "item_id": 4546
      },
      {
       "item_id": 4547
      },
      {
       "item_id": 4549
      },
      {
       "item_id": 4550
      },
      {
       "item_id": 4551
      },
      {
       "item_id": 4552
      },
      {
       "item_id": 4553
      },
      {
       "item_id": 4554
      },
      {
       "item_id": 4555
      },
      {
       "item_id": 4556
      },
      {
       "item_id": 4557
      },
      {
       "item_id": 4558
      },
      {
       "item_id": 4559
      },
      {
       "item_id": 4560
      },
      {
       "item_id": 4561
      },
      {
       "item_id": 4562
      },
      {
       "item_id": 4564
      },
      {
       "item_id": 4565
      },
      {
       "item_id": 4566
      },
      {
       "item_id": 4567
      },
      {
       "item_id": 4568
      },
      {
       "item_id": 4569
      },
      {
       "item_id": 4570
      },
      {
       "item_id": 4571
      },
      {
       "item_id": 4572
      },
      {
       "item_id": 4573
      },
      {
       "item_id": 4574
      },
      {
       "item_id": 4575
      },
      {
       "item_id": 4576
      },
      {
       "item_id": 4577
      },
      {
       "item_id": 4579
      },
      {
       "item_id": 4580
      },
      {
       "item_id": 4581
      },
      {
       "item_id": 4582
      },
      {
       "item_id": 4583
      },
      {
       "item_id": 4584
      },
      {
       "item_id": 4585
      },
      {
       "item_id": 4586
      },
      {
       "item_id": 4587
      },
      {
       "item_id": 4588
      },
      {
       "item_id": 4589
      },
      {
       "item_id": 4590
      },
      {
       "item_id": 4592
      },
      {
       "item_id": 4593
      },
      {
       "item_id": 4594
      },
      {
       "item_id": 4595
      },
      {
       "item_id": 4596
      },
      {
       "item_id": 4597
      },
      {
       "item_id": 4598
      },
      {
       "item_id": 4599
      },
      {
       "item_id": 4600
      },
      {
       "item_id": 4601
      },
      {
       "item_id": 4602
      },
      {
       "item_id": 4603
      },
      {
       "item_id": 4604
      },
      {
       "item_id": 4605
      },
      {
       "item_id": 4606
      },
      {
       "item_id": 4607
      },
      {
       "item_id": 4609
      },
      {
       "item_id": 4610
      },
      {
       "item_id": 4611
      },
      {
       "item_id": 4612
      },
      {
       "item_id": 4613
      },
      {
       "item_id": 4614
      },
      {
       "item_id": 4615
      },
      {
       "item_id": 4616
      },
      {
       "item_id": 4617
      },
      {
       "item_id": 4618
      },
      {
       "item_id": 4619
      },
      {
       "item_id": 4620
      },
      {
       "item_id": 4621
      },
      {
       "item_id": 4622
      },
      {
       "item_id": 4624
      },
      {
       "item_id": 4625
      },
      {
       "item_id": 4626
      },
      {
       "item_id": 4627
      },
      {
       "item_id": 4628
      },
      {
       "item_id": 4629
      },
      {
       "item_id": 4630
      },
      {
       "item_id": 4631
      },
      {
       "item_id": 4632
      },
      {
       "item_id": 4633
      },
      {
       "item_id": 4634
      },
      {
       "item_id": 4635
      },
      {
       "item_id": 4637
      },
      {
       "item_id": 4638
      },
      {
       "item_id": 4639
      },
      {
       "item_id": 4640
      },
      {
       "item_id": 4641
      },
      {
       "item_id": 4642
      },
      {
       "item_id": 4643
      },
      {
       "item_id": 4644
      },
      {
       "item_id": 4645
      },
      {
       "item_id": 4646
      },
      {
       "item_id": 4647
      },
      {
       "item_id": 4648
      },
      {
       "item_id": 4649
      },
      {
       "item_id": 4650
      },
      {
       "item_id": 4651
      },
      {
       "item_id": 4652
      },
      {
       "item_id": 4653
      },
      {
       "item_id": 4654
      },
      {
       "item_id": 4655
      },
      {
       "item_id": 4656
      },
      {
       "item_id": 4791
      },
      {
       "item_id": 4792
      },
      {
       "item_id": 4793
      },
      {
       "item_id": 4794
      },
      {
       "item_id": 4795
      },
      {
       "item_id": 4796
      },
      {
       "item_id": 4797
      },
      {
       "item_id": 4798
      },
      {
       "item_id": 4799
      },
      {
       "item_id": 4801
      },
      {
       "item_id": 4802
      },
      {
       "item_id": 4803
      },
      {
       "item_id": 4804
      },
      {
       "item_id": 4805
      },
      {
       "item_id": 4806
      },
      {
       "item_id": 4807
      },
      {
       "item_id": 4808
      },
      {
       "item_id": 4809
      },
      {
       "item_id": 4810
      },
      {
       "item_id": 4811
      },
      {
       "item_id": 4812
      },
      {
       "item_id": 4813
      },
      {
       "item_id": 4814
      },
      {
       "item_id": 4815
      },
      {
       "item_id": 4816
      },
      {
       "item_id": 4817
      },
      {
       "item_id": 4818
      },
      {
       "item_id": 4820
      },
      {
       "item_id": 4821
      },
      {
       "item_id": 4822
      },
      {
       "item_id": 4823
      },
      {
       "item_id": 4824
      },
      {
       "item_id": 4825
      },
      {
       "item_id": 4826
      },
      {
       "item_id": 4827
      },
      {
       "item_id": 4828
      },
      {
       "item_id": 4829
      },
      {
       "item_id": 4830
      },
      {
       "item_id": 4831
      },
      {
       "item_id": 4832
      },
      {
       "item_id": 4833
      },
      {
       "item_id": 4834
      },
      {
       "item_id": 4835
      },
      {
       "item_id": 4836
      },
      {
       "item_id": 4837
      },
      {
       "item_id": 4839
      },
      {
       "item_id": 4840
      },
      {
       "item_id": 4841
      },
      {
       "item_id": 4842
      },
      {
       "item_id": 4843
      },
      {
       "item_id": 4844
      },
      {
       "item_id": 4845
      },
      {
       "item_id": 4846
      },
      {
       "item_id": 4847
      },
      {
       "item_id": 4848
      },
      {
       "item_id": 4849
      },
      {
       "item_id": 4850
      },
      {
       "item_id": 4851
      },
      {
       "item_id": 4852
      },
      {
       "item_id": 4853
      },
      {
       "item_id": 4854
      },
      {
       "item_id": 4855
      },
      {
       "item_id": 4856
      },
      {
       "item_id": 4858
      },
      {
       "item_id": 4859
      },
      {
       "item_id": 4860
      },
      {
       "item_id": 4861
      },
      {
       "item_id": 4862
      },
      {
       "item_id": 4863
      },
      {
       "item_id": 4864
      },
      {
       "item_id": 4865
      },
      {
       "item_id": 4866
      },
      {
       "item_id": 4867
      },
      {
       "item_id": 4868
      },
      {
       "item_id": 4869
      },
      {
       "item_id": 4870
      },
      {
       "item_id": 4871
      },
      {
       "item_id": 4872
      },
      {
       "item_id": 4873
      },
      {
       "item_id": 4874
      },
      {
       "item_id": 4875
      },
      {
       "item_id": 4876
      },
      {
       "item_id": 4877
      },
      {
       "item_id": 4879
      },
      {
       "item_id": 4880
      },
      {
       "item_id": 4881
      },
      {
       "item_id": 4882
      },
      {
       "item_id": 4883
      },
      {
       "item_id": 4884
      },
      {
       "item_id": 4885
      },
      {
       "item_id": 4886
      },
      {
       "item_id": 4887
      },
      {
       "item_id": 4888
      },
      {
       "item_id": 4889
      },
      {
       "item_id": 4890
      },
      {
       "item_id": 4891
      },
      {
       "item_id": 4892
      },
      {
       "item_id": 4893
      },
      {
       "item_id": 4894
      },
      {
       "item_id": 4896
      },
      {
       "item_id": 4897
      },
      {
       "item_id": 4898
      },
      {
       "item_id": 4899
      },
      {
       "item_id": 4900
      },
      {
       "item_id": 4901
      },
      {
       "item_id": 4902
      },
      {
       "item_id": 4903
      },
      {
       "item_id": 4904
      },
      {
       "item_id": 4905
      },
      {
       "item_id": 4906
      },
      {
       "item_id": 4907
      },
      {
       "item_id": 4908
      },
      {
       "item_id": 4909
      },
      {
       "item_id": 4910
      },
      {
       "item_id": 4911
      },
      {
       "item_id": 4912
      },
      {
       "item_id": 4913
      },
      {
       "item_id": 4914
      },
      {
       "item_id": 4915
      },
      {
       "item_id": 4917
      },
      {
       "item_id": 4918
      },
      {
       "item_id": 4919
      },
      {
       "item_id": 4920
      },
      {
       "item_id": 4921
      },
      {
       "item_id": 4922
      },
      {
       "item_id": 4923
      },
      {
       "item_id": 4924
      },
      {
       "item_id": 4925
      },
      {
       "item_id": 4926
      },
      {
       "item_id": 4927
      },
      {
       "item_id": 4928
      },
      {
       "item_id": 4929
      },
      {
       "item_id": 4930
      },
      {
       "item_id": 4931
      },
      {
       "item_id": 4932
      },
      {
       "item_id": 4933
      },
      {
       "item_id": 4934
      },
      {
       "item_id": 4935
      },
      {
       "item_id": 4936
      },
      {
       "item_id": 4937
      },
      {
       "item_id": 4938
      },
      {
       "item_id": 4939
      },
      {
       "item_id": 4940
      },
      {
       "item_id": 4941
      },
      {
       "item_id": 4942
      },
      {
       "item_id": 4943
      },
      {
       "item_id": 4944
      },
      {
       "item_id": 4945
      },
      {
       "item_id": 4946
      },
      {
       "item_id": 4947
      },
      {
       "item_id": 4948
      },
      {
       "item_id": 4949
      },
      {
       "item_id": 4950
      },
      {
       "item_id": 4951
      },
      {
       "item_id": 4952
      },
      {
       "item_id": 4953
      },
      {
       "item_id": 4954
      },
      {
       "item_id": 4955
      },
      {
       "item_id": 4956
      },
      {
       "item_id": 4957
      },
      {
       "item_id": 4958
      },
      {
       "item_id": 4959
      },
      {
       "item_id": 4960
      },
      {
       "item_id": 4961
      },
      {
       "item_id": 4962
      },
      {
       "item_id": 4963
      },
      {
       "item_id": 4964
      },
      {
       "item_id": 4965
      },
      {
       "item_id": 4966
      },
      {
       "item_id": 4967
      },
      {
       "item_id": 4968
      },
      {
       "item_id": 4969
      },
      {
       "item_id": 4970
      },
      {
       "item_id": 4971
      },
      {
       "item_id": 4972
      },
      {
       "item_id": 4973
      },
      {
       "item_id": 4974
      },
      {
       "item_id": 4975
      },
      {
       "item_id": 4976
      },
      {
       "item_id": 4977
      },
      {
       "item_id": 4978
      },
      {
       "item_id": 4979
      },
      {
       "item_id": 4980
      },
      {
       "item_id": 4981
      },
      {
       "item_id": 4982
      },
      {
       "item_id": 4983
      },
      {
       "item_id": 4984
      },
      {
       "item_id": 4985
      },
      {
       "item_id": 4986
      },
      {
       "item_id": 4987
      },
      {
       "item_id": 4988
      },
      {
       "item_id": 4989
      },
      {
       "item_id": 4990
      },
      {
       "item_id": 4991
      },
      {
       "item_id": 4992
      },
      {
       "item_id": 4993
      },
      {
       "item_id": 4994
      },
      {
       "item_id": 4995
      },
      {
       "item_id": 4996
      },
      {
       "item_id": 4997
      },
      {
       "item_id": 4998
      },
      {
       "item_id": 4999
      },
      {
       "item_id": 5000
      },
      {
       "item_id": 5001
      },
      {
       "item_id": 5002
      },
      {
       "item_id": 5003
      },
      {
       "item_id": 5004
      },
      {
       "item_id": 5005
      },
      {
       "item_id": 5006
      },
      {
       "item_id": 5007
      },
      {
       "item_id": 5008
      },
      {
       "item_id": 5009
      },
      {
       "item_id": 5010
      },
      {
       "item_id": 5011
      },
      {
       "item_id": 5012
      },
      {
       "item_id": 5013
      },
      {
       "item_id": 5014
      },
      {
       "item_id": 5015
      },
      {
       "item_id": 5016
      },
      {
       "item_id": 5017
      },
      {
       "item_id": 5018
      },
      {
       "item_id": 5019
      },
      {
       "item_id": 5020
      },
      {
       "item_id": 5021
      },
      {
       "item_id": 5022
      },
      {
       "item_id": 5023
      },
      {
       "item_id": 5024
      },
      {
       "item_id": 5025
      },
      {
       "item_id": 5026
      },
      {
       "item_id": 5027
      },
      {
       "item_id": 5028
      },
      {
       "item_id": 5029
      },
      {
       "item_id": 5030
      },
      {
       "item_id": 5031
      },
      {
       "item_id": 5032
      },
      {
       "item_id": 5033
      },
      {
       "item_id": 5034
      },
      {
       "item_id": 5035
      },
      {
       "item_id": 5036
      },
      {
       "item_id": 5037
      },
      {
       "item_id": 5038
      },
      {
       "item_id": 5039
      },
      {
       "item_id": 5040
      },
      {
       "item_id": 5041
      },
      {
       "item_id": 5042
      },
      {
       "item_id": 5043
      },
      {
       "item_id": 5044
      },
      {
       "item_id": 5045
      },
      {
       "item_id": 5046
      },
      {
       "item_id": 5047
      },
      {
       "item_id": 5048
      },
      {
       "item_id": 5049
      },
      {
       "item_id": 5050
      },
      {
       "item_id": 5051
      },
      {
       "item_id": 5052
      },
      {
       "item_id": 5053
      },
      {
       "item_id": 5054
      },
      {
       "item_id": 5055
      },
      {
       "item_id": 5056
      },
      {
       "item_id": 5057
      },
      {
       "item_id": 5058
      },
      {
       "item_id": 5059
      },
      {
       "item_id": 5060
      },
      {
       "item_id": 5061
      },
      {
       "item_id": 5062
      },
      {
       "item_id": 5063
      },
      {
       "item_id": 5064
      },
      {
       "item_id": 5065
      },
      {
       "item_id": 5066
      },
      {
       "item_id": 5067
      },
      {
       "item_id": 5068
      },
      {
       "item_id": 5069
      },
      {
       "item_id": 5070
      },
      {
       "item_id": 5071
      },
      {
       "item_id": 5072
      },
      {
       "item_id": 5073
      },
      {
       "item_id": 5074
      },
      {
       "item_id": 5075
      },
      {
       "item_id": 5076
      },
      {
       "item_id": 5077
      },
      {
       "item_id": 5078
      },
      {
       "item_id": 5079
      },
      {
       "item_id": 5080
      },
      {
       "item_id": 5081
      },
      {
       "item_id": 5082
      },
      {
       "item_id": 5083
      },
      {
       "item_id": 5084
      },
      {
       "item_id": 5085
      },
      {
       "item_id": 5086
      },
      {
       "item_id": 5087
      },
      {
       "item_id": 5088
      },
      {
       "item_id": 5089
      },
      {
       "item_id": 5090
      },
      {
       "item_id": 5091
      },
      {
       "item_id": 5092
      },
      {
       "item_id": 5093
      },
      {
       "item_id": 5094
      },
      {
       "item_id": 5095
      },
      {
       "item_id": 5096
      },
      {
       "item_id": 5097
      },
      {
       "item_id": 5098
      },
      {
       "item_id": 5099
      },
      {
       "item_id": 5100
      },
      {
       "item_id": 5101
      },
      {
       "item_id": 5102
      },
      {
       "item_id": 5103
      },
      {
       "item_id": 5104
      },
      {
       "item_id": 5105
      },
      {
       "item_id": 5106
      },
      {
       "item_id": 5107
      },
      {
       "item_id": 5108
      },
      {
       "item_id": 5109
      },
      {
       "item_id": 5110
      },
      {
       "item_id": 5111
      },
      {
       "item_id": 5112
      },
      {
       "item_id": 5113
      },
      {
       "item_id": 5114
      },
      {
       "item_id": 5115
      },
      {
       "item_id": 5116
      },
      {
       "item_id": 5117
      },
      {
       "item_id": 5118
      },
      {
       "item_id": 5119
      },
      {
       "item_id": 5120
      },
      {
       "item_id": 5121
      },
      {
       "item_id": 5122
      },
      {
       "item_id": 5123
      },
      {
       "item_id": 5124
      },
      {
       "item_id": 5125
      },
      {
       "item_id": 5126
      },
      {
       "item_id": 5127
      },
      {
       "item_id": 5128
      },
      {
       "item_id": 5129
      },
      {
       "item_id": 5130
      },
      {
       "item_id": 5131
      },
      {
       "item_id": 5132
      },
      {
       "item_id": 5133
      },
      {
       "item_id": 5134
      },
      {
       "item_id": 5135
      },
      {
       "item_id": 5136
      },
      {
       "item_id": 5137
      },
      {
       "item_id": 5138
      },
      {
       "item_id": 5139
      },
      {
       "item_id": 5140
      },
      {
       "item_id": 5141
      },
      {
       "item_id": 5142
      },
      {
       "item_id": 5143
      },
      {
       "item_id": 5144
      },
      {
       "item_id": 5145
      },
      {
       "item_id": 5146
      },
      {
       "item_id": 5147
      },
      {
       "item_id": 5148
      },
      {
       "item_id": 5149
      },
      {
       "item_id": 5150
      },
      {
       "item_id": 5151
      },
      {
       "item_id": 5152
      },
      {
       "item_id": 5153
      },
      {
       "item_id": 5154
      },
      {
       "item_id": 5155
      },
      {
       "item_id": 5156
      },
      {
       "item_id": 5157
      },
      {
       "item_id": 5158
      },
      {
       "item_id": 5159
      },
      {
       "item_id": 5160
      },
      {
       "item_id": 5161
      },
      {
       "item_id": 5162
      },
      {
       "item_id": 5163
      },
      {
       "item_id": 5164
      },
      {
       "item_id": 5165
      },
      {
       "item_id": 5166
      },
      {
       "item_id": 5167
      },
      {
       "item_id": 5168
      },
      {
       "item_id": 5169
      },
      {
       "item_id": 5170
      },
      {
       "item_id": 5171
      },
      {
       "item_id": 5172
      },
      {
       "item_id": 5173
      },
      {
       "item_id": 5174
      },
      {
       "item_id": 5175
      }
     ]
    },
    "colab_type": "code",
    "id": "3X9KSxuypTF0",
    "outputId": "1e7e6923-02df-4e7e-cc48-3ff987b1e2dd"
   },
   "outputs": [
    {
     "name": "stderr",
     "output_type": "stream",
     "text": [
      "  0%|          | 0/13075 [00:00<?, ?it/s]Exception ignored in: <bound method _DataLoaderIter.__del__ of <torch.utils.data.dataloader._DataLoaderIter object at 0x7f1d3d318320>>\n",
      "Traceback (most recent call last):\n",
      "  File \"/opt/conda/lib/python3.6/site-packages/torch/utils/data/dataloader.py\", line 399, in __del__\n",
      "    self._shutdown_workers()\n",
      "  File \"/opt/conda/lib/python3.6/site-packages/torch/utils/data/dataloader.py\", line 378, in _shutdown_workers\n",
      "    self.worker_result_queue.get()\n",
      "  File \"/opt/conda/lib/python3.6/multiprocessing/queues.py\", line 337, in get\n",
      "    return _ForkingPickler.loads(res)\n",
      "  File \"/opt/conda/lib/python3.6/site-packages/torch/multiprocessing/reductions.py\", line 151, in rebuild_storage_fd\n",
      "    fd = df.detach()\n",
      "  File \"/opt/conda/lib/python3.6/multiprocessing/resource_sharer.py\", line 57, in detach\n",
      "    with _resource_sharer.get_connection(self._id) as conn:\n",
      "  File \"/opt/conda/lib/python3.6/multiprocessing/resource_sharer.py\", line 87, in get_connection\n",
      "    c = Client(address, authkey=process.current_process().authkey)\n",
      "  File \"/opt/conda/lib/python3.6/multiprocessing/connection.py\", line 494, in Client\n",
      "    deliver_challenge(c, authkey)\n",
      "  File \"/opt/conda/lib/python3.6/multiprocessing/connection.py\", line 722, in deliver_challenge\n",
      "    response = connection.recv_bytes(256)        # reject large message\n",
      "  File \"/opt/conda/lib/python3.6/multiprocessing/connection.py\", line 216, in recv_bytes\n",
      "    buf = self._recv_bytes(maxlength)\n",
      "  File \"/opt/conda/lib/python3.6/multiprocessing/connection.py\", line 407, in _recv_bytes\n",
      "    buf = self._recv(4)\n",
      "  File \"/opt/conda/lib/python3.6/multiprocessing/connection.py\", line 379, in _recv\n",
      "    chunk = read(handle, remaining)\n",
      "ConnectionResetError: [Errno 104] Connection reset by peer\n",
      "\n"
     ]
    },
    {
     "ename": "RuntimeError",
     "evalue": "input and target shapes do not match: input [32 x 1], target [32] at /pytorch/aten/src/THCUNN/generic/MSECriterion.cu:12",
     "output_type": "error",
     "traceback": [
      "\u001b[0;31m---------------------------------------------------------------------------\u001b[0m",
      "\u001b[0;31mRuntimeError\u001b[0m                              Traceback (most recent call last)",
      "\u001b[0;32m<ipython-input-10-af4eb151a9f5>\u001b[0m in \u001b[0;36m<module>\u001b[0;34m\u001b[0m\n\u001b[1;32m     11\u001b[0m         \u001b[0mnet\u001b[0m\u001b[0;34m.\u001b[0m\u001b[0mtrain\u001b[0m\u001b[0;34m(\u001b[0m\u001b[0;34m)\u001b[0m\u001b[0;34m\u001b[0m\u001b[0m\n\u001b[1;32m     12\u001b[0m         \u001b[0moutputs\u001b[0m \u001b[0;34m=\u001b[0m \u001b[0mnet\u001b[0m\u001b[0;34m(\u001b[0m\u001b[0minputs\u001b[0m\u001b[0;34m)\u001b[0m\u001b[0;34m\u001b[0m\u001b[0m\n\u001b[0;32m---> 13\u001b[0;31m         \u001b[0mloss\u001b[0m \u001b[0;34m=\u001b[0m \u001b[0mcriterion\u001b[0m\u001b[0;34m(\u001b[0m\u001b[0moutputs\u001b[0m\u001b[0;34m,\u001b[0m \u001b[0mlabels\u001b[0m\u001b[0;34m)\u001b[0m\u001b[0;34m\u001b[0m\u001b[0m\n\u001b[0m\u001b[1;32m     14\u001b[0m         \u001b[0mloss\u001b[0m\u001b[0;34m.\u001b[0m\u001b[0mbackward\u001b[0m\u001b[0;34m(\u001b[0m\u001b[0;34m)\u001b[0m\u001b[0;34m\u001b[0m\u001b[0m\n\u001b[1;32m     15\u001b[0m         \u001b[0moptimizer\u001b[0m\u001b[0;34m.\u001b[0m\u001b[0mstep\u001b[0m\u001b[0;34m(\u001b[0m\u001b[0;34m)\u001b[0m\u001b[0;34m\u001b[0m\u001b[0m\n",
      "\u001b[0;32m/opt/conda/lib/python3.6/site-packages/torch/nn/modules/module.py\u001b[0m in \u001b[0;36m__call__\u001b[0;34m(self, *input, **kwargs)\u001b[0m\n\u001b[1;32m    475\u001b[0m             \u001b[0mresult\u001b[0m \u001b[0;34m=\u001b[0m \u001b[0mself\u001b[0m\u001b[0;34m.\u001b[0m\u001b[0m_slow_forward\u001b[0m\u001b[0;34m(\u001b[0m\u001b[0;34m*\u001b[0m\u001b[0minput\u001b[0m\u001b[0;34m,\u001b[0m \u001b[0;34m**\u001b[0m\u001b[0mkwargs\u001b[0m\u001b[0;34m)\u001b[0m\u001b[0;34m\u001b[0m\u001b[0m\n\u001b[1;32m    476\u001b[0m         \u001b[0;32melse\u001b[0m\u001b[0;34m:\u001b[0m\u001b[0;34m\u001b[0m\u001b[0m\n\u001b[0;32m--> 477\u001b[0;31m             \u001b[0mresult\u001b[0m \u001b[0;34m=\u001b[0m \u001b[0mself\u001b[0m\u001b[0;34m.\u001b[0m\u001b[0mforward\u001b[0m\u001b[0;34m(\u001b[0m\u001b[0;34m*\u001b[0m\u001b[0minput\u001b[0m\u001b[0;34m,\u001b[0m \u001b[0;34m**\u001b[0m\u001b[0mkwargs\u001b[0m\u001b[0;34m)\u001b[0m\u001b[0;34m\u001b[0m\u001b[0m\n\u001b[0m\u001b[1;32m    478\u001b[0m         \u001b[0;32mfor\u001b[0m \u001b[0mhook\u001b[0m \u001b[0;32min\u001b[0m \u001b[0mself\u001b[0m\u001b[0;34m.\u001b[0m\u001b[0m_forward_hooks\u001b[0m\u001b[0;34m.\u001b[0m\u001b[0mvalues\u001b[0m\u001b[0;34m(\u001b[0m\u001b[0;34m)\u001b[0m\u001b[0;34m:\u001b[0m\u001b[0;34m\u001b[0m\u001b[0m\n\u001b[1;32m    479\u001b[0m             \u001b[0mhook_result\u001b[0m \u001b[0;34m=\u001b[0m \u001b[0mhook\u001b[0m\u001b[0;34m(\u001b[0m\u001b[0mself\u001b[0m\u001b[0;34m,\u001b[0m \u001b[0minput\u001b[0m\u001b[0;34m,\u001b[0m \u001b[0mresult\u001b[0m\u001b[0;34m)\u001b[0m\u001b[0;34m\u001b[0m\u001b[0m\n",
      "\u001b[0;32m/opt/conda/lib/python3.6/site-packages/torch/nn/modules/loss.py\u001b[0m in \u001b[0;36mforward\u001b[0;34m(self, input, target)\u001b[0m\n\u001b[1;32m    419\u001b[0m \u001b[0;34m\u001b[0m\u001b[0m\n\u001b[1;32m    420\u001b[0m     \u001b[0;32mdef\u001b[0m \u001b[0mforward\u001b[0m\u001b[0;34m(\u001b[0m\u001b[0mself\u001b[0m\u001b[0;34m,\u001b[0m \u001b[0minput\u001b[0m\u001b[0;34m,\u001b[0m \u001b[0mtarget\u001b[0m\u001b[0;34m)\u001b[0m\u001b[0;34m:\u001b[0m\u001b[0;34m\u001b[0m\u001b[0m\n\u001b[0;32m--> 421\u001b[0;31m         \u001b[0;32mreturn\u001b[0m \u001b[0mF\u001b[0m\u001b[0;34m.\u001b[0m\u001b[0mmse_loss\u001b[0m\u001b[0;34m(\u001b[0m\u001b[0minput\u001b[0m\u001b[0;34m,\u001b[0m \u001b[0mtarget\u001b[0m\u001b[0;34m,\u001b[0m \u001b[0mreduction\u001b[0m\u001b[0;34m=\u001b[0m\u001b[0mself\u001b[0m\u001b[0;34m.\u001b[0m\u001b[0mreduction\u001b[0m\u001b[0;34m)\u001b[0m\u001b[0;34m\u001b[0m\u001b[0m\n\u001b[0m\u001b[1;32m    422\u001b[0m \u001b[0;34m\u001b[0m\u001b[0m\n\u001b[1;32m    423\u001b[0m \u001b[0;34m\u001b[0m\u001b[0m\n",
      "\u001b[0;32m/opt/conda/lib/python3.6/site-packages/torch/nn/functional.py\u001b[0m in \u001b[0;36mmse_loss\u001b[0;34m(input, target, size_average, reduce, reduction)\u001b[0m\n\u001b[1;32m   1714\u001b[0m     \u001b[0;32melse\u001b[0m\u001b[0;34m:\u001b[0m\u001b[0;34m\u001b[0m\u001b[0m\n\u001b[1;32m   1715\u001b[0m         \u001b[0mreduction\u001b[0m \u001b[0;34m=\u001b[0m \u001b[0m_Reduction\u001b[0m\u001b[0;34m.\u001b[0m\u001b[0mget_enum\u001b[0m\u001b[0;34m(\u001b[0m\u001b[0mreduction\u001b[0m\u001b[0;34m)\u001b[0m\u001b[0;34m\u001b[0m\u001b[0m\n\u001b[0;32m-> 1716\u001b[0;31m     \u001b[0;32mreturn\u001b[0m \u001b[0m_pointwise_loss\u001b[0m\u001b[0;34m(\u001b[0m\u001b[0;32mlambda\u001b[0m \u001b[0ma\u001b[0m\u001b[0;34m,\u001b[0m \u001b[0mb\u001b[0m\u001b[0;34m:\u001b[0m \u001b[0;34m(\u001b[0m\u001b[0ma\u001b[0m \u001b[0;34m-\u001b[0m \u001b[0mb\u001b[0m\u001b[0;34m)\u001b[0m \u001b[0;34m**\u001b[0m \u001b[0;36m2\u001b[0m\u001b[0;34m,\u001b[0m \u001b[0mtorch\u001b[0m\u001b[0;34m.\u001b[0m\u001b[0m_C\u001b[0m\u001b[0;34m.\u001b[0m\u001b[0m_nn\u001b[0m\u001b[0;34m.\u001b[0m\u001b[0mmse_loss\u001b[0m\u001b[0;34m,\u001b[0m \u001b[0minput\u001b[0m\u001b[0;34m,\u001b[0m \u001b[0mtarget\u001b[0m\u001b[0;34m,\u001b[0m \u001b[0mreduction\u001b[0m\u001b[0;34m)\u001b[0m\u001b[0;34m\u001b[0m\u001b[0m\n\u001b[0m\u001b[1;32m   1717\u001b[0m \u001b[0;34m\u001b[0m\u001b[0m\n\u001b[1;32m   1718\u001b[0m \u001b[0;34m\u001b[0m\u001b[0m\n",
      "\u001b[0;32m/opt/conda/lib/python3.6/site-packages/torch/nn/functional.py\u001b[0m in \u001b[0;36m_pointwise_loss\u001b[0;34m(lambd, lambd_optimized, input, target, reduction)\u001b[0m\n\u001b[1;32m   1672\u001b[0m         \u001b[0;32mreturn\u001b[0m \u001b[0mtorch\u001b[0m\u001b[0;34m.\u001b[0m\u001b[0mmean\u001b[0m\u001b[0;34m(\u001b[0m\u001b[0md\u001b[0m\u001b[0;34m)\u001b[0m \u001b[0;32mif\u001b[0m \u001b[0mreduction\u001b[0m \u001b[0;34m==\u001b[0m \u001b[0;34m'elementwise_mean'\u001b[0m \u001b[0;32melse\u001b[0m \u001b[0mtorch\u001b[0m\u001b[0;34m.\u001b[0m\u001b[0msum\u001b[0m\u001b[0;34m(\u001b[0m\u001b[0md\u001b[0m\u001b[0;34m)\u001b[0m\u001b[0;34m\u001b[0m\u001b[0m\n\u001b[1;32m   1673\u001b[0m     \u001b[0;32melse\u001b[0m\u001b[0;34m:\u001b[0m\u001b[0;34m\u001b[0m\u001b[0m\n\u001b[0;32m-> 1674\u001b[0;31m         \u001b[0;32mreturn\u001b[0m \u001b[0mlambd_optimized\u001b[0m\u001b[0;34m(\u001b[0m\u001b[0minput\u001b[0m\u001b[0;34m,\u001b[0m \u001b[0mtarget\u001b[0m\u001b[0;34m,\u001b[0m \u001b[0mreduction\u001b[0m\u001b[0;34m)\u001b[0m\u001b[0;34m\u001b[0m\u001b[0m\n\u001b[0m\u001b[1;32m   1675\u001b[0m \u001b[0;34m\u001b[0m\u001b[0m\n\u001b[1;32m   1676\u001b[0m \u001b[0;34m\u001b[0m\u001b[0m\n",
      "\u001b[0;31mRuntimeError\u001b[0m: input and target shapes do not match: input [32 x 1], target [32] at /pytorch/aten/src/THCUNN/generic/MSECriterion.cu:12"
     ]
    }
   ],
   "source": [
    "for epoch in range(10):\n",
    "    #sys.stderr.write(('EPOCH ' + str(epoch)))\n",
    "    #sys.stderr.flush()\n",
    "    for i_batch, sampled_batch in enumerate(tqdm(train_data_loader)):\n",
    "\n",
    "        sequence, transformed_sequence, growth_rate = sampled_batch\n",
    "        inputs, labels = Variable(transformed_sequence.float().cuda()), Variable(growth_rate.float().cuda())\n",
    "\n",
    "        optimizer.zero_grad()\n",
    "        # forward + backward + optimize\n",
    "        net.train()\n",
    "        outputs = net(inputs)\n",
    "        loss = criterion(outputs, labels)\n",
    "        loss.backward()\n",
    "        optimizer.step()\n",
    "\n",
    "        # print statistic\n",
    "\n",
    "    error = 0\n",
    "    total = 0\n",
    "    \n",
    "    net.eval()\n",
    "    for batch in tqdm(val_data_loader):\n",
    "      v_seq, X_v, y_v = batch\n",
    "      v_pred = net(Variable(X_v.float().cuda()))\n",
    "      total += y_v.size(0)\n",
    "      raw_error = v_pred[:,0].data - y_v.float().cuda()\n",
    "      error += (raw_error**2).sum()\n",
    "\n",
    "      avg_mse = error / float(total)\n",
    "      tqdm.write('avg_mse: %.3f' % avg_mse)\n",
    "\n",
    "torch.save(net, 'saved_model.t7')"
   ]
  },
  {
   "cell_type": "markdown",
   "metadata": {
    "colab_type": "text",
    "id": "8zfnwuHM5X8-"
   },
   "source": [
    "# New Section"
   ]
  },
  {
   "cell_type": "markdown",
   "metadata": {
    "colab_type": "text",
    "id": "ejio770S5YsU"
   },
   "source": [
    "# New Section"
   ]
  },
  {
   "cell_type": "markdown",
   "metadata": {
    "colab_type": "text",
    "id": "BoqNDauu_lo7"
   },
   "source": [
    "Finally, after training has completed, we evaluate again on the validation set."
   ]
  },
  {
   "cell_type": "code",
   "execution_count": 20,
   "metadata": {
    "colab": {
     "autoexec": {
      "startup": false,
      "wait_interval": 0
     },
     "base_uri": "https://localhost:8080/",
     "height": 71,
     "output_extras": [
      {
       "item_id": 104
      },
      {
       "item_id": 105
      },
      {
       "item_id": 106
      }
     ]
    },
    "colab_type": "code",
    "executionInfo": {
     "elapsed": 218649,
     "status": "ok",
     "timestamp": 1518087546162,
     "user": {
      "displayName": "",
      "photoUrl": "",
      "userId": ""
     },
     "user_tz": -60
    },
    "id": "WAWt5ONTpU1n",
    "outputId": "7538d6b4-e3da-4601-c485-9712257f9694"
   },
   "outputs": [
    {
     "name": "stderr",
     "output_type": "stream",
     "text": [
      "100%|██████████| 1453/1453 [00:23<00:00, 62.48it/s]"
     ]
    },
    {
     "name": "stdout",
     "output_type": "stream",
     "text": [
      "Validation error: 0.4917738338773088\n"
     ]
    },
    {
     "name": "stderr",
     "output_type": "stream",
     "text": [
      "\n"
     ]
    }
   ],
   "source": [
    "error = 0\n",
    "total = 0\n",
    "for batch in tqdm(val_data_loader):\n",
    "                v_seq, X_v, y_v = batch\n",
    "                v_pred = net(Variable(X_v.float().cuda()))\n",
    "                total += y_v.size(0)\n",
    "                raw_error = v_pred[:,0].data - y_v.float().cuda()\n",
    "                error += (raw_error**2).sum()\n",
    "\n",
    "avg_mse = error / float(total)\n",
    "\n",
    "print(\"Validation error: {}\".format(avg_mse))"
   ]
  },
  {
   "cell_type": "code",
   "execution_count": 21,
   "metadata": {
    "colab": {
     "autoexec": {
      "startup": false,
      "wait_interval": 0
     },
     "base_uri": "https://localhost:8080/",
     "height": 71,
     "output_extras": [
      {
       "item_id": 56
      },
      {
       "item_id": 57
      },
      {
       "item_id": 58
      }
     ]
    },
    "colab_type": "code",
    "executionInfo": {
     "elapsed": 14459,
     "status": "ok",
     "timestamp": 1518087676925,
     "user": {
      "displayName": "",
      "photoUrl": "",
      "userId": ""
     },
     "user_tz": -60
    },
    "id": "KlQpl5K17z8Y",
    "outputId": "f9331b0d-643c-4abc-dcd4-29a759f7ac77"
   },
   "outputs": [
    {
     "name": "stderr",
     "output_type": "stream",
     "text": [
      "100%|██████████| 765/765 [00:12<00:00, 59.93it/s]"
     ]
    },
    {
     "name": "stdout",
     "output_type": "stream",
     "text": [
      "Test error: 0.43096563762283135\n"
     ]
    },
    {
     "name": "stderr",
     "output_type": "stream",
     "text": [
      "\n"
     ]
    }
   ],
   "source": [
    "error = 0\n",
    "total = 0\n",
    "preds = []\n",
    "for batch in tqdm(test_data_loader):\n",
    "                v_seq, X_v, y_v = batch\n",
    "                v_pred = net(Variable(X_v.float().cuda()))\n",
    "                total += y_v.size(0)\n",
    "                raw_error = v_pred[:,0].data - y_v.float().cuda()\n",
    "                preds.extend(v_pred[:,0].data)\n",
    "                error += (raw_error**2).sum()\n",
    "\n",
    "avg_mse = error / float(total)\n",
    "\n",
    "print(\"Test error: {}\".format(avg_mse))"
   ]
  },
  {
   "cell_type": "markdown",
   "metadata": {
    "colab_type": "text",
    "id": "8dWHw5bXAK8H"
   },
   "source": [
    "Add R^2 calculation here to make it comparable to Keras version."
   ]
  },
  {
   "cell_type": "code",
   "execution_count": 22,
   "metadata": {
    "colab": {
     "autoexec": {
      "startup": false,
      "wait_interval": 0
     }
    },
    "colab_type": "code",
    "id": "derZqHeXsaVg"
   },
   "outputs": [],
   "source": [
    "actuals = [test_data[i][2] for i in range(len(test_data))]"
   ]
  },
  {
   "cell_type": "code",
   "execution_count": 17,
   "metadata": {},
   "outputs": [
    {
     "name": "stdout",
     "output_type": "stream",
     "text": [
      "Requirement already satisfied: scipy in /opt/conda/lib/python3.6/site-packages\n"
     ]
    }
   ],
   "source": [
    "!pip install scipy"
   ]
  },
  {
   "cell_type": "code",
   "execution_count": 23,
   "metadata": {
    "colab": {
     "autoexec": {
      "startup": false,
      "wait_interval": 0
     },
     "base_uri": "https://localhost:8080/",
     "height": 34,
     "output_extras": [
      {
       "item_id": 1
      }
     ]
    },
    "colab_type": "code",
    "executionInfo": {
     "elapsed": 671,
     "status": "ok",
     "timestamp": 1518087785680,
     "user": {
      "displayName": "",
      "photoUrl": "",
      "userId": ""
     },
     "user_tz": -60
    },
    "id": "umcPvk5Ytkzr",
    "outputId": "4ecd243d-95e1-499c-a7d8-d1d6a2ce4336"
   },
   "outputs": [
    {
     "name": "stdout",
     "output_type": "stream",
     "text": [
      "0.6189750238366379\n"
     ]
    }
   ],
   "source": [
    "import scipy.stats\n",
    "r2 = scipy.stats.pearsonr(preds, actuals)[0]**2\n",
    "print(r2)"
   ]
  },
  {
   "cell_type": "code",
   "execution_count": 22,
   "metadata": {
    "colab": {
     "autoexec": {
      "startup": false,
      "wait_interval": 0
     }
    },
    "colab_type": "code",
    "id": "DhTaFE4mr1C2"
   },
   "outputs": [],
   "source": [
    "actuals_tr = [train_data[i][2] for i in range(len(train_data))]\n"
   ]
  },
  {
   "cell_type": "code",
   "execution_count": null,
   "metadata": {
    "colab": {
     "autoexec": {
      "startup": false,
      "wait_interval": 0
     }
    },
    "colab_type": "code",
    "id": "swCUseXQUsum"
   },
   "outputs": [],
   "source": [
    "r2 = scipy.stats.pearsonr(preds, actuals)[0]**2\n",
    "print(r2)"
   ]
  }
 ],
 "metadata": {
  "accelerator": "GPU",
  "colab": {
   "collapsed_sections": [],
   "default_view": {},
   "name": "Yeast-Pytorch",
   "provenance": [
    {
     "file_id": "/v2/external/notebooks/gpu.ipynb",
     "timestamp": 1517838517359
    }
   ],
   "toc_visible": true,
   "version": "0.3.2",
   "views": {}
  },
  "kernelspec": {
   "display_name": "Python 3",
   "language": "python",
   "name": "python3"
  },
  "language_info": {
   "codemirror_mode": {
    "name": "ipython",
    "version": 3
   },
   "file_extension": ".py",
   "mimetype": "text/x-python",
   "name": "python",
   "nbconvert_exporter": "python",
   "pygments_lexer": "ipython3",
   "version": "3.6.8"
  }
 },
 "nbformat": 4,
 "nbformat_minor": 2
}
