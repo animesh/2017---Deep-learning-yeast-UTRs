{
 "cells": [
  {
   "cell_type": "code",
   "execution_count": null,
   "metadata": {},
   "outputs": [],
   "source": [
    "%%bash\n",
    "mkdir $HOME/.keras\n",
    "cp keras.json $HOME/.keras/."
   ]
  },
  {
   "cell_type": "code",
   "execution_count": 2,
   "metadata": {},
   "outputs": [
    {
     "name": "stderr",
     "output_type": "stream",
     "text": [
      "Using Theano backend.\n",
      "Using cuDNN version 7005 on context None\n",
      "Preallocating 11580/12189 Mb (0.950000) on cuda\n",
      "Mapped name None to device cuda: TITAN X (Pascal) (0000:03:00.0)\n",
      "/opt/conda/lib/python3.6/site-packages/h5py/__init__.py:36: FutureWarning: Conversion of the second argument of issubdtype from `float` to `np.floating` is deprecated. In future, it will be treated as `np.float64 == np.dtype(float).type`.\n",
      "  from ._conv import register_converters as _register_converters\n"
     ]
    }
   ],
   "source": [
    "import pandas as pd\n",
    "import numpy as np\n",
    "import scipy\n",
    "import scipy.stats\n",
    "import hyperopt.fmin as hypfmin\n",
    "import keras\n",
    "import theano\n",
    "import random\n",
    "import os\n",
    "import pickle\n",
    "# from\n",
    "from keras.models import Sequential\n",
    "from keras.layers.core import Dense, Activation, Flatten, Dropout\n",
    "from keras.layers.convolutional import Convolution2D\n",
    "from keras.optimizers import Adam\n",
    "from hyperopt import fmin, tpe, hp, STATUS_OK, Trials\n",
    "# plotting\n",
    "import seaborn as sns\n",
    "import matplotlib.pyplot as plt\n",
    "%matplotlib inline"
   ]
  },
  {
   "cell_type": "code",
   "execution_count": 20,
   "metadata": {},
   "outputs": [
    {
     "name": "stdout",
     "output_type": "stream",
     "text": [
      "Process is interrupted.\n"
     ]
    }
   ],
   "source": [
    "%%sh\n",
    "watch nvidia-smi\n",
    "#watch -n0.1 nvidia-smi"
   ]
  },
  {
   "cell_type": "code",
   "execution_count": 19,
   "metadata": {},
   "outputs": [
    {
     "data": {
      "text/plain": [
       "'1.2.2'"
      ]
     },
     "execution_count": 19,
     "metadata": {},
     "output_type": "execute_result"
    }
   ],
   "source": [
    "keras.__version__"
   ]
  },
  {
   "cell_type": "code",
   "execution_count": 4,
   "metadata": {},
   "outputs": [
    {
     "name": "stdout",
     "output_type": "stream",
     "text": [
      "[GpuElemwise{exp,no_inplace}(<GpuArrayType<None>(float32, vector)>), HostFromGpu(gpuarray)(GpuElemwise{exp,no_inplace}.0)]\n",
      "Looping 1000 times took 0.258791 seconds\n",
      "Result is [1.2317803 1.6187935 1.5227807 ... 2.2077181 2.2996776 1.623233 ]\n",
      "Used the gpu\n"
     ]
    }
   ],
   "source": [
    "import os\n",
    "from theano import function, config, shared, tensor\n",
    "import numpy\n",
    "import time\n",
    "\n",
    "vlen = 10 * 30 * 768  # 10 x #cores x # threads per core\n",
    "iters = 1000\n",
    "\n",
    "rng = numpy.random.RandomState(22)\n",
    "x = shared(numpy.asarray(rng.rand(vlen), config.floatX))\n",
    "f = function([], tensor.exp(x))\n",
    "print(f.maker.fgraph.toposort())\n",
    "t0 = time.time()\n",
    "for i in range(iters):\n",
    "    r = f()\n",
    "t1 = time.time()\n",
    "print(\"Looping %d times took %f seconds\" % (iters, t1 - t0))\n",
    "print(\"Result is %s\" % (r,))\n",
    "if numpy.any([isinstance(x.op, tensor.Elemwise) and\n",
    "              ('Gpu' not in type(x.op).__name__)\n",
    "              for x in f.maker.fgraph.toposort()]):\n",
    "    print('Used the cpu')\n",
    "else:\n",
    "    print('Used the gpu')"
   ]
  },
  {
   "cell_type": "code",
   "execution_count": 5,
   "metadata": {},
   "outputs": [
    {
     "data": {
      "text/plain": [
       "'1.0.1'"
      ]
     },
     "execution_count": 5,
     "metadata": {},
     "output_type": "execute_result"
    }
   ],
   "source": [
    "theano.__version__"
   ]
  },
  {
   "cell_type": "markdown",
   "metadata": {},
   "source": [
    "## Set plotting style"
   ]
  },
  {
   "cell_type": "code",
   "execution_count": 7,
   "metadata": {},
   "outputs": [],
   "source": [
    "plt.rcParams[\"patch.force_edgecolor\"] = True\n",
    "sns.set_style('whitegrid',\n",
    "              {'axes.grid': True,\n",
    "               'grid.linestyle': u'--',\n",
    "               'axes.edgecolor': '0.1',\n",
    "               'axes.labelcolor': '0',\n",
    "               'axes.labelsize': 15,\n",
    "               'axes.titlesize': 15,\n",
    "               'legend.fontsize': 15,\n",
    "               'xtick.labelsize': 15,\n",
    "               'ytick.labelsize': 15,\n",
    "               })"
   ]
  },
  {
   "cell_type": "code",
   "execution_count": 8,
   "metadata": {},
   "outputs": [
    {
     "name": "stdout",
     "output_type": "stream",
     "text": [
      "Notebook_1_CNN_Model_Training_with_Hyperparameter_Search.ipynb\r\n",
      "Notebook_2_CNN_Predictions_of_Random_UTR_HIS3_data.ipynb\r\n",
      "Notebook_3_CNN_Predictions_of_Native_UTR_HIS3_data.ipynb\r\n",
      "Notebook_4_Generating_Model_Directed_Evolution_of_UTRs_From_100_Native_and_Random_UTRs.ipynb\r\n"
     ]
    }
   ],
   "source": [
    "ls"
   ]
  },
  {
   "cell_type": "markdown",
   "metadata": {},
   "source": [
    "## Check if the various directories that you might care about in the future are present"
   ]
  },
  {
   "cell_type": "code",
   "execution_count": 9,
   "metadata": {},
   "outputs": [],
   "source": [
    "data_dir = '../Data/'\n",
    "results_dir = '../Results/'\n",
    "figures_dir = '../Figures/'\n",
    "\n",
    "if not os.path.exists(data_dir):\n",
    "    os.mkdir(data_dir)\n",
    "    \n",
    "if not os.path.exists(results_dir):\n",
    "    os.mkdir(results_dir)\n",
    "    \n",
    "if not os.path.exists(figures_dir):\n",
    "    os.mkdir(figures_dir)"
   ]
  },
  {
   "cell_type": "markdown",
   "metadata": {},
   "source": [
    "## Create a directory to save the model parameters:"
   ]
  },
  {
   "cell_type": "code",
   "execution_count": 10,
   "metadata": {},
   "outputs": [],
   "source": [
    "model_name = 'Random_UTR_CNN'\n",
    "model_params_dir = '../Results/{0}.Hyperparam.Opt/'.format(model_name)\n",
    "\n",
    "if not os.path.exists(model_params_dir):\n",
    "    os.mkdir(model_params_dir)"
   ]
  },
  {
   "cell_type": "code",
   "execution_count": 11,
   "metadata": {},
   "outputs": [
    {
     "name": "stdout",
     "output_type": "stream",
     "text": [
      "EvolvedUTRs\n",
      "Random_UTR_CNN.Hyperparam.Opt\n",
      "Random_UTR_CNN_Hyperparams.tar.gz\n",
      "161222_ip_ugi_band_PSMs.txt\n",
      "170523_1_EColi_170524165739-(2)_PeptideGroups.txt\n",
      "170523_1_EColi_170524165739-(2)_ProteinGroups.txt\n",
      "170523_1_EColi_170524165739-(2)_Proteins.txt\n",
      "170523_1_EColi_170524165739-(2)_ResultStatistics.txt\n",
      "2017---Deep-learning-yeast-UTRs\n",
      "aifMsms.txt\n",
      "allPeptides.txt\n",
      "check.txt\n",
      "CMakeLists.txt\n",
      "Combo.txt\n",
      "Comet-chunk.ipynb\n",
      "Comet.ipynb\n",
      "CoMMpass_IA8b.txt\n",
      "CoMMpass_IA8b.txtcoxPHsortNoLog2.txt\n",
      "CoMMpass_IA8b.txtcoxPHsort.txt\n",
      "CoMMpass_IA8b.txtcoxPH.txt\n",
      "Compass_Survival_per.txt\n",
      "Compass_Survival.txt\n",
      "Copy of 170214 total proteome lymphom 0p05 SILAC pluss LFQ (2).txt\n",
      "Copy of Strainssamples_shuffled_final_150617.txt\n",
      "Copy of SuperSILACpTtestImp.txt\n",
      "Copy of toptags_DE5 (2).txt\n",
      "Copy of toptags_DE5 (3).txt\n",
      "Deamidation (NQ)Sites.txt\n",
      "ECCO 2017 Breath Test.txt\n",
      "EcoliMascotLog2SSttestPB.txt\n",
      "Elasticsearch.ipynb\n",
      "evidence.txt\n",
      "fastakey.txt\n",
      "GroupsMascot.txt\n",
      "Groups.txt\n",
      "keras.json\n",
      "Keyfile_pegfam_annot.txt\n",
      "LFQttestPBs0p10.txt\n",
      "LFQvalues.txt\n",
      "LFQwoImpttestPBs0p10.txt\n",
      "libraryMatch.txt\n",
      "license.txt\n",
      "LICENSE.txt\n",
      "log2LFQttestBHcorrection50percentchangeAnnotatedPvalue5percent.txt\n",
      "log2LFQttestBHcorrection50percentchange.txt\n",
      "log2LFQttestBHcorrection.txt\n",
      "Log2proteinGroupsTtestCLExcelCL2KEGG.txt\n",
      "Log2proteinGroupsTtestCLExcelCL2.txt\n",
      "Log2proteinGroupsTtestCLsheetKEGG.txt\n",
      "Log2SSttestGroups.txt\n",
      "matchedFeatures.txt\n",
      "modificationSpecificPeptides.txt\n",
      "ms3Scans.txt\n",
      "msmsScans.txt\n",
      "msms.txt\n",
      "msScans.txt\n",
      "MyelomaProjectB1B2combineTTpermcorr.txt\n",
      "mzRange.txt\n",
      "newbooks.xml\n",
      "NotFoundInAnnotation.txt\n",
      "oldnotebooks\n",
      "Oxidation (M)Sites.txt\n",
      "parameters.txt\n",
      "PeptideList.txt\n",
      "peptides.txt\n",
      "pg16665.txt\n",
      "pg30601.txt\n",
      "Promec - R.ipynb\n",
      "proteinGroups - Copy.txt\n",
      "proteinGroupsImpPermANOVAfiltered.txt\n",
      "proteinGroupsImpPermANOVA.txt\n",
      "proteinGroupsSILACmedianInverted.txt\n",
      "proteinGroups.txt\n",
      "RankedFtr100.txt\n",
      "RankedFtr100Vals.txt\n",
      "RankedFtr.txt\n",
      "README.txt\n",
      "search-for-xlinks.qvalues..txt\n",
      "Sel81.txt\n",
      "spark-warehouse\n",
      "SSttestBHcorrection.txt\n",
      "SSttestPBs0p10.txt\n",
      "summary.txt\n",
      "totall_identifications.txt\n",
      "Trp of SuperSILACpTtestImp.txt\n",
      "Untitled.ipynb\n",
      "Xml-Copy1.ipynb\n",
      "Xml-Copy2.ipynb\n",
      "Xml-Copy3.ipynb\n",
      "Xml-Copy4.ipynb\n",
      "Xml.ipynb\n"
     ]
    }
   ],
   "source": [
    "%%sh\n",
    "ls ../Results/\n",
    "\n",
    "ls ../..\n"
   ]
  },
  {
   "cell_type": "markdown",
   "metadata": {},
   "source": [
    "## Load our cleaned up data.\n",
    "\n",
    "The csv should be tab-separated. The read counts are log2."
   ]
  },
  {
   "cell_type": "code",
   "execution_count": 12,
   "metadata": {},
   "outputs": [],
   "source": [
    "data = pd.read_csv(data_dir + 'Random_UTRs.csv.gz')"
   ]
  },
  {
   "cell_type": "code",
   "execution_count": 13,
   "metadata": {},
   "outputs": [
    {
     "data": {
      "text/html": [
       "<div>\n",
       "<style scoped>\n",
       "    .dataframe tbody tr th:only-of-type {\n",
       "        vertical-align: middle;\n",
       "    }\n",
       "\n",
       "    .dataframe tbody tr th {\n",
       "        vertical-align: top;\n",
       "    }\n",
       "\n",
       "    .dataframe thead th {\n",
       "        text-align: right;\n",
       "    }\n",
       "</style>\n",
       "<table border=\"1\" class=\"dataframe\">\n",
       "  <thead>\n",
       "    <tr style=\"text-align: right;\">\n",
       "      <th></th>\n",
       "      <th>Unnamed: 0</th>\n",
       "      <th>UTR</th>\n",
       "      <th>growth_rate</th>\n",
       "      <th>t0</th>\n",
       "      <th>t1</th>\n",
       "    </tr>\n",
       "  </thead>\n",
       "  <tbody>\n",
       "    <tr>\n",
       "      <th>0</th>\n",
       "      <td>0</td>\n",
       "      <td>AAAAAAAAAACATAATAACGATGATCAGTTAAAATCATAGTCTAAG...</td>\n",
       "      <td>-1.237065</td>\n",
       "      <td>14</td>\n",
       "      <td>3</td>\n",
       "    </tr>\n",
       "    <tr>\n",
       "      <th>1</th>\n",
       "      <td>1</td>\n",
       "      <td>AAAAAAAAAAGACTACAACAGATTGTAGTGGCGGACCAGTGTGCCT...</td>\n",
       "      <td>1.288663</td>\n",
       "      <td>14</td>\n",
       "      <td>49</td>\n",
       "    </tr>\n",
       "    <tr>\n",
       "      <th>2</th>\n",
       "      <td>2</td>\n",
       "      <td>AAAAAAAAAATATGGGGCCCTGTTCCAAAGATACCTCAATTTCATA...</td>\n",
       "      <td>-0.608457</td>\n",
       "      <td>13</td>\n",
       "      <td>6</td>\n",
       "    </tr>\n",
       "    <tr>\n",
       "      <th>3</th>\n",
       "      <td>3</td>\n",
       "      <td>AAAAAAAAAATCTCTGGCCCGATTATACTGGAGCTAATGTAAAATT...</td>\n",
       "      <td>-1.093964</td>\n",
       "      <td>12</td>\n",
       "      <td>3</td>\n",
       "    </tr>\n",
       "    <tr>\n",
       "      <th>4</th>\n",
       "      <td>4</td>\n",
       "      <td>AAAAAAAAACATAAATATGAAGGCCTGACATTATAAATAACTTACC...</td>\n",
       "      <td>-0.048841</td>\n",
       "      <td>7</td>\n",
       "      <td>6</td>\n",
       "    </tr>\n",
       "    <tr>\n",
       "      <th>5</th>\n",
       "      <td>5</td>\n",
       "      <td>AAAAAAAAACGAAATCAAACAAGAGAAAAACTGCATAGTTCACTTA...</td>\n",
       "      <td>0.822290</td>\n",
       "      <td>10</td>\n",
       "      <td>22</td>\n",
       "    </tr>\n",
       "    <tr>\n",
       "      <th>6</th>\n",
       "      <td>6</td>\n",
       "      <td>AAAAAAAAACGAATGAACGAGTAACAAAGGACCCCTAATAACTCGA...</td>\n",
       "      <td>-1.013922</td>\n",
       "      <td>2</td>\n",
       "      <td>0</td>\n",
       "    </tr>\n",
       "    <tr>\n",
       "      <th>7</th>\n",
       "      <td>7</td>\n",
       "      <td>AAAAAAAAACGGCAAACATAAGTAAGCGCTAAAACCTTTTATTGAA...</td>\n",
       "      <td>-0.104551</td>\n",
       "      <td>28</td>\n",
       "      <td>23</td>\n",
       "    </tr>\n",
       "    <tr>\n",
       "      <th>8</th>\n",
       "      <td>8</td>\n",
       "      <td>AAAAAAAAACGTTGCTATTATACCGAAGTCGCCCTAAAGCGTCCCT...</td>\n",
       "      <td>0.994061</td>\n",
       "      <td>57</td>\n",
       "      <td>143</td>\n",
       "    </tr>\n",
       "    <tr>\n",
       "      <th>9</th>\n",
       "      <td>9</td>\n",
       "      <td>AAAAAAAAACTAATTCTGGAGCGACAAGTTTATACCCCATATTTTC...</td>\n",
       "      <td>-0.113760</td>\n",
       "      <td>49</td>\n",
       "      <td>40</td>\n",
       "    </tr>\n",
       "    <tr>\n",
       "      <th>10</th>\n",
       "      <td>10</td>\n",
       "      <td>AAAAAAAAACTCTGGTCGATCGAAGCTTTTTACTCGTCAACCACAA...</td>\n",
       "      <td>1.470985</td>\n",
       "      <td>27</td>\n",
       "      <td>111</td>\n",
       "    </tr>\n",
       "    <tr>\n",
       "      <th>11</th>\n",
       "      <td>11</td>\n",
       "      <td>AAAAAAAAACTTGCATCCTACTGGAGGGTTAGGTACTAGACTTCTG...</td>\n",
       "      <td>0.185787</td>\n",
       "      <td>46</td>\n",
       "      <td>51</td>\n",
       "    </tr>\n",
       "    <tr>\n",
       "      <th>12</th>\n",
       "      <td>12</td>\n",
       "      <td>AAAAAAAAATACGATGTGCCATACTAGATCGAAATTTGAACATGGA...</td>\n",
       "      <td>-1.206294</td>\n",
       "      <td>39</td>\n",
       "      <td>10</td>\n",
       "    </tr>\n",
       "    <tr>\n",
       "      <th>13</th>\n",
       "      <td>13</td>\n",
       "      <td>AAAAAAAAATATTTTCACTTTACTCGAGGACAATTATTCAACTGCC...</td>\n",
       "      <td>1.293002</td>\n",
       "      <td>22</td>\n",
       "      <td>76</td>\n",
       "    </tr>\n",
       "    <tr>\n",
       "      <th>14</th>\n",
       "      <td>14</td>\n",
       "      <td>AAAAAAAAATCGTGCTGCCCAGATCTAGAGCAGTCCCTGTTGCCAT...</td>\n",
       "      <td>-3.093363</td>\n",
       "      <td>23</td>\n",
       "      <td>0</td>\n",
       "    </tr>\n",
       "    <tr>\n",
       "      <th>15</th>\n",
       "      <td>15</td>\n",
       "      <td>AAAAAAAACACAGTCCAGTCGAACACCATTCATCTAGGCGTTCATC...</td>\n",
       "      <td>1.460833</td>\n",
       "      <td>98</td>\n",
       "      <td>391</td>\n",
       "    </tr>\n",
       "    <tr>\n",
       "      <th>16</th>\n",
       "      <td>16</td>\n",
       "      <td>AAAAAAAACATACAATTCCTAGAAGTCAAGAGATGGAGTTATAGCC...</td>\n",
       "      <td>-1.861220</td>\n",
       "      <td>55</td>\n",
       "      <td>7</td>\n",
       "    </tr>\n",
       "    <tr>\n",
       "      <th>17</th>\n",
       "      <td>17</td>\n",
       "      <td>AAAAAAAACGACATAACGGTTCAGGCGAAGACAAATCATTACCGCA...</td>\n",
       "      <td>0.025850</td>\n",
       "      <td>69</td>\n",
       "      <td>65</td>\n",
       "    </tr>\n",
       "    <tr>\n",
       "      <th>18</th>\n",
       "      <td>18</td>\n",
       "      <td>AAAAAAAACGGGCGAGCCCGAGGAAGCGGCTTTTAATGAATATCTC...</td>\n",
       "      <td>0.971994</td>\n",
       "      <td>13</td>\n",
       "      <td>33</td>\n",
       "    </tr>\n",
       "    <tr>\n",
       "      <th>19</th>\n",
       "      <td>19</td>\n",
       "      <td>AAAAAAAACGTAGATCGACCATGCTTTATCGTGCGGCTCTGAAATT...</td>\n",
       "      <td>-0.080824</td>\n",
       "      <td>58</td>\n",
       "      <td>49</td>\n",
       "    </tr>\n",
       "    <tr>\n",
       "      <th>20</th>\n",
       "      <td>20</td>\n",
       "      <td>AAAAAAAACGTGCCGGTATTTGACCGTACGGGACCCTTGCAGCTGT...</td>\n",
       "      <td>-1.196243</td>\n",
       "      <td>17</td>\n",
       "      <td>4</td>\n",
       "    </tr>\n",
       "    <tr>\n",
       "      <th>21</th>\n",
       "      <td>21</td>\n",
       "      <td>AAAAAAAACTAGCCGGAAGAGGCCTATCAGGTTCAGAGCACCGCCA...</td>\n",
       "      <td>-0.266707</td>\n",
       "      <td>26</td>\n",
       "      <td>18</td>\n",
       "    </tr>\n",
       "    <tr>\n",
       "      <th>22</th>\n",
       "      <td>22</td>\n",
       "      <td>AAAAAAAACTAGCCGTGATATTTTTTGTCGTCCGTGCGCCGTTGGG...</td>\n",
       "      <td>0.235513</td>\n",
       "      <td>42</td>\n",
       "      <td>49</td>\n",
       "    </tr>\n",
       "    <tr>\n",
       "      <th>23</th>\n",
       "      <td>23</td>\n",
       "      <td>AAAAAAAACTCACAAATTAATCGTTCATTACGACGTTTCCCGCATG...</td>\n",
       "      <td>-0.183573</td>\n",
       "      <td>67</td>\n",
       "      <td>51</td>\n",
       "    </tr>\n",
       "    <tr>\n",
       "      <th>24</th>\n",
       "      <td>24</td>\n",
       "      <td>AAAAAAAACTCAGTTCGTTGTACGAGTTTTCTCTTCGAAGCGCTCA...</td>\n",
       "      <td>0.699876</td>\n",
       "      <td>19</td>\n",
       "      <td>36</td>\n",
       "    </tr>\n",
       "    <tr>\n",
       "      <th>25</th>\n",
       "      <td>25</td>\n",
       "      <td>AAAAAAAACTGCACCTGGTTTTCAATCCTCCCGGATCTGTCAACGA...</td>\n",
       "      <td>-0.015393</td>\n",
       "      <td>20</td>\n",
       "      <td>18</td>\n",
       "    </tr>\n",
       "    <tr>\n",
       "      <th>26</th>\n",
       "      <td>26</td>\n",
       "      <td>AAAAAAAACTGCGCCTGGACTGACAAAAAGTTGCAACGCTGTCCCA...</td>\n",
       "      <td>-0.187954</td>\n",
       "      <td>87</td>\n",
       "      <td>66</td>\n",
       "    </tr>\n",
       "    <tr>\n",
       "      <th>27</th>\n",
       "      <td>27</td>\n",
       "      <td>AAAAAAAAGACGTAAAAGGTTTTTGACCTACACGATGAGTCTGGAC...</td>\n",
       "      <td>-0.513146</td>\n",
       "      <td>19</td>\n",
       "      <td>10</td>\n",
       "    </tr>\n",
       "    <tr>\n",
       "      <th>28</th>\n",
       "      <td>28</td>\n",
       "      <td>AAAAAAAAGATAACAGATAAGACGACTATTATCAAATTGACTTTAA...</td>\n",
       "      <td>1.447995</td>\n",
       "      <td>21</td>\n",
       "      <td>85</td>\n",
       "    </tr>\n",
       "    <tr>\n",
       "      <th>29</th>\n",
       "      <td>29</td>\n",
       "      <td>AAAAAAAAGATCCGCCACGCACCGATTACCGGATAAACAAGCTTAT...</td>\n",
       "      <td>1.432764</td>\n",
       "      <td>19</td>\n",
       "      <td>76</td>\n",
       "    </tr>\n",
       "    <tr>\n",
       "      <th>...</th>\n",
       "      <td>...</td>\n",
       "      <td>...</td>\n",
       "      <td>...</td>\n",
       "      <td>...</td>\n",
       "      <td>...</td>\n",
       "    </tr>\n",
       "    <tr>\n",
       "      <th>489318</th>\n",
       "      <td>489318</td>\n",
       "      <td>TTTTTTGTTCCTTAGTTATTAGTACAAGCGACATTCCCTAATTTAC...</td>\n",
       "      <td>1.065520</td>\n",
       "      <td>2</td>\n",
       "      <td>7</td>\n",
       "    </tr>\n",
       "    <tr>\n",
       "      <th>489319</th>\n",
       "      <td>489319</td>\n",
       "      <td>TTTTTTTAAATATAACGAAGTGTACTAATCACCCATAAACCGCTAA...</td>\n",
       "      <td>1.789439</td>\n",
       "      <td>17</td>\n",
       "      <td>98</td>\n",
       "    </tr>\n",
       "    <tr>\n",
       "      <th>489320</th>\n",
       "      <td>489320</td>\n",
       "      <td>TTTTTTTAACAACTCAGAATGCTAGGTATCTCAGTCGCAGGCCTAT...</td>\n",
       "      <td>-1.605599</td>\n",
       "      <td>102</td>\n",
       "      <td>18</td>\n",
       "    </tr>\n",
       "    <tr>\n",
       "      <th>489321</th>\n",
       "      <td>489321</td>\n",
       "      <td>TTTTTTTAAGGTGGCGGGAACGATAAGAATCGTACGACCACGCCGA...</td>\n",
       "      <td>-1.994751</td>\n",
       "      <td>15</td>\n",
       "      <td>1</td>\n",
       "    </tr>\n",
       "    <tr>\n",
       "      <th>489322</th>\n",
       "      <td>489322</td>\n",
       "      <td>TTTTTTTAATAGCCTCACGCACGTCTGCCGATATGCCTTCCCTAGA...</td>\n",
       "      <td>-0.726240</td>\n",
       "      <td>17</td>\n",
       "      <td>7</td>\n",
       "    </tr>\n",
       "    <tr>\n",
       "      <th>489323</th>\n",
       "      <td>489323</td>\n",
       "      <td>TTTTTTTACACGTCAAAGTGCGCTTTCTCTGTCTACCTACCGCCCA...</td>\n",
       "      <td>0.861219</td>\n",
       "      <td>45</td>\n",
       "      <td>99</td>\n",
       "    </tr>\n",
       "    <tr>\n",
       "      <th>489324</th>\n",
       "      <td>489324</td>\n",
       "      <td>TTTTTTTACAGCTACGTCCAGCAACATAAATCTTTTCTTAAGACGC...</td>\n",
       "      <td>0.733667</td>\n",
       "      <td>80</td>\n",
       "      <td>154</td>\n",
       "    </tr>\n",
       "    <tr>\n",
       "      <th>489325</th>\n",
       "      <td>489325</td>\n",
       "      <td>TTTTTTTAGCCTAAAATTGCGGCCGTCCGTACTTTGCACCACCCAT...</td>\n",
       "      <td>0.859063</td>\n",
       "      <td>64</td>\n",
       "      <td>140</td>\n",
       "    </tr>\n",
       "    <tr>\n",
       "      <th>489326</th>\n",
       "      <td>489326</td>\n",
       "      <td>TTTTTTTAGTAGCGTCTCGTCCCTGCGAGGAGCCCGTGCTATATCA...</td>\n",
       "      <td>0.253026</td>\n",
       "      <td>59</td>\n",
       "      <td>70</td>\n",
       "    </tr>\n",
       "    <tr>\n",
       "      <th>489327</th>\n",
       "      <td>489327</td>\n",
       "      <td>TTTTTTTATAACCGTCTACTTCGTCCTGCCCTACTAGCAAGTGTTC...</td>\n",
       "      <td>0.851946</td>\n",
       "      <td>51</td>\n",
       "      <td>111</td>\n",
       "    </tr>\n",
       "    <tr>\n",
       "      <th>489328</th>\n",
       "      <td>489328</td>\n",
       "      <td>TTTTTTTATCAAATTGGACTAATTTTATTATAAAGCAGTGGTCTCG...</td>\n",
       "      <td>-1.787112</td>\n",
       "      <td>12</td>\n",
       "      <td>1</td>\n",
       "    </tr>\n",
       "    <tr>\n",
       "      <th>489329</th>\n",
       "      <td>489329</td>\n",
       "      <td>TTTTTTTATCAACGATCCCGACACTCTTGAAAGATATTGCCTTAAT...</td>\n",
       "      <td>0.984174</td>\n",
       "      <td>23</td>\n",
       "      <td>58</td>\n",
       "    </tr>\n",
       "    <tr>\n",
       "      <th>489330</th>\n",
       "      <td>489330</td>\n",
       "      <td>TTTTTTTATTGAACTTCTACTTCCCGTACCTTCTTATCCAAACGCA...</td>\n",
       "      <td>0.526523</td>\n",
       "      <td>8</td>\n",
       "      <td>13</td>\n",
       "    </tr>\n",
       "    <tr>\n",
       "      <th>489331</th>\n",
       "      <td>489331</td>\n",
       "      <td>TTTTTTTCACCAAACGTCCGCTGACCACGTCCGCACAGGCTGGCAT...</td>\n",
       "      <td>-0.411746</td>\n",
       "      <td>45</td>\n",
       "      <td>27</td>\n",
       "    </tr>\n",
       "    <tr>\n",
       "      <th>489332</th>\n",
       "      <td>489332</td>\n",
       "      <td>TTTTTTTCATTCATAGCCAATTAGTCACAGCAAGTGTCTCAGTTCT...</td>\n",
       "      <td>0.812929</td>\n",
       "      <td>13</td>\n",
       "      <td>28</td>\n",
       "    </tr>\n",
       "    <tr>\n",
       "      <th>489333</th>\n",
       "      <td>489333</td>\n",
       "      <td>TTTTTTTCCCCTGCAGGTCTTACGGACCCGTGCCCCCTCGAAAACT...</td>\n",
       "      <td>0.145315</td>\n",
       "      <td>15</td>\n",
       "      <td>16</td>\n",
       "    </tr>\n",
       "    <tr>\n",
       "      <th>489334</th>\n",
       "      <td>489334</td>\n",
       "      <td>TTTTTTTCCTTATAATCATTGAGTACACAAAGGGAACAGTGGCAGG...</td>\n",
       "      <td>0.873148</td>\n",
       "      <td>24</td>\n",
       "      <td>54</td>\n",
       "    </tr>\n",
       "    <tr>\n",
       "      <th>489335</th>\n",
       "      <td>489335</td>\n",
       "      <td>TTTTTTTCGTGTAGTTCATGCCTCGAAACACCTCTGATAATAATTT...</td>\n",
       "      <td>0.394846</td>\n",
       "      <td>21</td>\n",
       "      <td>29</td>\n",
       "    </tr>\n",
       "    <tr>\n",
       "      <th>489336</th>\n",
       "      <td>489336</td>\n",
       "      <td>TTTTTTTCTACATGTTCCCGTAGTTGGCGCGGTATGACGGAGAACT...</td>\n",
       "      <td>-1.707069</td>\n",
       "      <td>29</td>\n",
       "      <td>4</td>\n",
       "    </tr>\n",
       "    <tr>\n",
       "      <th>489337</th>\n",
       "      <td>489337</td>\n",
       "      <td>TTTTTTTCTGTTGAGCACTGGCTCATGAATCACCACGATATGGTTC...</td>\n",
       "      <td>-2.035573</td>\n",
       "      <td>24</td>\n",
       "      <td>2</td>\n",
       "    </tr>\n",
       "    <tr>\n",
       "      <th>489338</th>\n",
       "      <td>489338</td>\n",
       "      <td>TTTTTTTGATTCACCAGCTAAAGCTGACACCACTGACGTACAGAAA...</td>\n",
       "      <td>-0.163771</td>\n",
       "      <td>49</td>\n",
       "      <td>38</td>\n",
       "    </tr>\n",
       "    <tr>\n",
       "      <th>489339</th>\n",
       "      <td>489339</td>\n",
       "      <td>TTTTTTTGCACTGGAGCTCCTCACAACCGCCAAACCCCTAAGTTCC...</td>\n",
       "      <td>0.135984</td>\n",
       "      <td>37</td>\n",
       "      <td>39</td>\n",
       "    </tr>\n",
       "    <tr>\n",
       "      <th>489340</th>\n",
       "      <td>489340</td>\n",
       "      <td>TTTTTTTGCGCGGTCTTGGGATGAACGCAACTCAGTGAGAAACTTC...</td>\n",
       "      <td>-0.151698</td>\n",
       "      <td>18</td>\n",
       "      <td>14</td>\n",
       "    </tr>\n",
       "    <tr>\n",
       "      <th>489341</th>\n",
       "      <td>489341</td>\n",
       "      <td>TTTTTTTGGCTAACGCGCATCATACTTCCCGAAAAGGTGGAGACCG...</td>\n",
       "      <td>-0.278215</td>\n",
       "      <td>45</td>\n",
       "      <td>31</td>\n",
       "    </tr>\n",
       "    <tr>\n",
       "      <th>489342</th>\n",
       "      <td>489342</td>\n",
       "      <td>TTTTTTTGTTAAACTTATTTCACGAAGTAAACGGGGGGAATGGCCC...</td>\n",
       "      <td>-1.054744</td>\n",
       "      <td>24</td>\n",
       "      <td>7</td>\n",
       "    </tr>\n",
       "    <tr>\n",
       "      <th>489343</th>\n",
       "      <td>489343</td>\n",
       "      <td>TTTTTTTGTTCCGAAGAGACCACTCAAACGTGAGCACGGCCAGACA...</td>\n",
       "      <td>1.380601</td>\n",
       "      <td>80</td>\n",
       "      <td>295</td>\n",
       "    </tr>\n",
       "    <tr>\n",
       "      <th>489344</th>\n",
       "      <td>489344</td>\n",
       "      <td>TTTTTTTGTTCTCTCTTCAAAATCAGTCACCCCCAGTGCGTGCACT...</td>\n",
       "      <td>0.796187</td>\n",
       "      <td>26</td>\n",
       "      <td>54</td>\n",
       "    </tr>\n",
       "    <tr>\n",
       "      <th>489345</th>\n",
       "      <td>489345</td>\n",
       "      <td>TTTTTTTTACAACCAGAGGATAGATTTAAGACGTCCGTCAGACCCG...</td>\n",
       "      <td>0.731318</td>\n",
       "      <td>10</td>\n",
       "      <td>20</td>\n",
       "    </tr>\n",
       "    <tr>\n",
       "      <th>489346</th>\n",
       "      <td>489346</td>\n",
       "      <td>TTTTTTTTATAGCTGGTTGGTACCCCTGTATGGTCTTCCGACACGG...</td>\n",
       "      <td>-0.944929</td>\n",
       "      <td>13</td>\n",
       "      <td>4</td>\n",
       "    </tr>\n",
       "    <tr>\n",
       "      <th>489347</th>\n",
       "      <td>489347</td>\n",
       "      <td>TTTTTTTTCGGCATTTATGTAAGTGAGCTTGCGAAGACAAGCTACA...</td>\n",
       "      <td>-2.112534</td>\n",
       "      <td>8</td>\n",
       "      <td>0</td>\n",
       "    </tr>\n",
       "  </tbody>\n",
       "</table>\n",
       "<p>489348 rows × 5 columns</p>\n",
       "</div>"
      ],
      "text/plain": [
       "        Unnamed: 0                                                UTR  \\\n",
       "0                0  AAAAAAAAAACATAATAACGATGATCAGTTAAAATCATAGTCTAAG...   \n",
       "1                1  AAAAAAAAAAGACTACAACAGATTGTAGTGGCGGACCAGTGTGCCT...   \n",
       "2                2  AAAAAAAAAATATGGGGCCCTGTTCCAAAGATACCTCAATTTCATA...   \n",
       "3                3  AAAAAAAAAATCTCTGGCCCGATTATACTGGAGCTAATGTAAAATT...   \n",
       "4                4  AAAAAAAAACATAAATATGAAGGCCTGACATTATAAATAACTTACC...   \n",
       "5                5  AAAAAAAAACGAAATCAAACAAGAGAAAAACTGCATAGTTCACTTA...   \n",
       "6                6  AAAAAAAAACGAATGAACGAGTAACAAAGGACCCCTAATAACTCGA...   \n",
       "7                7  AAAAAAAAACGGCAAACATAAGTAAGCGCTAAAACCTTTTATTGAA...   \n",
       "8                8  AAAAAAAAACGTTGCTATTATACCGAAGTCGCCCTAAAGCGTCCCT...   \n",
       "9                9  AAAAAAAAACTAATTCTGGAGCGACAAGTTTATACCCCATATTTTC...   \n",
       "10              10  AAAAAAAAACTCTGGTCGATCGAAGCTTTTTACTCGTCAACCACAA...   \n",
       "11              11  AAAAAAAAACTTGCATCCTACTGGAGGGTTAGGTACTAGACTTCTG...   \n",
       "12              12  AAAAAAAAATACGATGTGCCATACTAGATCGAAATTTGAACATGGA...   \n",
       "13              13  AAAAAAAAATATTTTCACTTTACTCGAGGACAATTATTCAACTGCC...   \n",
       "14              14  AAAAAAAAATCGTGCTGCCCAGATCTAGAGCAGTCCCTGTTGCCAT...   \n",
       "15              15  AAAAAAAACACAGTCCAGTCGAACACCATTCATCTAGGCGTTCATC...   \n",
       "16              16  AAAAAAAACATACAATTCCTAGAAGTCAAGAGATGGAGTTATAGCC...   \n",
       "17              17  AAAAAAAACGACATAACGGTTCAGGCGAAGACAAATCATTACCGCA...   \n",
       "18              18  AAAAAAAACGGGCGAGCCCGAGGAAGCGGCTTTTAATGAATATCTC...   \n",
       "19              19  AAAAAAAACGTAGATCGACCATGCTTTATCGTGCGGCTCTGAAATT...   \n",
       "20              20  AAAAAAAACGTGCCGGTATTTGACCGTACGGGACCCTTGCAGCTGT...   \n",
       "21              21  AAAAAAAACTAGCCGGAAGAGGCCTATCAGGTTCAGAGCACCGCCA...   \n",
       "22              22  AAAAAAAACTAGCCGTGATATTTTTTGTCGTCCGTGCGCCGTTGGG...   \n",
       "23              23  AAAAAAAACTCACAAATTAATCGTTCATTACGACGTTTCCCGCATG...   \n",
       "24              24  AAAAAAAACTCAGTTCGTTGTACGAGTTTTCTCTTCGAAGCGCTCA...   \n",
       "25              25  AAAAAAAACTGCACCTGGTTTTCAATCCTCCCGGATCTGTCAACGA...   \n",
       "26              26  AAAAAAAACTGCGCCTGGACTGACAAAAAGTTGCAACGCTGTCCCA...   \n",
       "27              27  AAAAAAAAGACGTAAAAGGTTTTTGACCTACACGATGAGTCTGGAC...   \n",
       "28              28  AAAAAAAAGATAACAGATAAGACGACTATTATCAAATTGACTTTAA...   \n",
       "29              29  AAAAAAAAGATCCGCCACGCACCGATTACCGGATAAACAAGCTTAT...   \n",
       "...            ...                                                ...   \n",
       "489318      489318  TTTTTTGTTCCTTAGTTATTAGTACAAGCGACATTCCCTAATTTAC...   \n",
       "489319      489319  TTTTTTTAAATATAACGAAGTGTACTAATCACCCATAAACCGCTAA...   \n",
       "489320      489320  TTTTTTTAACAACTCAGAATGCTAGGTATCTCAGTCGCAGGCCTAT...   \n",
       "489321      489321  TTTTTTTAAGGTGGCGGGAACGATAAGAATCGTACGACCACGCCGA...   \n",
       "489322      489322  TTTTTTTAATAGCCTCACGCACGTCTGCCGATATGCCTTCCCTAGA...   \n",
       "489323      489323  TTTTTTTACACGTCAAAGTGCGCTTTCTCTGTCTACCTACCGCCCA...   \n",
       "489324      489324  TTTTTTTACAGCTACGTCCAGCAACATAAATCTTTTCTTAAGACGC...   \n",
       "489325      489325  TTTTTTTAGCCTAAAATTGCGGCCGTCCGTACTTTGCACCACCCAT...   \n",
       "489326      489326  TTTTTTTAGTAGCGTCTCGTCCCTGCGAGGAGCCCGTGCTATATCA...   \n",
       "489327      489327  TTTTTTTATAACCGTCTACTTCGTCCTGCCCTACTAGCAAGTGTTC...   \n",
       "489328      489328  TTTTTTTATCAAATTGGACTAATTTTATTATAAAGCAGTGGTCTCG...   \n",
       "489329      489329  TTTTTTTATCAACGATCCCGACACTCTTGAAAGATATTGCCTTAAT...   \n",
       "489330      489330  TTTTTTTATTGAACTTCTACTTCCCGTACCTTCTTATCCAAACGCA...   \n",
       "489331      489331  TTTTTTTCACCAAACGTCCGCTGACCACGTCCGCACAGGCTGGCAT...   \n",
       "489332      489332  TTTTTTTCATTCATAGCCAATTAGTCACAGCAAGTGTCTCAGTTCT...   \n",
       "489333      489333  TTTTTTTCCCCTGCAGGTCTTACGGACCCGTGCCCCCTCGAAAACT...   \n",
       "489334      489334  TTTTTTTCCTTATAATCATTGAGTACACAAAGGGAACAGTGGCAGG...   \n",
       "489335      489335  TTTTTTTCGTGTAGTTCATGCCTCGAAACACCTCTGATAATAATTT...   \n",
       "489336      489336  TTTTTTTCTACATGTTCCCGTAGTTGGCGCGGTATGACGGAGAACT...   \n",
       "489337      489337  TTTTTTTCTGTTGAGCACTGGCTCATGAATCACCACGATATGGTTC...   \n",
       "489338      489338  TTTTTTTGATTCACCAGCTAAAGCTGACACCACTGACGTACAGAAA...   \n",
       "489339      489339  TTTTTTTGCACTGGAGCTCCTCACAACCGCCAAACCCCTAAGTTCC...   \n",
       "489340      489340  TTTTTTTGCGCGGTCTTGGGATGAACGCAACTCAGTGAGAAACTTC...   \n",
       "489341      489341  TTTTTTTGGCTAACGCGCATCATACTTCCCGAAAAGGTGGAGACCG...   \n",
       "489342      489342  TTTTTTTGTTAAACTTATTTCACGAAGTAAACGGGGGGAATGGCCC...   \n",
       "489343      489343  TTTTTTTGTTCCGAAGAGACCACTCAAACGTGAGCACGGCCAGACA...   \n",
       "489344      489344  TTTTTTTGTTCTCTCTTCAAAATCAGTCACCCCCAGTGCGTGCACT...   \n",
       "489345      489345  TTTTTTTTACAACCAGAGGATAGATTTAAGACGTCCGTCAGACCCG...   \n",
       "489346      489346  TTTTTTTTATAGCTGGTTGGTACCCCTGTATGGTCTTCCGACACGG...   \n",
       "489347      489347  TTTTTTTTCGGCATTTATGTAAGTGAGCTTGCGAAGACAAGCTACA...   \n",
       "\n",
       "        growth_rate   t0   t1  \n",
       "0         -1.237065   14    3  \n",
       "1          1.288663   14   49  \n",
       "2         -0.608457   13    6  \n",
       "3         -1.093964   12    3  \n",
       "4         -0.048841    7    6  \n",
       "5          0.822290   10   22  \n",
       "6         -1.013922    2    0  \n",
       "7         -0.104551   28   23  \n",
       "8          0.994061   57  143  \n",
       "9         -0.113760   49   40  \n",
       "10         1.470985   27  111  \n",
       "11         0.185787   46   51  \n",
       "12        -1.206294   39   10  \n",
       "13         1.293002   22   76  \n",
       "14        -3.093363   23    0  \n",
       "15         1.460833   98  391  \n",
       "16        -1.861220   55    7  \n",
       "17         0.025850   69   65  \n",
       "18         0.971994   13   33  \n",
       "19        -0.080824   58   49  \n",
       "20        -1.196243   17    4  \n",
       "21        -0.266707   26   18  \n",
       "22         0.235513   42   49  \n",
       "23        -0.183573   67   51  \n",
       "24         0.699876   19   36  \n",
       "25        -0.015393   20   18  \n",
       "26        -0.187954   87   66  \n",
       "27        -0.513146   19   10  \n",
       "28         1.447995   21   85  \n",
       "29         1.432764   19   76  \n",
       "...             ...  ...  ...  \n",
       "489318     1.065520    2    7  \n",
       "489319     1.789439   17   98  \n",
       "489320    -1.605599  102   18  \n",
       "489321    -1.994751   15    1  \n",
       "489322    -0.726240   17    7  \n",
       "489323     0.861219   45   99  \n",
       "489324     0.733667   80  154  \n",
       "489325     0.859063   64  140  \n",
       "489326     0.253026   59   70  \n",
       "489327     0.851946   51  111  \n",
       "489328    -1.787112   12    1  \n",
       "489329     0.984174   23   58  \n",
       "489330     0.526523    8   13  \n",
       "489331    -0.411746   45   27  \n",
       "489332     0.812929   13   28  \n",
       "489333     0.145315   15   16  \n",
       "489334     0.873148   24   54  \n",
       "489335     0.394846   21   29  \n",
       "489336    -1.707069   29    4  \n",
       "489337    -2.035573   24    2  \n",
       "489338    -0.163771   49   38  \n",
       "489339     0.135984   37   39  \n",
       "489340    -0.151698   18   14  \n",
       "489341    -0.278215   45   31  \n",
       "489342    -1.054744   24    7  \n",
       "489343     1.380601   80  295  \n",
       "489344     0.796187   26   54  \n",
       "489345     0.731318   10   20  \n",
       "489346    -0.944929   13    4  \n",
       "489347    -2.112534    8    0  \n",
       "\n",
       "[489348 rows x 5 columns]"
      ]
     },
     "execution_count": 13,
     "metadata": {},
     "output_type": "execute_result"
    }
   ],
   "source": [
    "data"
   ]
  },
  {
   "cell_type": "markdown",
   "metadata": {},
   "source": [
    "## One-hot encoding of the sequences.\n",
    "\n",
    "i.e. we're converting the sequences from being represented as a 50 character string of bases to a 4x50 matrix of 1's and 0's, with each row corresponding to a base and every column a position in the UTR."
   ]
  },
  {
   "cell_type": "code",
   "execution_count": 14,
   "metadata": {},
   "outputs": [],
   "source": [
    "# one hot encoding of UTRs\n",
    "# X = one hot encoding matrix\n",
    "# Y = growth rates\n",
    "\n",
    "def one_hot_encoding(df, seq_column, expression):\n",
    "    \n",
    "    bases = ['A','C','G','T']\n",
    "    base_dict = dict(zip(bases,range(4))) # {'A' : 0, 'C' : 1, 'G' : 2, 'T' : 3}\n",
    "\n",
    "    n = len(df)\n",
    "    \n",
    "    # length of the UTR sequence\n",
    "    # we also add 10 empty spaces to either side\n",
    "    total_width = df[seq_column].str.len().max() + 20\n",
    "    \n",
    "    # initialize an empty numpy ndarray of the appropriate size\n",
    "    X = np.zeros((n, 1, 4, total_width))\n",
    "    \n",
    "    # an array with the sequences that we will one-hot encode\n",
    "    seqs = df[seq_column].values\n",
    "    \n",
    "    # loop through the array of sequences to create an array that keras will actually read\n",
    "    for i in range(n):\n",
    "        seq = seqs[i]\n",
    "        \n",
    "        # loop through each individual sequence, from the 5' to 3' end\n",
    "        for b in range(len(seq)):\n",
    "            # this will assign a 1 to the appropriate base and position for this UTR sequence\n",
    "            X[i, 0, base_dict[seq[b]], int(b + round((total_width - len(seq))/2.))] = 1.\n",
    "    \n",
    "        # keep track of where we are\n",
    "        if (i%10000)==0:\n",
    "            print(i),\n",
    "        \n",
    "    X = X.astype(theano.config.floatX)\n",
    "    Y = np.asarray(df[expression].values,\n",
    "                   dtype = theano.config.floatX)[:, np.newaxis]\n",
    "    \n",
    "    return X, Y, total_width"
   ]
  },
  {
   "cell_type": "code",
   "execution_count": 15,
   "metadata": {},
   "outputs": [
    {
     "name": "stdout",
     "output_type": "stream",
     "text": [
      "0\n",
      "10000\n",
      "20000\n",
      "30000\n",
      "40000\n",
      "50000\n",
      "60000\n",
      "70000\n",
      "80000\n",
      "90000\n",
      "100000\n",
      "110000\n",
      "120000\n",
      "130000\n",
      "140000\n",
      "150000\n",
      "160000\n",
      "170000\n",
      "180000\n",
      "190000\n",
      "200000\n",
      "210000\n",
      "220000\n",
      "230000\n",
      "240000\n",
      "250000\n",
      "260000\n",
      "270000\n",
      "280000\n",
      "290000\n",
      "300000\n",
      "310000\n",
      "320000\n",
      "330000\n",
      "340000\n",
      "350000\n",
      "360000\n",
      "370000\n",
      "380000\n",
      "390000\n",
      "400000\n",
      "410000\n",
      "420000\n",
      "430000\n",
      "440000\n",
      "450000\n",
      "460000\n",
      "470000\n",
      "480000\n"
     ]
    }
   ],
   "source": [
    "X, Y, total_width = one_hot_encoding(data, 'UTR', 'growth_rate')"
   ]
  },
  {
   "cell_type": "markdown",
   "metadata": {},
   "source": [
    "## Split the data into test and training sets"
   ]
  },
  {
   "cell_type": "markdown",
   "metadata": {},
   "source": [
    "If we have more reads for a given UTR at the outset, we can be more confident that we have made an accurate measurement. For this reason, we use those UTRs with the most reads to test our model on, because these should have the least experimental noise. We hold out the UTRs that fall in top 5% of reads at the first time point as our test set."
   ]
  },
  {
   "cell_type": "code",
   "execution_count": 21,
   "metadata": {},
   "outputs": [],
   "source": [
    "# a sorted numpy array of UTR indexes, from least reads to most reads\n",
    "sorted_inds = data.sort_values('t0').index.values\n",
    "\n",
    "\n",
    "train_inds = sorted_inds[:int(0.95*len(sorted_inds))] # 95% of the data as the training set\n",
    "\n",
    "\n",
    "test_inds = sorted_inds[int(0.95*len(sorted_inds)):] # UTRs with most reads at time point 0 as the test set\n",
    "\n",
    "# set the seed before randomly shuffling the data\n",
    "seed = 0.5\n",
    "random.shuffle(train_inds, lambda :seed)"
   ]
  },
  {
   "cell_type": "markdown",
   "metadata": {},
   "source": [
    "## Hyperparameter search\n",
    "\n",
    "Before training the model, we perform a hyperparameter search to narrow down which model architecture to use. Of course, we do a fair amount of narrowing ourselves by selecting which architectures are available for the search.\n",
    "\n",
    "The dictionary 'hyperparams' has the same values as the 'space' object, 'space' is just the form that's compatible with hyperopt."
   ]
  },
  {
   "cell_type": "code",
   "execution_count": 22,
   "metadata": {},
   "outputs": [],
   "source": [
    "hyperparams = {'conv_width' : [9, 13, 17, 25],\n",
    "               'conv_filters' : [32, 64, 128, 256],\n",
    "               'conv_layers' : [2, 3, 4],\n",
    "               'dense_layers' : [1, 2],\n",
    "               'conv_dropout' : [None, 0.15],\n",
    "               'dense_dropout' : [None, 0.1, 0.25, 0.5],\n",
    "               'dense_units' : [32, 64, 128, 256]}"
   ]
  },
  {
   "cell_type": "code",
   "execution_count": 23,
   "metadata": {},
   "outputs": [],
   "source": [
    "space = {   'conv_width': hp.choice('conv_width', [9, 13, 17, 25]),\n",
    "            'conv_filters': hp.choice('conv_filters', [32, 64, 128, 256]),\n",
    "            'conv_layers': hp.choice('conv_layers', [2, 3, 4]),\n",
    "            'dense_layers': hp.choice('dense_layers', [1, 2]),\n",
    "            'conv_dropout': hp.choice('conv_dropout',  [None, 0.15]),\n",
    "            'dense_dropout': hp.choice('dense_dropout', [None, 0.1, 0.25, 0.5]),\n",
    "            'dense_units': hp.choice('dense_units', [32, 64, 128, 256]),\n",
    "        }"
   ]
  },
  {
   "cell_type": "markdown",
   "metadata": {},
   "source": [
    "#### Defining a function to build the model\n",
    "\n",
    "- Note: we reuse this same function lower down after we've decide on a model architecture "
   ]
  },
  {
   "cell_type": "code",
   "execution_count": 24,
   "metadata": {},
   "outputs": [],
   "source": [
    "def create_model(params):\n",
    "    model = Sequential()\n",
    "    model.add(Convolution2D(params['conv_filters'],\n",
    "                            4,\n",
    "                            params['conv_width'],\n",
    "                            border_mode = 'valid',\n",
    "                            input_shape = (1, 4, total_width),\n",
    "                            activation = 'relu'))\n",
    "    \n",
    "    # add dropout at the convolutional layers if appropriate\n",
    "    if params['conv_dropout']:\n",
    "        model.add(Dropout(p = params['conv_dropout']))\n",
    "    \n",
    "    # add the appropriate number of additional convolutional layers, along with dropout\n",
    "    for i in range(params['conv_layers'] - 1):\n",
    "        model.add(Convolution2D(params['conv_filters'],\n",
    "                                1,\n",
    "                                params['conv_width'],\n",
    "                                border_mode = 'same',\n",
    "                                activation = 'relu'))\n",
    "        \n",
    "        if params['conv_dropout']:\n",
    "            model.add(Dropout(params['conv_dropout']))\n",
    "    \n",
    "    model.add(Flatten())\n",
    "    \n",
    "    # add the appropriate number of dense layers and dropout\n",
    "    for i in range(params['dense_layers']):\n",
    "        model.add(Dense(output_dim = params['dense_units'],\n",
    "                        activation = 'relu'))\n",
    "        \n",
    "        if params['dense_dropout']:\n",
    "            model.add(Dropout(p = params['dense_dropout']))\n",
    "    \n",
    "    # add the output layer, since we want to predict the \"growth rate\" we only want a single \n",
    "    # number, hence the single dimension\n",
    "    model.add(Dense(output_dim = 1))\n",
    "    \n",
    "    # compile the model\n",
    "    model.compile(loss = 'mean_squared_error',\n",
    "                  optimizer = 'adam',\n",
    "                  metrics = ['mean_squared_error'])\n",
    "    \n",
    "    return model"
   ]
  },
  {
   "cell_type": "markdown",
   "metadata": {},
   "source": [
    "#### We also need a function that builds and fits the model, which we can pass to the hyperparameter search.\n",
    "\n",
    "- It also returns some information regarding overfitting, etc.\n",
    "- note that the data is included inside the function, I'm not passing it to the function."
   ]
  },
  {
   "cell_type": "code",
   "execution_count": 25,
   "metadata": {},
   "outputs": [],
   "source": [
    "def f_nn(params):\n",
    "    \n",
    "    model = create_model(params)\n",
    "    \n",
    "    # track model overfitting\n",
    "    earlyStopping = keras.callbacks.EarlyStopping(monitor = 'val_loss',\n",
    "                                                  patience = 1,\n",
    "                                                  verbose = 0,\n",
    "                                                  mode = 'auto')\n",
    "    history = keras.callbacks.History()\n",
    "    \n",
    "    # keep track of where we are while the code in this cell is running\n",
    "    global n\n",
    "    print(\"\\n\"), n\n",
    "    n+=1\n",
    "    print(params)\n",
    "    \n",
    "    # fit the model\n",
    "    # note that I'm not passing the data to this function, I've just included it here (i.e. I've\n",
    "    # included X and Y)\n",
    "    model.fit(X[train_inds],\n",
    "              Y[train_inds],\n",
    "              validation_split = 0.2,\n",
    "              callbacks = [earlyStopping, history],\n",
    "              verbose = 0,\n",
    "              nb_epoch = 100)\n",
    "    \n",
    "    print('MSE:',earlyStopping.best)\n",
    "    return {'loss': earlyStopping.best, 'status': STATUS_OK}"
   ]
  },
  {
   "cell_type": "markdown",
   "metadata": {},
   "source": [
    "#### Actually perform the hyperparameter search.\n",
    "\n",
    "A note here, there're random elements in keras and hypfmin that I don't understand how to control, so I haven't been able to set a seed that will allow you to obtain exactly the same results for the hyperparameter search that we have."
   ]
  },
  {
   "cell_type": "code",
   "execution_count": 65,
   "metadata": {
    "scrolled": false
   },
   "outputs": [
    {
     "name": "stdout",
     "output_type": "stream",
     "text": [
      "\n",
      "\n",
      "{'conv_dropout': None, 'conv_filters': 64, 'conv_layers': 3, 'conv_width': 9, 'dense_dropout': None, 'dense_layers': 2, 'dense_units': 256}\n",
      "MSE: 0.5931184581144195\n",
      "\n",
      "\n",
      "{'conv_dropout': 0.15, 'conv_filters': 64, 'conv_layers': 2, 'conv_width': 9, 'dense_dropout': 0.1, 'dense_layers': 2, 'dense_units': 32}\n",
      "MSE: 0.6086380608088793\n",
      "\n",
      "\n",
      "{'conv_dropout': 0.15, 'conv_filters': 256, 'conv_layers': 2, 'conv_width': 25, 'dense_dropout': 0.5, 'dense_layers': 2, 'dense_units': 64}\n",
      "MSE: 0.9965437406456382\n",
      "\n",
      "\n",
      "{'conv_dropout': None, 'conv_filters': 128, 'conv_layers': 2, 'conv_width': 9, 'dense_dropout': None, 'dense_layers': 1, 'dense_units': 32}\n",
      "MSE: 0.6137590202462999\n",
      "\n",
      "\n",
      "{'conv_dropout': 0.15, 'conv_filters': 32, 'conv_layers': 4, 'conv_width': 13, 'dense_dropout': 0.25, 'dense_layers': 1, 'dense_units': 128}\n",
      "MSE: 0.6053521354562381\n",
      "best:  {'conv_dropout': 0, 'conv_filters': 1, 'conv_layers': 1, 'conv_width': 0, 'dense_dropout': 0, 'dense_layers': 1, 'dense_units': 3}\n"
     ]
    }
   ],
   "source": [
    "from keras import backend as K\n",
    "K.set_image_dim_ordering('th')\n",
    "n = 0\n",
    "\n",
    "trials = Trials()\n",
    "best = hypfmin(f_nn, space,algo = tpe.suggest,max_evals = 5,trials = trials)\n",
    "\n",
    "print('best: ',best)\n"
   ]
  },
  {
   "cell_type": "markdown",
   "metadata": {},
   "source": [
    "pickle the model"
   ]
  },
  {
   "cell_type": "code",
   "execution_count": 38,
   "metadata": {},
   "outputs": [],
   "source": [
    "with open(model_params_dir + 'hyperparam_test.pkl', 'wb') as f:\n",
    "    pickle.dump(trials.trials, f)"
   ]
  },
  {
   "cell_type": "markdown",
   "metadata": {},
   "source": [
    "and take a look a the winning architecture"
   ]
  },
  {
   "cell_type": "code",
   "execution_count": 39,
   "metadata": {},
   "outputs": [],
   "source": [
    "opt_params = {}\n",
    "\n",
    "for p in best:\n",
    "    opt_params[p] = hyperparams[p][best[p]]"
   ]
  },
  {
   "cell_type": "code",
   "execution_count": 40,
   "metadata": {},
   "outputs": [
    {
     "data": {
      "text/plain": [
       "{'conv_dropout': 0.15,\n",
       " 'conv_filters': 128,\n",
       " 'conv_layers': 3,\n",
       " 'conv_width': 17,\n",
       " 'dense_dropout': None,\n",
       " 'dense_layers': 1,\n",
       " 'dense_units': 128}"
      ]
     },
     "execution_count": 40,
     "metadata": {},
     "output_type": "execute_result"
    }
   ],
   "source": [
    "opt_params"
   ]
  },
  {
   "cell_type": "markdown",
   "metadata": {},
   "source": [
    "## Create and train the convolutional neural network"
   ]
  },
  {
   "cell_type": "code",
   "execution_count": 41,
   "metadata": {},
   "outputs": [],
   "source": [
    "model = create_model(opt_params)"
   ]
  },
  {
   "cell_type": "code",
   "execution_count": 42,
   "metadata": {},
   "outputs": [],
   "source": [
    "earlyStopping = keras.callbacks.EarlyStopping(monitor='val_loss',\n",
    "                                              patience = 0,\n",
    "                                              verbose = 0,\n",
    "                                              mode = 'auto')\n",
    "\n",
    "history = keras.callbacks.History()\n",
    "\n",
    "modelcheckpoint = keras.callbacks.ModelCheckpoint(model_params_dir + 'model_weights.hdf5',\n",
    "                                                  monitor = 'val_loss',\n",
    "                                                  verbose = 0,\n",
    "                                                  save_best_only = True,\n",
    "                                                  mode = 'auto')"
   ]
  },
  {
   "cell_type": "code",
   "execution_count": 43,
   "metadata": {},
   "outputs": [
    {
     "name": "stdout",
     "output_type": "stream",
     "text": [
      "Train on 418392 samples, validate on 46488 samples\n",
      "Epoch 1/100\n",
      "418392/418392 [==============================] - 41s - loss: 0.8189 - mean_squared_error: 0.8189 - val_loss: 0.6075 - val_mean_squared_error: 0.6075\n",
      "Epoch 2/100\n",
      "418392/418392 [==============================] - 41s - loss: 0.7546 - mean_squared_error: 0.7546 - val_loss: 0.6099 - val_mean_squared_error: 0.6099\n"
     ]
    },
    {
     "data": {
      "text/plain": [
       "<keras.callbacks.History at 0x7f42d32e7898>"
      ]
     },
     "execution_count": 43,
     "metadata": {},
     "output_type": "execute_result"
    }
   ],
   "source": [
    "model.fit(X[train_inds],\n",
    "          Y[train_inds],\n",
    "          validation_split = 0.1,\n",
    "          callbacks = [earlyStopping,\n",
    "                       history,\n",
    "                       modelcheckpoint],\n",
    "          verbose=1,\n",
    "          nb_epoch = 100)"
   ]
  },
  {
   "cell_type": "markdown",
   "metadata": {},
   "source": [
    "#### Save the model"
   ]
  },
  {
   "cell_type": "code",
   "execution_count": 44,
   "metadata": {},
   "outputs": [],
   "source": [
    "json_string = model.to_json()\n",
    "open(model_params_dir + 'model_arch.json', 'w').write(json_string)\n",
    "model.save_weights(model_params_dir + 'model_weightsN.h5')"
   ]
  },
  {
   "cell_type": "markdown",
   "metadata": {},
   "source": [
    "## Use the model to predict the growth rates from our library of 5' UTR sequences\n",
    "\n",
    "- we do this on the entire library because we want to compare the fits of the test and training data.\n",
    "    - you would generally expect to maybe do a little better on the training data. However, since we use the highest quality data for our test set -- the values that we're most confident about -- it's not maybe not that surprising that our predictions are more accurate on our test set (see results two cells down)."
   ]
  },
  {
   "cell_type": "code",
   "execution_count": 45,
   "metadata": {},
   "outputs": [
    {
     "name": "stdout",
     "output_type": "stream",
     "text": [
      "488320/489348 [============================>.] - ETA: 0s"
     ]
    }
   ],
   "source": [
    "Y_pred = model.predict(X,verbose=1)"
   ]
  },
  {
   "cell_type": "code",
   "execution_count": 56,
   "metadata": {},
   "outputs": [
    {
     "name": "stdout",
     "output_type": "stream",
     "text": [
      "0.4660663204465578\n",
      "0.6038322975433061\n"
     ]
    }
   ],
   "source": [
    "# R^2 value for our predictions on the training set\n",
    "print(scipy.stats.pearsonr(Y[train_inds].flatten(),Y_pred[train_inds].flatten())[0]**2)\n",
    "# and on the test set\n",
    "print(scipy.stats.pearsonr(Y[test_inds].flatten(),Y_pred[test_inds].flatten())[0]**2)"
   ]
  },
  {
   "cell_type": "markdown",
   "metadata": {},
   "source": [
    "## Make sure the model architecture and parameters are saved correctly"
   ]
  },
  {
   "cell_type": "code",
   "execution_count": 57,
   "metadata": {},
   "outputs": [
    {
     "name": "stdout",
     "output_type": "stream",
     "text": [
      "hyperparam_test.pkl  model_weights.h5\t model_weightsN.h5\r\n",
      "model_arch.json      model_weights.hdf5\r\n"
     ]
    }
   ],
   "source": [
    "!ls {model_params_dir}"
   ]
  },
  {
   "cell_type": "code",
   "execution_count": 58,
   "metadata": {},
   "outputs": [],
   "source": [
    "model = keras.models.model_from_json(open(model_params_dir + 'model_arch.json').read())\n",
    "model.load_weights(model_params_dir + 'model_weights.hdf5')\n",
    "model.compile(loss='mean_squared_error', optimizer='adam')"
   ]
  },
  {
   "cell_type": "code",
   "execution_count": 59,
   "metadata": {},
   "outputs": [
    {
     "name": "stdout",
     "output_type": "stream",
     "text": [
      "489348/489348 [==============================] - 17s    \n"
     ]
    }
   ],
   "source": [
    "Y_pred = model.predict(X, verbose=1)"
   ]
  },
  {
   "cell_type": "code",
   "execution_count": 66,
   "metadata": {},
   "outputs": [
    {
     "name": "stdout",
     "output_type": "stream",
     "text": [
      "0.45515014748617943\n",
      "0.5949599898707483\n"
     ]
    }
   ],
   "source": [
    "# R^2 value for our predictions on the training set\n",
    "print(scipy.stats.pearsonr(Y[train_inds].flatten(),\n",
    "                           Y_pred[train_inds].flatten())[0]**2)\n",
    "\n",
    "# and on the test set\n",
    "print(scipy.stats.pearsonr(Y[test_inds].flatten(),\n",
    "                           Y_pred[test_inds].flatten())[0]**2)"
   ]
  },
  {
   "cell_type": "markdown",
   "metadata": {},
   "source": [
    "## Plot results"
   ]
  },
  {
   "cell_type": "code",
   "execution_count": 62,
   "metadata": {},
   "outputs": [
    {
     "data": {
      "text/plain": [
       "Text(-3,1.25,'CNN predictions vs. test set')"
      ]
     },
     "execution_count": 62,
     "metadata": {},
     "output_type": "execute_result"
    },
    {
     "data": {
      "image/png": "[encoded data removed]",
      "text/plain": [
       "<matplotlib.figure.Figure at 0x7f42d17d0860>"
      ]
     },
     "metadata": {},
     "output_type": "display_data"
    }
   ],
   "source": [
    "# data\n",
    "x = Y_pred[test_inds].flatten()\n",
    "y = Y[test_inds].flatten()\n",
    "\n",
    "# calculate R^2\n",
    "r2 = scipy.stats.pearsonr(x, y)[0]**2\n",
    "\n",
    "\n",
    "g = sns.jointplot(x,\n",
    "                  y,\n",
    "                  stat_func = None,\n",
    "                  kind = 'scatter',\n",
    "                  s = 5,\n",
    "                  alpha = 0.1,\n",
    "                  size = 5)\n",
    "\n",
    "g.ax_joint.set_xlabel('Predicted log$_2$ Growth Rate')\n",
    "g.ax_joint.set_ylabel('Measured log$_2$ Growth Rate')\n",
    "\n",
    "\n",
    "\n",
    "text = \"R$^2$ = {:0.2}\".format(r2)\n",
    "plt.annotate(text, xy=(-5.5, 0.95), xycoords='axes fraction')\n",
    "\n",
    "plt.title(\"CNN predictions vs. test set\", x = -3, y = 1.25)"
   ]
  },
  {
   "cell_type": "markdown",
   "metadata": {},
   "source": [
    "## Save data and predictions to csv"
   ]
  },
  {
   "cell_type": "code",
   "execution_count": 63,
   "metadata": {},
   "outputs": [],
   "source": [
    "data['pred_growth_rate'] = Y_pred"
   ]
  },
  {
   "cell_type": "code",
   "execution_count": 64,
   "metadata": {},
   "outputs": [],
   "source": [
    "data.to_csv(data_dir + 'Random_UTRs_with_predictionsN.csv')"
   ]
  }
 ],
 "metadata": {
  "kernelspec": {
   "display_name": "Python 3",
   "language": "python",
   "name": "python3"
  },
  "language_info": {
   "codemirror_mode": {
    "name": "ipython",
    "version": 3
   },
   "file_extension": ".py",
   "mimetype": "text/x-python",
   "name": "python",
   "nbconvert_exporter": "python",
   "pygments_lexer": "ipython3",
   "version": "3.6.3"
  }
 },
 "nbformat": 4,
 "nbformat_minor": 1
}
